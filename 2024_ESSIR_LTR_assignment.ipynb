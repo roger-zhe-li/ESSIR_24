{
  "cells": [
    {
      "cell_type": "markdown",
      "id": "flush-weekend",
      "metadata": {
        "id": "flush-weekend"
      },
      "source": [
        "# Learning to Rank Assignment for ESSIR'24\n",
        "\n",
        "In this assignment you will implement pointwise, pairwise, listwise  and metric-based Learning to Rank (LTR) losses to optimize four ranking models and evaluate the differences in their performance."
      ]
    },
    {
      "cell_type": "markdown",
      "id": "novel-module",
      "metadata": {
        "id": "novel-module"
      },
      "source": [
        "# Introduction\n",
        "\n",
        "## Package and Dataset Setup\n",
        "\n",
        "We will start by installing the [Rax 🦖 package](https://rax.readthedocs.io/en/stable/):"
      ]
    },
    {
      "cell_type": "code",
      "execution_count": null,
      "id": "QcpMftg0JCh4",
      "metadata": {
        "id": "QcpMftg0JCh4",
        "colab": {
          "base_uri": "https://localhost:8080/"
        },
        "outputId": "e6a1eb28-29fb-4448-f807-0b04589efbcf"
      },
      "outputs": [
        {
          "output_type": "stream",
          "name": "stdout",
          "text": [
            "\u001b[?25l     \u001b[90m━━━━━━━━━━━━━━━━━━━━━━━━━━━━━━━━━━━━━━━━\u001b[0m \u001b[32m0.0/78.9 kB\u001b[0m \u001b[31m?\u001b[0m eta \u001b[36m-:--:--\u001b[0m\r\u001b[2K     \u001b[91m━━━━━━━━━━━━━━━━━━━━\u001b[0m\u001b[91m╸\u001b[0m\u001b[90m━━━━━━━━━━━━━━━━━━━\u001b[0m \u001b[32m41.0/78.9 kB\u001b[0m \u001b[31m1.1 MB/s\u001b[0m eta \u001b[36m0:00:01\u001b[0m\r\u001b[2K     \u001b[90m━━━━━━━━━━━━━━━━━━━━━━━━━━━━━━━━━━━━━━━━\u001b[0m \u001b[32m78.9/78.9 kB\u001b[0m \u001b[31m1.4 MB/s\u001b[0m eta \u001b[36m0:00:00\u001b[0m\n",
            "\u001b[?25h"
          ]
        }
      ],
      "source": [
        "!pip install -q pip install rax"
      ]
    },
    {
      "cell_type": "markdown",
      "id": "dbaed2c0",
      "metadata": {
        "id": "dbaed2c0"
      },
      "source": [
        "Next, import the packages that we will use in this notebook:"
      ]
    },
    {
      "cell_type": "code",
      "execution_count": null,
      "id": "accessory-westminster",
      "metadata": {
        "id": "accessory-westminster"
      },
      "outputs": [],
      "source": [
        "# usage of numpy is discouraged\n",
        "import numpy as np\n",
        "# tensorflow is only used for data loading and pre-processing\n",
        "import tensorflow as tf\n",
        "import tensorflow_datasets as tfds\n",
        "# the following jax packages are used for the LTR optimization and evaluation\n",
        "import jax\n",
        "import jax.numpy as jnp\n",
        "import flax\n",
        "import optax\n",
        "import rax\n",
        "# the following imports make our code briefer\n",
        "from flax import linen as nn\n",
        "from flax.training import train_state\n",
        "from functools import partial\n",
        "# we will time some of the runs\n",
        "import time\n",
        "# and make some plots\n",
        "import matplotlib.pyplot as plt\n",
        "plt.rcParams['figure.figsize'] = [8, 3]"
      ]
    },
    {
      "cell_type": "markdown",
      "id": "31dyscm5ch4X",
      "metadata": {
        "id": "31dyscm5ch4X"
      },
      "source": [
        "The following code reades in the MSLR-Web10k dataset, applies a feature transformation, and creates padded batches that enable us to quickly iterate over the data.\n",
        "\n",
        "You do not have to understand this function, but should understand its output. We will discuss the output later.\n",
        "\n",
        "This code can take about seven minutes to run, we advise you start it as-soon-as-possible and continue reading while it is busy."
      ]
    },
    {
      "cell_type": "code",
      "execution_count": null,
      "id": "9lrmSIBjx60J",
      "metadata": {
        "id": "9lrmSIBjx60J",
        "colab": {
          "base_uri": "https://localhost:8080/",
          "height": 329,
          "referenced_widgets": [
            "5147fb16ce434d859a717953a7db5e03",
            "f5b27ca0fbd240d4a3c1e40ee4779f61",
            "97bad4b0e63042008d48b93fe9a62dbd",
            "d7345936c52f4c31a82a167b6d4a6083",
            "d71e6379660a422cbe00053a26929fa6",
            "e77cf425b1b74b389f06ed9e862d9053",
            "f34921063cee4cd29ae68555b607ada9",
            "3ec83c02043b44b18b57d97e49cc55c3",
            "cfe77ee58d424996a9bf98cd056cc325",
            "660d87c366734717a2e90bf8f6295c95",
            "e138efce97f34a90b452d13ffe4fac6e",
            "6f9e1d8165ef495f92ce988b1f72e48a",
            "c974e986efbf4930a63960bf31932975",
            "118c995a076549b8bc049eb3dd333fc2",
            "a6e22bb84ee244cda2e46316df0221b0",
            "0a15c31c1d584d2c916ebe1d91b4b6ea",
            "491b3990b05645cb8786d8201b876e3b",
            "b128d72cb8634e7d91399a6cf42ddca6",
            "9294b046315049dc99ac11a3e6d4f514",
            "829f58f1ecf34aef8845c85e39d2b64b",
            "d4245e0e645e4935961498ee7fdcb1e1",
            "95188b0ba4f74b6f8c2a164d345782fd",
            "fd50af4234e24c87ad60d01d55d25ae6",
            "90867eb0f88946efb08bfb51851fec49",
            "acacca80647b44909235cd3603ea9130",
            "7f34afbf65164a94aa85162e06c2936e",
            "902e270c23784ebeb20710c4dd2632a1",
            "5bdc96cc864747c59ef033beea12e37a",
            "77efb551d5684837bb64803461397bb1",
            "f4f195531893423fafdf7f9017e81f81",
            "080a597600af466abb101d58d4bba69a",
            "73bc8a7a701845f9aa9d0067bd0ab474",
            "d6f0f18a1f524e1885f22b7b430c78fa",
            "74a39bc65e92419583453a719dbbc1aa",
            "944d9a3c653e4772ab59d2450b8cf077",
            "272ed188e1fb41798da2df38059f77e7",
            "552ae343728a4e2fabd8e8457a268611",
            "19d510b057dd45199afb9dbd0d365016",
            "fe11e368862c404e9b81c24f045b2ec8",
            "4ff00f7e74bb4f7f83fe16705d26b7a5",
            "04187240875e4cbfae6eabb484fc3a6f",
            "6ef92fe79093457c8004d0ebe2bf672a",
            "6115ae91eb02483db76a335b40e28441",
            "a30abaf00d7c4229b30f867e1d213253",
            "f3ee4ff2d60e4814b3459a6ac11de5cc",
            "a5da132eb5ee49bdb39291b6aa766068",
            "4c37fbba73354d4a93884a7fded2fbfc",
            "a4f44c5273d04042b8c1400b6ecf4a46",
            "31ab3ad3b8b640999d0532aff9df8069",
            "8602b07c2f9f408b8b1a4e2bef7a1c11",
            "e5ef18be11f14dcdb0630c16c8b1f1fa",
            "deb8b1cb6850458dbec734a12f207bc7",
            "06ae1c18221241d4954cf5b9b54440f0",
            "1b76ef835abb4ab290b550925a2a5c25",
            "3ea027e76b0849a68dfa19b683d48057",
            "2370f38344d94675a5d7d6f644e01785",
            "be5043b2f8364c56a554f47eeafd76c2",
            "aa244b79ae8e4714bf24c1a4a446dae1",
            "cafa70b046544c6a9b3669ebaf2d2126",
            "76e11341494e46f6af9d0768a3f31da5",
            "6405d5f4f1c24763b0f85528c914d559",
            "6ef72117345f4eebbfe8cfff1a580c37",
            "b135546f6388407dabb5ff076c30bd6f",
            "0e9eb1627a3c4726aa855ecaae061015",
            "f2f3d1f2f6494ac0a1f4ffdbc39c6575",
            "ec11f93f903e41e5b3799490943f378e",
            "c495ab42cd224d6db18b2829aeccdfbd",
            "2b81e67968f548adb0a551668e3b1a02",
            "b8472dc9894c48028d2bcfca8f141501",
            "f24aeb60cb764a78bf27b04d07f6ecfe",
            "54481e9a0e284be6b5df9db6f6e3fcec",
            "50621b80653f4d90a09d2b12da3a12b3",
            "73325a7de92e40d9a64a67bc7a1a3837",
            "100ce4872d344cfe8354f28d56161683",
            "20162f88de1b427785d2bb922d9de29d",
            "b80d24bdf32546cfa880b821a817854a",
            "773b37a21c0f4e76b252d02d64e93059",
            "6ab41bfb3ca242698a65fab48f4488d7",
            "3ea9ea38d81b4ec783cff6d8b905a92d",
            "21f66588af0842c89cddc7ca642358eb",
            "19a4803a079c4b778a2698d42b0f9e9e",
            "210ba4c0c8cf412cb47bc98ff8c9928b",
            "2acd3b55858844c2a95d10e0d8397622",
            "1c59295f3d6446af9dce22f892dcfe31",
            "b9343ca69d0d43389a47a6912ae21808",
            "3683bdce2ae44d2aadb71841dc67e3b6",
            "70c573d001984796a6294ad346cf1eae",
            "ccdcd2e4d0fe4aceb6993cdf35ee3648",
            "eade98533ce54af0843c010a3fdeef3b",
            "a8e716b484164a20805fe82897c41f75",
            "61e379e308aa4a5387936ffe65f3cd74",
            "c30d2d9233294ae88dcb1c595c4bb7de",
            "0354c5a561fe413599e083fe1fc07d77",
            "fd214e7835d04234ab63c18681e0af71",
            "bb1f04adb9924fb18d4523bd3223155f",
            "1cc8132b5165494f871135b1e822f6d8",
            "92d76ae272c2446abaf0908da19c7257",
            "6166c96a96cb44098955e9193fa0a318",
            "b175e595e23b4e2b8c753c2083dfe2ca",
            "0ec42f024e954fbdabe14f13ed2e02f4",
            "58cca7a0fe964509abd3914f7266c2fb",
            "08ba57a77ebe4a0aa03b75829b65bdee",
            "df984bb387ea45628e719c4c2ca2df71",
            "9c0e9f7672324aa9be611362c9592c84",
            "5452b5b6517d4fceb2d4a7d6ac9256af",
            "a3f9dfc1c961470b91cb7bd3fcaf859f",
            "38e4b4fa03814c50b8f01eb7eedc552d",
            "cddb34b90b1a494c9d6fc094060ea004",
            "7e7c67dc66d544d8b8c41535dfb29f59",
            "835d093e8d7a4bfd8ca0dcdd72ca5af2"
          ]
        },
        "outputId": "73f9ed19-1580-49b1-dce5-a0f035e15e5b"
      },
      "outputs": [
        {
          "output_type": "stream",
          "name": "stdout",
          "text": [
            "Downloading and preparing dataset 1.15 GiB (download: 1.15 GiB, generated: 310.08 MiB, total: 1.45 GiB) to /root/tensorflow_datasets/mslr_web/10k_fold1/1.2.0...\n"
          ]
        },
        {
          "output_type": "display_data",
          "data": {
            "text/plain": [
              "Dl Completed...: 0 url [00:00, ? url/s]"
            ],
            "application/vnd.jupyter.widget-view+json": {
              "version_major": 2,
              "version_minor": 0,
              "model_id": "5147fb16ce434d859a717953a7db5e03"
            }
          },
          "metadata": {}
        },
        {
          "output_type": "display_data",
          "data": {
            "text/plain": [
              "Dl Size...: 0 MiB [00:00, ? MiB/s]"
            ],
            "application/vnd.jupyter.widget-view+json": {
              "version_major": 2,
              "version_minor": 0,
              "model_id": "6f9e1d8165ef495f92ce988b1f72e48a"
            }
          },
          "metadata": {}
        },
        {
          "output_type": "display_data",
          "data": {
            "text/plain": [
              "Extraction completed...: 0 file [00:00, ? file/s]"
            ],
            "application/vnd.jupyter.widget-view+json": {
              "version_major": 2,
              "version_minor": 0,
              "model_id": "fd50af4234e24c87ad60d01d55d25ae6"
            }
          },
          "metadata": {}
        },
        {
          "output_type": "display_data",
          "data": {
            "text/plain": [
              "Generating splits...:   0%|          | 0/3 [00:00<?, ? splits/s]"
            ],
            "application/vnd.jupyter.widget-view+json": {
              "version_major": 2,
              "version_minor": 0,
              "model_id": "74a39bc65e92419583453a719dbbc1aa"
            }
          },
          "metadata": {}
        },
        {
          "output_type": "display_data",
          "data": {
            "text/plain": [
              "Generating train examples...:   0%|          | 0/6000 [00:00<?, ? examples/s]"
            ],
            "application/vnd.jupyter.widget-view+json": {
              "version_major": 2,
              "version_minor": 0,
              "model_id": "f3ee4ff2d60e4814b3459a6ac11de5cc"
            }
          },
          "metadata": {}
        },
        {
          "output_type": "display_data",
          "data": {
            "text/plain": [
              "Shuffling /root/tensorflow_datasets/mslr_web/10k_fold1/incomplete.89F9CE_1.2.0/mslr_web-train.tfrecord*...:   …"
            ],
            "application/vnd.jupyter.widget-view+json": {
              "version_major": 2,
              "version_minor": 0,
              "model_id": "2370f38344d94675a5d7d6f644e01785"
            }
          },
          "metadata": {}
        },
        {
          "output_type": "display_data",
          "data": {
            "text/plain": [
              "Generating vali examples...:   0%|          | 0/2000 [00:00<?, ? examples/s]"
            ],
            "application/vnd.jupyter.widget-view+json": {
              "version_major": 2,
              "version_minor": 0,
              "model_id": "c495ab42cd224d6db18b2829aeccdfbd"
            }
          },
          "metadata": {}
        },
        {
          "output_type": "display_data",
          "data": {
            "text/plain": [
              "Shuffling /root/tensorflow_datasets/mslr_web/10k_fold1/incomplete.89F9CE_1.2.0/mslr_web-vali.tfrecord*...:   0…"
            ],
            "application/vnd.jupyter.widget-view+json": {
              "version_major": 2,
              "version_minor": 0,
              "model_id": "6ab41bfb3ca242698a65fab48f4488d7"
            }
          },
          "metadata": {}
        },
        {
          "output_type": "display_data",
          "data": {
            "text/plain": [
              "Generating test examples...:   0%|          | 0/2000 [00:00<?, ? examples/s]"
            ],
            "application/vnd.jupyter.widget-view+json": {
              "version_major": 2,
              "version_minor": 0,
              "model_id": "eade98533ce54af0843c010a3fdeef3b"
            }
          },
          "metadata": {}
        },
        {
          "output_type": "display_data",
          "data": {
            "text/plain": [
              "Shuffling /root/tensorflow_datasets/mslr_web/10k_fold1/incomplete.89F9CE_1.2.0/mslr_web-test.tfrecord*...:   0…"
            ],
            "application/vnd.jupyter.widget-view+json": {
              "version_major": 2,
              "version_minor": 0,
              "model_id": "0ec42f024e954fbdabe14f13ed2e02f4"
            }
          },
          "metadata": {}
        },
        {
          "output_type": "stream",
          "name": "stdout",
          "text": [
            "Dataset mslr_web downloaded and prepared to /root/tensorflow_datasets/mslr_web/10k_fold1/1.2.0. Subsequent calls will reuse this data.\n"
          ]
        },
        {
          "output_type": "stream",
          "name": "stderr",
          "text": [
            "WARNING:absl:`FeatureConnector.dtype` is deprecated. Please change your code to use NumPy with the field `FeatureConnector.np_dtype` or use TensorFlow with the field `FeatureConnector.tf_dtype`.\n",
            "WARNING:absl:`FeatureConnector.dtype` is deprecated. Please change your code to use NumPy with the field `FeatureConnector.np_dtype` or use TensorFlow with the field `FeatureConnector.tf_dtype`.\n",
            "WARNING:absl:`FeatureConnector.dtype` is deprecated. Please change your code to use NumPy with the field `FeatureConnector.np_dtype` or use TensorFlow with the field `FeatureConnector.tf_dtype`.\n",
            "WARNING:absl:`FeatureConnector.dtype` is deprecated. Please change your code to use NumPy with the field `FeatureConnector.np_dtype` or use TensorFlow with the field `FeatureConnector.tf_dtype`.\n",
            "WARNING:absl:`FeatureConnector.dtype` is deprecated. Please change your code to use NumPy with the field `FeatureConnector.np_dtype` or use TensorFlow with the field `FeatureConnector.tf_dtype`.\n",
            "WARNING:absl:`FeatureConnector.dtype` is deprecated. Please change your code to use NumPy with the field `FeatureConnector.np_dtype` or use TensorFlow with the field `FeatureConnector.tf_dtype`.\n",
            "WARNING:absl:`FeatureConnector.dtype` is deprecated. Please change your code to use NumPy with the field `FeatureConnector.np_dtype` or use TensorFlow with the field `FeatureConnector.tf_dtype`.\n",
            "WARNING:absl:`FeatureConnector.dtype` is deprecated. Please change your code to use NumPy with the field `FeatureConnector.np_dtype` or use TensorFlow with the field `FeatureConnector.tf_dtype`.\n",
            "WARNING:absl:`FeatureConnector.dtype` is deprecated. Please change your code to use NumPy with the field `FeatureConnector.np_dtype` or use TensorFlow with the field `FeatureConnector.tf_dtype`.\n"
          ]
        }
      ],
      "source": [
        "def prepare_dataset(\n",
        "    ds: tf.data.Dataset,\n",
        "    rng_seed: int = 42,\n",
        "    max_list_size = 200,\n",
        "):\n",
        "  \"\"\"Prepares a training dataset by applying padding/truncating/etc.\"\"\"\n",
        "  tf.random.set_seed(rng_seed)\n",
        "  features_to_keep = set([\"label\", \"float_features\"])\n",
        "  ds = ds.map(lambda e: {k: v for k, v in e.items() if k in features_to_keep})\n",
        "  ds = ds.map(lambda e: (e.pop(\"float_features\"), e.pop(\"label\")))\n",
        "  ds = ds.map(lambda x, y: (tf.sign(x)*tf.math.log1p(tf.abs(x)), 2.**y-1.))\n",
        "  ds = ds.map(lambda x, y: (x, y, tf.ones_like(y, dtype=tf.bool)))\n",
        "\n",
        "  # not every query has the same number of pre-selected documents in the dataset\n",
        "  # therefore, we add padding so that the matrices can be batched together\n",
        "  def pad(t):\n",
        "    shape = tf.concat([tf.maximum(tf.constant([max_list_size])-tf.shape(t)[0], 0), tf.shape(t)[1:]], 0)\n",
        "    return tf.concat([t, tf.zeros(shape, dtype=t.dtype)], 0)\n",
        "\n",
        "  ds = ds.map(lambda x, y, z: (pad(x), pad(y), pad(z)))\n",
        "  ds = ds.map(lambda x, y, z: (x[:max_list_size, :], y[:max_list_size], z[:max_list_size]))\n",
        "  ds = ds.cache()\n",
        "  ds = ds.shuffle(1000, seed=rng_seed)\n",
        "  ds = ds.batch(128)\n",
        "  ds = ds.prefetch(tf.data.AUTOTUNE)\n",
        "  ds = tfds.as_numpy(ds)\n",
        "  return ds\n",
        "\n",
        "train_ds = prepare_dataset(tfds.load(\"mslr_web/10k_fold1\", split=\"train\"))\n",
        "vali_ds = prepare_dataset(tfds.load(\"mslr_web/10k_fold1\", split=\"vali\"))\n",
        "test_ds = prepare_dataset(tfds.load(\"mslr_web/10k_fold1\", split=\"test\"))"
      ]
    },
    {
      "cell_type": "markdown",
      "id": "FZZGMPxZd7jM",
      "metadata": {
        "id": "FZZGMPxZd7jM"
      },
      "source": [
        "After this pre-processing, the dataset object will return batches of document-query features, relevance labels and a mask for the batch.\n",
        "These have the following dimensions:\n",
        "*   Features (num queries per batch, max. num of documents per query, number of features per doc./query combination)\n",
        "*   Relevance labels  (num queries per batch, max. num of documents per query)\n",
        "*   Mask (num queries per batch, max. num of documents per query)\n",
        "\n",
        "### A closer look at the data"
      ]
    },
    {
      "cell_type": "markdown",
      "id": "DJ7NS5xLG9Yi",
      "metadata": {
        "id": "DJ7NS5xLG9Yi"
      },
      "source": [
        "\n",
        "We'll start by sampling a single batch as an example."
      ]
    },
    {
      "cell_type": "code",
      "execution_count": null,
      "id": "v73gk8Hm7pSV",
      "metadata": {
        "id": "v73gk8Hm7pSV"
      },
      "outputs": [],
      "source": [
        "example_input, example_labels, example_mask = next(iter(train_ds))"
      ]
    },
    {
      "cell_type": "markdown",
      "id": "zg1TWZqg7qFB",
      "metadata": {
        "id": "zg1TWZqg7qFB"
      },
      "source": [
        "Let's start by looking at the features of the (padded) batch."
      ]
    },
    {
      "cell_type": "code",
      "execution_count": null,
      "id": "Vo2UDNQB77ws",
      "metadata": {
        "id": "Vo2UDNQB77ws",
        "colab": {
          "base_uri": "https://localhost:8080/"
        },
        "outputId": "87b8fbf3-ea9a-49d0-897d-8e05bfdbf031"
      },
      "outputs": [
        {
          "output_type": "stream",
          "name": "stdout",
          "text": [
            "The batch of features has the shape (128, 200, 136),\n",
            "thus a batch contains 128 queries, per query a maximum of 200 documents are considered, and each doc./query combination is represented by 136 features.\n",
            "Let's take a look at the features of the first query./doc:\n",
            "[ 0.00000000e+00  0.00000000e+00  0.00000000e+00  6.93147181e-01\n",
            "  6.93147181e-01  0.00000000e+00  0.00000000e+00  0.00000000e+00\n",
            "  6.93147181e-01  6.93147181e-01  6.38856141e+00  0.00000000e+00\n",
            "  1.09861229e+00  2.19722458e+00  6.40522846e+00  2.69913074e+00\n",
            "  2.87982989e+00  2.90810623e+00  2.96633853e+00  2.69635272e+00\n",
            "  0.00000000e+00  0.00000000e+00  0.00000000e+00  6.93147181e-01\n",
            "  6.93147181e-01  0.00000000e+00  0.00000000e+00  0.00000000e+00\n",
            "  6.93147181e-01  6.93147181e-01  0.00000000e+00  0.00000000e+00\n",
            "  0.00000000e+00  6.93147181e-01  6.93147181e-01  0.00000000e+00\n",
            "  0.00000000e+00  0.00000000e+00  6.93147181e-01  6.93147181e-01\n",
            "  0.00000000e+00  0.00000000e+00  0.00000000e+00  0.00000000e+00\n",
            "  0.00000000e+00  0.00000000e+00  0.00000000e+00  0.00000000e+00\n",
            "  1.17783036e-01  1.65463034e-03  0.00000000e+00  0.00000000e+00\n",
            "  0.00000000e+00  1.17783036e-01  1.65463034e-03  0.00000000e+00\n",
            "  0.00000000e+00  0.00000000e+00  1.17783036e-01  1.65463034e-03\n",
            "  0.00000000e+00  0.00000000e+00  0.00000000e+00  1.17783036e-01\n",
            "  1.65463034e-03  0.00000000e+00  0.00000000e+00  0.00000000e+00\n",
            "  0.00000000e+00  0.00000000e+00  0.00000000e+00  0.00000000e+00\n",
            "  0.00000000e+00  2.96633853e+00  2.69635272e+00  0.00000000e+00\n",
            "  0.00000000e+00  0.00000000e+00  2.96633853e+00  2.69635272e+00\n",
            "  0.00000000e+00  0.00000000e+00  0.00000000e+00  2.96633853e+00\n",
            "  2.69635272e+00  0.00000000e+00  0.00000000e+00  0.00000000e+00\n",
            "  2.96633853e+00  2.69635272e+00  0.00000000e+00  0.00000000e+00\n",
            "  0.00000000e+00  0.00000000e+00  0.00000000e+00  0.00000000e+00\n",
            "  0.00000000e+00  0.00000000e+00  6.93147181e-01  6.93147181e-01\n",
            "  0.00000000e+00  0.00000000e+00  0.00000000e+00  6.93147181e-01\n",
            "  6.93147181e-01  0.00000000e+00  0.00000000e+00  0.00000000e+00\n",
            "  3.00395329e+00  2.86730361e+00 -2.31784487e+00  0.00000000e+00\n",
            "  0.00000000e+00  0.00000000e+00 -2.15263926e+00 -2.24956758e+00\n",
            "  0.00000000e+00  0.00000000e+00  0.00000000e+00 -2.18208849e+00\n",
            " -2.20333443e+00  0.00000000e+00  0.00000000e+00  0.00000000e+00\n",
            " -2.01609364e+00  1.60943791e+00  3.97029191e+00  0.00000000e+00\n",
            "  0.00000000e+00  4.79579055e+00  9.43268360e+00  1.94591015e+00\n",
            "  5.03695260e+00  0.00000000e+00  0.00000000e+00  0.00000000e+00]\n"
          ]
        }
      ],
      "source": [
        "print(f'The batch of features has the shape {example_input.shape},')\n",
        "print(f'thus a batch contains {example_input.shape[0]} queries, '\n",
        "      f'per query a maximum of {example_input.shape[1]} documents are considered, '\n",
        "      f'and each doc./query combination is represented by {example_input.shape[2]} features.')\n",
        "print('Let\\'s take a look at the features of the first query./doc:')\n",
        "print(example_input[0,0,:])"
      ]
    },
    {
      "cell_type": "markdown",
      "id": "mleqB4mL7_FO",
      "metadata": {
        "id": "mleqB4mL7_FO"
      },
      "source": [
        "This batch is padded, if we look at the final document of the first query, it most likely returns us padded zeros (it could be that the case that we are unlucky and this query is not padded actually)."
      ]
    },
    {
      "cell_type": "code",
      "execution_count": null,
      "id": "q7wiqimu8PuF",
      "metadata": {
        "id": "q7wiqimu8PuF",
        "colab": {
          "base_uri": "https://localhost:8080/"
        },
        "outputId": "f678e2ed-4408-4c53-b5cb-39fed84d51a0"
      },
      "outputs": [
        {
          "output_type": "execute_result",
          "data": {
            "text/plain": [
              "array([0., 0., 0., 0., 0., 0., 0., 0., 0., 0., 0., 0., 0., 0., 0., 0., 0.,\n",
              "       0., 0., 0., 0., 0., 0., 0., 0., 0., 0., 0., 0., 0., 0., 0., 0., 0.,\n",
              "       0., 0., 0., 0., 0., 0., 0., 0., 0., 0., 0., 0., 0., 0., 0., 0., 0.,\n",
              "       0., 0., 0., 0., 0., 0., 0., 0., 0., 0., 0., 0., 0., 0., 0., 0., 0.,\n",
              "       0., 0., 0., 0., 0., 0., 0., 0., 0., 0., 0., 0., 0., 0., 0., 0., 0.,\n",
              "       0., 0., 0., 0., 0., 0., 0., 0., 0., 0., 0., 0., 0., 0., 0., 0., 0.,\n",
              "       0., 0., 0., 0., 0., 0., 0., 0., 0., 0., 0., 0., 0., 0., 0., 0., 0.,\n",
              "       0., 0., 0., 0., 0., 0., 0., 0., 0., 0., 0., 0., 0., 0., 0., 0., 0.])"
            ]
          },
          "metadata": {},
          "execution_count": 6
        }
      ],
      "source": [
        "example_input[0,-1,:]"
      ]
    },
    {
      "cell_type": "markdown",
      "id": "u0yNul338Ufi",
      "metadata": {
        "id": "u0yNul338Ufi"
      },
      "source": [
        "The following will tell us if this is *not* padded values:"
      ]
    },
    {
      "cell_type": "code",
      "execution_count": null,
      "id": "E0zoQS3k8YbK",
      "metadata": {
        "id": "E0zoQS3k8YbK",
        "colab": {
          "base_uri": "https://localhost:8080/"
        },
        "outputId": "553e3987-956e-494c-86f3-dbda8fca5cfe"
      },
      "outputs": [
        {
          "output_type": "execute_result",
          "data": {
            "text/plain": [
              "False"
            ]
          },
          "metadata": {},
          "execution_count": 7
        }
      ],
      "source": [
        "example_mask[0,-1]"
      ]
    },
    {
      "cell_type": "markdown",
      "id": "TnIZEp7KDyFD",
      "metadata": {
        "id": "TnIZEp7KDyFD"
      },
      "source": [
        "Next, we'll consider the relevance labels, there is a single label for each doc./query combination. In the preprocessing the labels have already been scaled by the function:\n",
        "$$\\textit{new label} = 2^\\textit{raw label}-1.$$"
      ]
    },
    {
      "cell_type": "code",
      "execution_count": null,
      "id": "0nMQXypyFTvK",
      "metadata": {
        "id": "0nMQXypyFTvK",
        "colab": {
          "base_uri": "https://localhost:8080/"
        },
        "outputId": "f8c874fc-8b62-4fe2-c1cf-0477d1589d6a"
      },
      "outputs": [
        {
          "output_type": "stream",
          "name": "stdout",
          "text": [
            "The batch of relevance labels has the shape (128, 200).\n",
            "These are the labels for the first query:\n"
          ]
        },
        {
          "output_type": "execute_result",
          "data": {
            "text/plain": [
              "array([ 0.,  0.,  0.,  0.,  1.,  1.,  1.,  1.,  0.,  1.,  0.,  1.,  0.,\n",
              "        7.,  1.,  1.,  0.,  7.,  0.,  1.,  1.,  0.,  0.,  1.,  1.,  1.,\n",
              "        1.,  1.,  0.,  1.,  0.,  3.,  0.,  1.,  1.,  1.,  0.,  0.,  1.,\n",
              "        1.,  1.,  0.,  1.,  0.,  3.,  0.,  1.,  1.,  1.,  1.,  3.,  1.,\n",
              "        1.,  1.,  1.,  0., 15.,  1.,  1.,  0.,  0.,  1.,  0.,  1.,  0.,\n",
              "        1.,  1., 15.,  0.,  0.,  0.,  0.,  1.,  0.,  1.,  1.,  0.,  0.,\n",
              "        3.,  3.,  1.,  0.,  1.,  7.,  1.,  1.,  1.,  1.,  1.,  3.,  1.,\n",
              "        1.,  7.,  1.,  1.,  0.,  0.,  1.,  0.,  0.,  1.,  0.,  0.,  1.,\n",
              "        1.,  7.,  0.,  0.,  1.,  0., 15.,  1.,  0.,  0.,  0.,  0.,  0.,\n",
              "        0.,  0.,  0.,  0.,  0.,  0.,  0.,  0.,  0.,  0.,  0.,  0.,  0.,\n",
              "        0.,  0.,  0.,  0.,  0.,  0.,  0.,  0.,  0.,  0.,  0.,  0.,  0.,\n",
              "        0.,  0.,  0.,  0.,  0.,  0.,  0.,  0.,  0.,  0.,  0.,  0.,  0.,\n",
              "        0.,  0.,  0.,  0.,  0.,  0.,  0.,  0.,  0.,  0.,  0.,  0.,  0.,\n",
              "        0.,  0.,  0.,  0.,  0.,  0.,  0.,  0.,  0.,  0.,  0.,  0.,  0.,\n",
              "        0.,  0.,  0.,  0.,  0.,  0.,  0.,  0.,  0.,  0.,  0.,  0.,  0.,\n",
              "        0.,  0.,  0.,  0.,  0.])"
            ]
          },
          "metadata": {},
          "execution_count": 8
        }
      ],
      "source": [
        "print(f'The batch of relevance labels has the shape {example_labels.shape}.')\n",
        "print(f'These are the labels for the first query:')\n",
        "example_labels[0,:]"
      ]
    },
    {
      "cell_type": "markdown",
      "id": "W7_ZfVivFWob",
      "metadata": {
        "id": "W7_ZfVivFWob"
      },
      "source": [
        "However, not all labels are part of the data because batches are padded.\n",
        "The masks indicate which documents are part of the dataset and which are padded zeros. Let's look at the mask for the first query:"
      ]
    },
    {
      "cell_type": "code",
      "execution_count": null,
      "id": "5K2AyFQpFvru",
      "metadata": {
        "id": "5K2AyFQpFvru",
        "colab": {
          "base_uri": "https://localhost:8080/"
        },
        "outputId": "20221611-1e60-4914-edb8-5846028cc446"
      },
      "outputs": [
        {
          "output_type": "stream",
          "name": "stdout",
          "text": [
            "The batch mask has the shape (128, 200), one value for each doc./query combination.\n",
            "The mask for the first query:\n"
          ]
        },
        {
          "output_type": "execute_result",
          "data": {
            "text/plain": [
              "array([ True,  True,  True,  True,  True,  True,  True,  True,  True,\n",
              "        True,  True,  True,  True,  True,  True,  True,  True,  True,\n",
              "        True,  True,  True,  True,  True,  True,  True,  True,  True,\n",
              "        True,  True,  True,  True,  True,  True,  True,  True,  True,\n",
              "        True,  True,  True,  True,  True,  True,  True,  True,  True,\n",
              "        True,  True,  True,  True,  True,  True,  True,  True,  True,\n",
              "        True,  True,  True,  True,  True,  True,  True,  True,  True,\n",
              "        True,  True,  True,  True,  True,  True,  True,  True,  True,\n",
              "        True,  True,  True,  True,  True,  True,  True,  True,  True,\n",
              "        True,  True,  True,  True,  True,  True,  True,  True,  True,\n",
              "        True,  True,  True,  True,  True,  True,  True,  True,  True,\n",
              "        True,  True,  True,  True,  True,  True,  True,  True,  True,\n",
              "        True,  True,  True,  True, False, False, False, False, False,\n",
              "       False, False, False, False, False, False, False, False, False,\n",
              "       False, False, False, False, False, False, False, False, False,\n",
              "       False, False, False, False, False, False, False, False, False,\n",
              "       False, False, False, False, False, False, False, False, False,\n",
              "       False, False, False, False, False, False, False, False, False,\n",
              "       False, False, False, False, False, False, False, False, False,\n",
              "       False, False, False, False, False, False, False, False, False,\n",
              "       False, False, False, False, False, False, False, False, False,\n",
              "       False, False, False, False, False, False, False, False, False,\n",
              "       False, False])"
            ]
          },
          "metadata": {},
          "execution_count": 9
        }
      ],
      "source": [
        "print(f'The batch mask has the shape {example_labels.shape}, one value for each doc./query combination.')\n",
        "print(f'The mask for the first query:')\n",
        "example_mask[0,:]"
      ]
    },
    {
      "cell_type": "markdown",
      "id": "s7vOINOJF9FY",
      "metadata": {
        "id": "s7vOINOJF9FY"
      },
      "source": [
        "By summming the mask over the last axis, we can see how many documents are available per query:"
      ]
    },
    {
      "cell_type": "code",
      "execution_count": null,
      "id": "VXLBsHqzGFJb",
      "metadata": {
        "id": "VXLBsHqzGFJb",
        "colab": {
          "base_uri": "https://localhost:8080/"
        },
        "outputId": "0a7472ee-b9d9-455d-eb63-9161266b3fc9"
      },
      "outputs": [
        {
          "output_type": "execute_result",
          "data": {
            "text/plain": [
              "Array([112, 109, 125,  60,   9,  76,  70, 134, 140, 140, 161,   4, 129,\n",
              "       200, 200, 109, 198,  56, 111, 181, 153, 143,  77,  17,  69, 190,\n",
              "        63,  46, 181,  75,  15,  42,  91,  26, 200, 131, 163,  18, 136,\n",
              "        76, 129, 131,  87, 102, 111,  39, 122, 158, 106, 200, 110, 147,\n",
              "        98, 195,  22,  91,  60,  95, 200,  48, 136, 131,  82, 124,  26,\n",
              "       162, 200, 112,  93, 120,  48, 104,  99,  79, 200, 152, 145, 125,\n",
              "       120,  44,  68, 126, 158,  67,  88,  60,  77,  34,  91,  70, 170,\n",
              "       177, 200, 148, 152, 117, 163,  56,  87, 157, 130,  70, 200,  11,\n",
              "       101,  92,  63,  62,  96,  87, 200, 178,  68, 107, 192,  95,  99,\n",
              "       101, 132, 200, 124, 156, 154,  72, 134,  81,  46, 170],      dtype=int32)"
            ]
          },
          "metadata": {},
          "execution_count": 10
        }
      ],
      "source": [
        "jnp.sum(example_mask, axis=-1)"
      ]
    },
    {
      "cell_type": "markdown",
      "id": "Kamssv5sGPA-",
      "metadata": {
        "id": "Kamssv5sGPA-"
      },
      "source": [
        "If we apply the first mask to the first vector of relevance labels, we only get the labels and none of the padding:"
      ]
    },
    {
      "cell_type": "code",
      "execution_count": null,
      "id": "p9yD68KvGTk_",
      "metadata": {
        "id": "p9yD68KvGTk_",
        "colab": {
          "base_uri": "https://localhost:8080/"
        },
        "outputId": "7ddb442b-36fc-4efd-8537-162279ae99cd"
      },
      "outputs": [
        {
          "output_type": "execute_result",
          "data": {
            "text/plain": [
              "array([ 0.,  0.,  0.,  0.,  1.,  1.,  1.,  1.,  0.,  1.,  0.,  1.,  0.,\n",
              "        7.,  1.,  1.,  0.,  7.,  0.,  1.,  1.,  0.,  0.,  1.,  1.,  1.,\n",
              "        1.,  1.,  0.,  1.,  0.,  3.,  0.,  1.,  1.,  1.,  0.,  0.,  1.,\n",
              "        1.,  1.,  0.,  1.,  0.,  3.,  0.,  1.,  1.,  1.,  1.,  3.,  1.,\n",
              "        1.,  1.,  1.,  0., 15.,  1.,  1.,  0.,  0.,  1.,  0.,  1.,  0.,\n",
              "        1.,  1., 15.,  0.,  0.,  0.,  0.,  1.,  0.,  1.,  1.,  0.,  0.,\n",
              "        3.,  3.,  1.,  0.,  1.,  7.,  1.,  1.,  1.,  1.,  1.,  3.,  1.,\n",
              "        1.,  7.,  1.,  1.,  0.,  0.,  1.,  0.,  0.,  1.,  0.,  0.,  1.,\n",
              "        1.,  7.,  0.,  0.,  1.,  0., 15.,  1.])"
            ]
          },
          "metadata": {},
          "execution_count": 11
        }
      ],
      "source": [
        "example_labels[0,:][example_mask[0,:]]"
      ]
    },
    {
      "cell_type": "markdown",
      "id": "9ibqzTNNGWXz",
      "metadata": {
        "id": "9ibqzTNNGWXz"
      },
      "source": [
        "A neat thing we can do with jnp.sum and jnp.mean is use the where flag to indicate what values to ignore. For example, we can compute the mean label per query while ignoring the padding like this:"
      ]
    },
    {
      "cell_type": "code",
      "execution_count": null,
      "id": "VoDYgcAuZctk",
      "metadata": {
        "id": "VoDYgcAuZctk",
        "colab": {
          "base_uri": "https://localhost:8080/"
        },
        "outputId": "6a6cbb3c-3378-4e17-8d90-35e29e40de9c"
      },
      "outputs": [
        {
          "output_type": "execute_result",
          "data": {
            "text/plain": [
              "Array([1.3839285 , 0.74311924, 0.216     , 0.8       , 0.44444445,\n",
              "       1.1184211 , 0.15714286, 0.5       , 0.94285715, 0.6785714 ,\n",
              "       0.9875776 , 0.        , 0.7751938 , 0.025     , 0.19      ,\n",
              "       1.3394495 , 1.0555556 , 0.44642857, 0.7567568 , 1.5248619 ,\n",
              "       0.503268  , 1.6083916 , 2.090909  , 0.1764706 , 0.02898551,\n",
              "       0.7368421 , 0.11111111, 0.26086956, 0.17679559, 0.8933333 ,\n",
              "       0.4       , 0.        , 0.6813187 , 0.5       , 0.54      ,\n",
              "       0.9236641 , 1.01227   , 0.44444445, 0.9558824 , 1.6447369 ,\n",
              "       1.3100775 , 0.8549618 , 1.3678161 , 0.5980392 , 1.063063  ,\n",
              "       0.23076923, 0.8852459 , 1.3037975 , 1.745283  , 0.805     ,\n",
              "       1.9090909 , 1.0544218 , 1.6224489 , 0.14358975, 0.36363637,\n",
              "       0.43956044, 0.51666665, 0.17894737, 0.665     , 0.20833333,\n",
              "       1.4632353 , 2.648855  , 0.25609756, 1.0080645 , 0.6923077 ,\n",
              "       0.5123457 , 0.575     , 0.70535713, 1.8172044 , 0.56666666,\n",
              "       0.45833334, 1.3365384 , 0.97979796, 0.21518987, 0.395     ,\n",
              "       1.8684211 , 4.0206895 , 2.6       , 0.06666667, 0.1590909 ,\n",
              "       1.3970588 , 0.3015873 , 0.664557  , 0.46268657, 1.2727273 ,\n",
              "       0.45      , 0.85714287, 0.7352941 , 1.2967033 , 0.05714286,\n",
              "       0.16470589, 1.1242938 , 0.98      , 0.41216215, 0.875     ,\n",
              "       0.50427353, 0.79141104, 0.48214287, 1.0344827 , 0.53503186,\n",
              "       1.2       , 1.2285714 , 1.955     , 0.09090909, 0.15841584,\n",
              "       0.6086956 , 1.2857143 , 1.2419355 , 1.5520834 , 1.3678161 ,\n",
              "       1.82      , 0.994382  , 0.3382353 , 1.6542056 , 0.328125  ,\n",
              "       0.22105263, 0.09090909, 0.38613862, 0.7878788 , 1.01      ,\n",
              "       1.6290323 , 1.3141025 , 0.8896104 , 1.4444444 , 1.2835821 ,\n",
              "       1.2345679 , 0.06521739, 0.7882353 ], dtype=float32)"
            ]
          },
          "metadata": {},
          "execution_count": 12
        }
      ],
      "source": [
        "jnp.mean(example_labels, axis=-1, where=example_mask)"
      ]
    },
    {
      "cell_type": "markdown",
      "id": "M5LzyXxQG0Kp",
      "metadata": {
        "id": "M5LzyXxQG0Kp"
      },
      "source": [
        "## Defining the Model to Optimize and Evaluation\n",
        "We will use a simple two layer networks to optimize with our ranking losses. Using the flax package we define:"
      ]
    },
    {
      "cell_type": "code",
      "execution_count": null,
      "id": "uzlqNDHThmf-",
      "metadata": {
        "id": "uzlqNDHThmf-"
      },
      "outputs": [],
      "source": [
        "class SimpleModel(nn.Module):\n",
        "    @nn.compact\n",
        "    def __call__(self, x):\n",
        "        x = nn.Dense(features=64)(x)\n",
        "        x = nn.sigmoid(x)\n",
        "        x = nn.Dense(features=64)(x)\n",
        "        x = nn.sigmoid(x)\n",
        "        x = nn.Dense(features=1)(x)\n",
        "        return jnp.squeeze(x, axis=-1)"
      ]
    },
    {
      "cell_type": "markdown",
      "id": "VhKHqxFUI7hZ",
      "metadata": {
        "id": "VhKHqxFUI7hZ"
      },
      "source": [
        "The following code initializes an instance of this model and predicts scores for the example input."
      ]
    },
    {
      "cell_type": "code",
      "execution_count": null,
      "id": "pYdS3s9Nizoy",
      "metadata": {
        "id": "pYdS3s9Nizoy",
        "colab": {
          "base_uri": "https://localhost:8080/"
        },
        "outputId": "c5c060db-37cc-4b27-d80d-74c2959b57ad"
      },
      "outputs": [
        {
          "output_type": "stream",
          "name": "stdout",
          "text": [
            "The following array has the following shape: (128, 200).\n"
          ]
        },
        {
          "output_type": "execute_result",
          "data": {
            "text/plain": [
              "Array([[-0.34756666, -0.3148062 , -0.20859158, ..., -0.26162535,\n",
              "        -0.26162535, -0.26162535],\n",
              "       [-0.26272762, -0.30364105, -0.3160178 , ..., -0.26162535,\n",
              "        -0.26162535, -0.26162535],\n",
              "       [-0.2017543 , -0.18255858, -0.19882233, ..., -0.26162535,\n",
              "        -0.26162535, -0.26162535],\n",
              "       ...,\n",
              "       [-0.17223729, -0.15902287, -0.14893435, ..., -0.26162535,\n",
              "        -0.26162535, -0.26162535],\n",
              "       [-0.13955577, -0.18073328, -0.19709086, ..., -0.26162535,\n",
              "        -0.26162535, -0.26162535],\n",
              "       [-0.23197801, -0.20048068, -0.15147252, ..., -0.26162535,\n",
              "        -0.26162535, -0.26162535]], dtype=float32)"
            ]
          },
          "metadata": {},
          "execution_count": 14
        }
      ],
      "source": [
        "# this a random-number-generator key, every random operation needs unique key in jax\n",
        "rng = jax.random.key(42)\n",
        "# we create a new key for the random initialization of our model\n",
        "rng, init_rng = jax.random.split(rng)\n",
        "# using the key we initialize the model\n",
        "model = SimpleModel()\n",
        "params = model.init(init_rng, example_input)\n",
        "# note that we explicitly keep track of the parameters\n",
        "# we apply the model to the example batch\n",
        "example_scores = model.apply(params, example_input)\n",
        "print(f'The following array has the following shape: {example_scores.shape}.')\n",
        "example_scores"
      ]
    },
    {
      "cell_type": "markdown",
      "id": "SOP2re6iKi-O",
      "metadata": {
        "id": "SOP2re6iKi-O"
      },
      "source": [
        "Obviously, these scores make little sense since the model has not been optimized. Nevertheless, using the rax package we can evaluate the NDCG per query:"
      ]
    },
    {
      "cell_type": "code",
      "execution_count": null,
      "id": "gZZ4ypfDyyRT",
      "metadata": {
        "id": "gZZ4ypfDyyRT",
        "colab": {
          "base_uri": "https://localhost:8080/"
        },
        "outputId": "b59fa2dc-ee87-4740-d5d0-968dc8f9b2bc"
      },
      "outputs": [
        {
          "output_type": "execute_result",
          "data": {
            "text/plain": [
              "Array([9.0055928e-06, 1.0972063e-03, 3.1271324e-02, 5.7189894e-01,\n",
              "       7.3277116e-01, 4.1434309e-01, 1.8602811e-01, 4.2785970e-03,\n",
              "       1.5884850e-04, 1.0731942e-01, 2.1218937e-03, 0.0000000e+00,\n",
              "       1.2726989e-01, 1.0699313e-01, 1.6598910e-01, 3.1318825e-01,\n",
              "       2.7238038e-05, 0.0000000e+00, 8.3549144e-03, 3.5750642e-02,\n",
              "       2.0943418e-05, 5.0423093e-02, 1.4162067e-03, 1.4126699e-01,\n",
              "       1.9342642e-01, 2.4806826e-01, 8.6713836e-02, 6.5241985e-02,\n",
              "       0.0000000e+00, 8.8166153e-06, 5.0126588e-01, 0.0000000e+00,\n",
              "       5.6318354e-06, 6.2562692e-01, 4.3294854e-03, 2.3483783e-02,\n",
              "       2.4007437e-05, 5.0765133e-01, 1.0939437e-01, 1.5322648e-01,\n",
              "       3.3761826e-05, 6.4549424e-02, 1.1841159e-05, 2.5544721e-01,\n",
              "       3.7300128e-01, 4.2772341e-01, 4.1788067e-03, 2.3544582e-02,\n",
              "       2.2664008e-01, 2.6019892e-02, 3.0757676e-04, 2.4478496e-03,\n",
              "       2.5197524e-03, 0.0000000e+00, 5.8780980e-01, 0.0000000e+00,\n",
              "       2.6345047e-01, 4.2464726e-02, 9.0613496e-03, 2.7211653e-02,\n",
              "       4.6688509e-03, 3.3325635e-04, 2.4858940e-02, 1.2605862e-01,\n",
              "       1.6045268e-01, 7.4150721e-03, 1.9133743e-02, 1.9906627e-01,\n",
              "       4.5324421e-05, 1.3137499e-05, 1.5617770e-01, 3.6924252e-05,\n",
              "       5.9914000e-02, 1.3799180e-01, 9.1005899e-02, 3.0463490e-01,\n",
              "       9.4837658e-02, 7.6115459e-02, 0.0000000e+00, 0.0000000e+00,\n",
              "       2.0346805e-02, 4.9164966e-03, 1.3603248e-02, 8.3803236e-03,\n",
              "       4.0125925e-02, 3.0103907e-01, 7.9641548e-05, 0.0000000e+00,\n",
              "       4.8425960e-04, 1.6812754e-01, 1.2369896e-01, 3.1704169e-02,\n",
              "       5.6341512e-05, 2.8924404e-02, 2.3657476e-04, 0.0000000e+00,\n",
              "       2.1647390e-03, 1.3677144e-02, 1.0216771e-02, 3.2289332e-01,\n",
              "       3.4074828e-01, 1.6759423e-04, 4.9153495e-01, 4.3067658e-01,\n",
              "       2.6810524e-01, 7.4485710e-05, 5.6245144e-06, 3.1893378e-01,\n",
              "       1.3223266e-05, 7.0195491e-03, 1.3094902e-01, 2.7931967e-05,\n",
              "       0.0000000e+00, 7.2336450e-05, 3.8458177e-01, 2.1008244e-02,\n",
              "       0.0000000e+00, 6.9768183e-02, 4.4682484e-02, 5.8743694e-06,\n",
              "       1.7617308e-02, 9.9541545e-03, 4.6379182e-02, 5.8396917e-02,\n",
              "       2.6962699e-02, 2.0938787e-04, 1.4804097e-01, 6.6554580e-06],      dtype=float32)"
            ]
          },
          "metadata": {},
          "execution_count": 15
        }
      ],
      "source": [
        "# the randomization is used to randomly break possible score ties\n",
        "rng, eval_rng = jax.random.split(rng)\n",
        "rax.ndcg_metric(example_scores, example_labels, where=example_mask,\n",
        "                key=eval_rng, reduce_fn=None, topn=10)"
      ]
    },
    {
      "cell_type": "markdown",
      "id": "0DDabZkFLC8T",
      "metadata": {
        "id": "0DDabZkFLC8T"
      },
      "source": [
        "Or the mean NDCG of the batch:"
      ]
    },
    {
      "cell_type": "code",
      "execution_count": null,
      "id": "REht8L_1LKZC",
      "metadata": {
        "id": "REht8L_1LKZC",
        "colab": {
          "base_uri": "https://localhost:8080/"
        },
        "outputId": "87278587-1d7d-484f-b118-f2ba3d1b6b7b"
      },
      "outputs": [
        {
          "output_type": "execute_result",
          "data": {
            "text/plain": [
              "Array(0.10333021, dtype=float32)"
            ]
          },
          "metadata": {},
          "execution_count": 16
        }
      ],
      "source": [
        "rng, eval_rng = jax.random.split(rng)\n",
        "rax.ndcg_metric(example_scores, example_labels, where=example_mask,\n",
        "                key=eval_rng, topn=10)"
      ]
    },
    {
      "cell_type": "markdown",
      "id": "9y3sj5sEMWEj",
      "metadata": {
        "id": "9y3sj5sEMWEj"
      },
      "source": [
        "## Optimizing an Example Loss Function\n",
        "You will only have to implement the loss functions that define each learning-to-rank method, we provide you with the following code for optimization."
      ]
    },
    {
      "cell_type": "code",
      "execution_count": null,
      "id": "S0I1K1s-wdmP",
      "metadata": {
        "id": "S0I1K1s-wdmP"
      },
      "outputs": [],
      "source": [
        "@partial(jax.jit, static_argnames=['loss_fn'])\n",
        "def train_step(state, query, loss_fn):\n",
        "\n",
        "    @jax.jit\n",
        "    def calculate_loss(state, params, query):\n",
        "        feat, labels, mask = query\n",
        "        scores = state.apply_fn(params, feat)\n",
        "        return jnp.mean(jax.vmap(loss_fn)(scores, labels, mask))\n",
        "\n",
        "    loss, grads = jax.value_and_grad(calculate_loss, argnums=1)(state, state.params, query)\n",
        "    state = state.apply_gradients(grads=grads)\n",
        "    return state, loss\n",
        "\n",
        "@jax.jit\n",
        "def ndcg_for_batch(state, query, key=None):\n",
        "    feat, labels, mask = query\n",
        "    scores = state.apply_fn(state.params, feat)\n",
        "    return rax.ndcg_metric(scores, labels, topn=10, where=mask, key=key)\n",
        "\n",
        "def dataset_ndcg(ds, state, rng):\n",
        "  metric_sum = 0.\n",
        "  counter = 0.\n",
        "  for query in ds:\n",
        "    rng, eval_rng = jax.random.split(rng)\n",
        "    metric_sum += ndcg_for_batch(state, query, key=eval_rng)\n",
        "    counter += 1\n",
        "  return metric_sum/counter\n",
        "\n",
        "def optimize_loss(loss_fn, rng, max_epochs, learning_rate=0.01, evaluate_every=10, verbose=True):\n",
        "  rng, init_rng, eval_rng = jax.random.split(rng, 3)\n",
        "  model = SimpleModel()\n",
        "  params = model.init(init_rng, example_input)\n",
        "  optimizer = optax.adamax(learning_rate=learning_rate)\n",
        "  model_state = train_state.TrainState.create(apply_fn=model.apply,\n",
        "                                              params=params,\n",
        "                                              tx=optimizer)\n",
        "  performance = dataset_ndcg(vali_ds, model_state, eval_rng)\n",
        "  output_list = []\n",
        "  for epoch_i in range(max_epochs):\n",
        "    loss_sum = 0.\n",
        "    counter = 0.\n",
        "    for query in train_ds:\n",
        "      model_state, loss = train_step(model_state, query, loss_fn)\n",
        "      loss_sum += loss\n",
        "      counter += 1\n",
        "      if epoch_i == 0 and counter == 1:\n",
        "        # the first loss in the list is only based on the first batch\n",
        "        if verbose:\n",
        "          print(f'Epoch: 0, Loss: {loss:.3f}, NDCG: {performance:.3f}')\n",
        "        output_list.append((0, loss, performance))\n",
        "    if (epoch_i+1) % evaluate_every == 0:\n",
        "      rng, eval_rng = jax.random.split(rng)\n",
        "      performance = dataset_ndcg(vali_ds, model_state, eval_rng)\n",
        "      output_list.append((epoch_i+1, loss_sum/counter, performance))\n",
        "      if verbose:\n",
        "        print(f'Epoch: {epoch_i+1}, Loss: {loss_sum/counter:.3f}, NDCG: {performance:.4f}')\n",
        "    else:\n",
        "      output_list.append((epoch_i+1, loss_sum/counter))\n",
        "  return output_list"
      ]
    },
    {
      "cell_type": "markdown",
      "id": "t6csF8k7qXO9",
      "metadata": {
        "id": "t6csF8k7qXO9"
      },
      "source": [
        "The *optimize_loss* function requires a loss function (*loss_fn*) that takes as input a vector of scores, a vector of labels and a masking vector. Importantly, this function should work with [jit compilation](https://jax.readthedocs.io/en/latest/jit-compilation.html) in jax, this means we have to avoid basic Python control-flow operations like *if* statements, *for* and *while* loops, etc. and limit ourselfs to jax.numpy operations.\n",
        "All the loss functions in this assignment are simple to implement with only such operations.\n",
        "\n",
        "As an example, we will show you how we can implement and optimize a very simple but nonsensical loss:\n",
        "$$L = \\sum_{d}\\hat{y}_d(y_d-1)$$\n",
        "Here $D$ is the set of documents (pre-selected for a single query) and $\\hat{y}_d$ is the predicted score for document $d$ whereas $y_d$ is the true label.\n",
        "This loss function does not make a lot of sense, but it will push documents with higher labels to get higher scores.\n",
        "\n",
        "Regardless, we can optimize this loss with the following code, that should finish 10 epochs in less than 90 seconds:"
      ]
    },
    {
      "cell_type": "code",
      "execution_count": null,
      "id": "ttOMBtNNpOCk",
      "metadata": {
        "id": "ttOMBtNNpOCk",
        "colab": {
          "base_uri": "https://localhost:8080/"
        },
        "outputId": "a8280045-c0dd-4e43-e945-e61c0d625274"
      },
      "outputs": [
        {
          "output_type": "stream",
          "name": "stdout",
          "text": [
            "Epoch: 0, Loss: 1.774, NDCG: 0.077\n",
            "Epoch: 1, Loss: -156.105, NDCG: 0.2342\n",
            "Epoch: 2, Loss: -620.121, NDCG: 0.2486\n",
            "Epoch: 3, Loss: -1128.566, NDCG: 0.2588\n",
            "Epoch: 4, Loss: -1649.459, NDCG: 0.2690\n"
          ]
        }
      ],
      "source": [
        "def example_loss_fn(scores, labels, mask):\n",
        "  return -jnp.sum(scores*(labels-1), where=mask)\n",
        "\n",
        "rng, optimize_rng = jax.random.split(rng)\n",
        "example_output = optimize_loss(example_loss_fn, optimize_rng, max_epochs=4, evaluate_every=1)"
      ]
    },
    {
      "cell_type": "markdown",
      "source": [
        "We will use the following code to visualize the optimization of different losses:"
      ],
      "metadata": {
        "id": "3xV079QXT5Fh"
      },
      "id": "3xV079QXT5Fh"
    },
    {
      "cell_type": "code",
      "execution_count": null,
      "id": "J7aJ02joq5OA",
      "metadata": {
        "id": "J7aJ02joq5OA"
      },
      "outputs": [],
      "source": [
        "def visualize_output(output_list, title=None):\n",
        "  if title:\n",
        "    plt.title(title + ' - Loss Progression')\n",
        "  else:\n",
        "    plt.title('Example Loss progression')\n",
        "  plt.plot([x[0] for x in output_list if len(x) > 1],\n",
        "          [x[1] for x in output_list if len(x) > 1])\n",
        "  plt.xlabel('Number of Epochs')\n",
        "  plt.ylabel('Loss Value')\n",
        "  plt.show()\n",
        "  plt.close()\n",
        "  if title:\n",
        "    plt.title(title + ' - Performance Progression')\n",
        "  else:\n",
        "    plt.title('Example Performance progression')\n",
        "  plt.plot([x[0] for x in output_list if len(x) > 2],\n",
        "          [x[2] for x in output_list if len(x) > 2])\n",
        "  plt.xlabel('Number of Epochs')\n",
        "  plt.ylabel('NDCG@10')\n",
        "  plt.show()\n",
        "  plt.close()"
      ]
    },
    {
      "cell_type": "markdown",
      "source": [
        "Let's take a look at the learning curves for our example nonsense loss:"
      ],
      "metadata": {
        "id": "6oFkFS5AVkiT"
      },
      "id": "6oFkFS5AVkiT"
    },
    {
      "cell_type": "code",
      "source": [
        "visualize_output(example_output, title='Example Nonsense Loss')"
      ],
      "metadata": {
        "id": "kEEbaLwiRpn1",
        "colab": {
          "base_uri": "https://localhost:8080/",
          "height": 649
        },
        "outputId": "6517823b-af0e-4bcd-d933-671754ebfbec"
      },
      "id": "kEEbaLwiRpn1",
      "execution_count": null,
      "outputs": [
        {
          "output_type": "display_data",
          "data": {
            "text/plain": [
              "<Figure size 800x300 with 1 Axes>"
            ],
            "image/png": "[encoded data removed]"
          },
          "metadata": {}
        },
        {
          "output_type": "display_data",
          "data": {
            "text/plain": [
              "<Figure size 800x300 with 1 Axes>"
            ],
            "image/png": "[encoded data removed]"
          },
          "metadata": {}
        }
      ]
    },
    {
      "cell_type": "markdown",
      "source": [
        "While it does work, we can do much better. It is now up to you to implement real LTR loss functions to outperform this nonsense."
      ],
      "metadata": {
        "id": "EuVev6KSYH9n"
      },
      "id": "EuVev6KSYH9n"
    },
    {
      "cell_type": "markdown",
      "id": "fluid-barcelona",
      "metadata": {
        "id": "fluid-barcelona"
      },
      "source": [
        "# 1 Pointwise Learning to Rank\n",
        "\n",
        "There first loss to implement is the **pointwise** [Mean-Squared-Error](https://en.wikipedia.org/wiki/Mean_squared_error) (MSE) regression loss:\n",
        "$$L = \\frac{1}{D} \\sum_{d}(\\hat{y}_d - y_d)^2.$$\n",
        "Here $D$ is the set of documents (pre-selected for a single query) and $\\hat{y}_d$ is the predicted score for document $d$ whereas $y_d$ is the true label.\n",
        "\n",
        "Complete the function below so that it provides the pointwise MSE loss, such that it can be used by jax for gradient calculation and jit-compilation. (Avoid if statements and for/while loops, use functions from [jax.numpy](https://jax.readthedocs.io/en/latest/jax.numpy.html), imported as jnp.)"
      ]
    },
    {
      "cell_type": "code",
      "execution_count": null,
      "id": "06bae3ec",
      "metadata": {
        "id": "06bae3ec"
      },
      "outputs": [],
      "source": [
        "def MSE_loss_fn(scores, labels, mask):\n",
        "#   return jnp.mean(scores, where=mask)\n",
        "  return jnp.mean((scores - labels)**2, where=mask)"
      ]
    },
    {
      "cell_type": "markdown",
      "id": "ad3d5697",
      "metadata": {
        "id": "ad3d5697"
      },
      "source": [
        "The assertions below will test whether your implementation returns the correct loss values in some scenarios:"
      ]
    },
    {
      "cell_type": "code",
      "source": [
        "# checks without masking\n",
        "assert jnp.isclose(MSE_loss_fn(jnp.array([0.,0.]), jnp.array([0.,0.]), jnp.array([True,True])), 0)\n",
        "assert jnp.isclose(MSE_loss_fn(jnp.array([1.,0.]), jnp.array([0.,1.]), jnp.array([True,True])), 1)\n",
        "assert jnp.isclose(MSE_loss_fn(jnp.array([2.,-2.]), jnp.array([0.,1.]), jnp.array([True,True])), 6.5)\n",
        "assert jnp.isclose(MSE_loss_fn(jnp.array([2.5,-0.2]), jnp.array([0.,1.]), jnp.array([True,True])), 3.845)\n",
        "assert jnp.isclose(MSE_loss_fn(jnp.array([2.5,-0.2]), jnp.array([1.,0.]), jnp.array([True,True])), 1.145)\n",
        "# checks with masking\n",
        "assert jnp.isclose(MSE_loss_fn(jnp.array([0.,0.,1]), jnp.array([0.,0.,0]), jnp.array([True,True,False])), 0)\n",
        "assert jnp.isclose(MSE_loss_fn(jnp.array([1.,0.,1]), jnp.array([0.,1.,0]), jnp.array([True,True,False])), 1)\n",
        "assert jnp.isclose(MSE_loss_fn(jnp.array([2.,-2.,1]), jnp.array([0.,1.,0]), jnp.array([True,True,False])), 6.5)\n",
        "assert jnp.isclose(MSE_loss_fn(jnp.array([2.5,-0.2,1]), jnp.array([0.,1.,0]), jnp.array([True,True,False])), 3.845)\n",
        "assert jnp.isclose(MSE_loss_fn(jnp.array([2.5,-0.2,1]), jnp.array([1.,0.,0]), jnp.array([True,True,False])), 1.145)"
      ],
      "metadata": {
        "id": "TJTZMI6yb8bj"
      },
      "id": "TJTZMI6yb8bj",
      "execution_count": null,
      "outputs": []
    },
    {
      "cell_type": "markdown",
      "source": [
        "Next, we will test whether your code works with jit compilation, and test how quickly we can run one epoch:"
      ],
      "metadata": {
        "id": "CTFd5McTrskv"
      },
      "id": "CTFd5McTrskv"
    },
    {
      "cell_type": "code",
      "source": [
        "start_time = time.time()\n",
        "optimize_loss(MSE_loss_fn, optimize_rng, max_epochs=1, evaluate_every=1,verbose=False)\n",
        "seconds_lapsed = time.time() - start_time\n",
        "print(f'Epoch completed in {seconds_lapsed} seconds, that is {seconds_lapsed - 12:.1f} seconds more than expected.')\n",
        "assert seconds_lapsed < 20\n",
        "print(f'Your implementation is fast enough.')"
      ],
      "metadata": {
        "id": "IfM1LLeEfse7",
        "colab": {
          "base_uri": "https://localhost:8080/"
        },
        "outputId": "0788b2d3-bdad-4ed3-8c51-4d9e4f7f3105"
      },
      "id": "IfM1LLeEfse7",
      "execution_count": null,
      "outputs": [
        {
          "output_type": "stream",
          "name": "stdout",
          "text": [
            "Epoch completed in 9.618681907653809 seconds, that is -2.4 seconds more than expected.\n",
            "Your implementation is fast enough.\n"
          ]
        }
      ]
    },
    {
      "cell_type": "markdown",
      "source": [
        "If your code has past all of the above tests, then it is probably ready to do some real optimization. Let's perform a few epochs and look at the resulting learning curve:"
      ],
      "metadata": {
        "id": "POjx884UuZbn"
      },
      "id": "POjx884UuZbn"
    },
    {
      "cell_type": "code",
      "source": [
        "rng, optimize_rng = jax.random.split(rng)\n",
        "visualize_output(optimize_loss(MSE_loss_fn, optimize_rng, max_epochs=4, evaluate_every=1),\n",
        "                 title=\"Mean-Squared-Error (MSE)\")"
      ],
      "metadata": {
        "id": "CgmUQnKBfX_Q",
        "colab": {
          "base_uri": "https://localhost:8080/",
          "height": 738
        },
        "outputId": "735dd3ce-7967-40d9-e7d8-deda7d16e7d9"
      },
      "id": "CgmUQnKBfX_Q",
      "execution_count": null,
      "outputs": [
        {
          "output_type": "stream",
          "name": "stdout",
          "text": [
            "Epoch: 0, Loss: 3.309, NDCG: 0.101\n",
            "Epoch: 1, Loss: 2.973, NDCG: 0.2262\n",
            "Epoch: 2, Loss: 2.814, NDCG: 0.2786\n",
            "Epoch: 3, Loss: 2.751, NDCG: 0.3013\n",
            "Epoch: 4, Loss: 2.706, NDCG: 0.3101\n"
          ]
        },
        {
          "output_type": "display_data",
          "data": {
            "text/plain": [
              "<Figure size 800x300 with 1 Axes>"
            ],
            "image/png": "[encoded data removed]"
          },
          "metadata": {}
        },
        {
          "output_type": "display_data",
          "data": {
            "text/plain": [
              "<Figure size 800x300 with 1 Axes>"
            ],
            "image/png": "[encoded data removed]"
          },
          "metadata": {}
        }
      ]
    },
    {
      "cell_type": "markdown",
      "id": "signed-undergraduate",
      "metadata": {
        "id": "signed-undergraduate"
      },
      "source": [
        "# 2 Pairwise Learning to Rank\n",
        "Implement the pairwise loss from the [LambdaLoss paper](https://storage.googleapis.com/pub-tools-public-publication-data/pdf/1e34e05e5e4bf2d12f41eb9ff29ac3da9fdb4de3.pdf):\n",
        "$$L = \\frac{1}{|\\{y_{d_i} > y_{d_j}\\}|}\\sum_{y_{d_i} > y_{d_j}}\\log(1 + e^{\\hat{y}_{d_j} - \\hat{y}_{d_i}}).$$\n",
        "The $y_{d_i} > y_{d_j}$ indicates that the label of document $i$ is greater than $j$, i.e. $d_i$ is more relevant than $d_j$, and $\\sum_{y_{d_i} > y_{d_j}}$ sums over all document pairs with unequal labels.\n",
        "\n",
        "You may notice that the above formulation is undefined if all documents have the identical labels.\n",
        "Since any ranking is optimal in this case, we define $L = 0$ in this scenario.\n",
        "This has some implications on your implementation, since the *mean* function returns *NaN* for empty arrays.\n",
        "\n",
        "Your implementation needs to be fast enough to be practical, the best way to do this is by using [broadcasting](https://numpy.org/doc/stable/user/basics.broadcasting.html).\n",
        "\n",
        "Complete the function below:"
      ]
    },
    {
      "cell_type": "code",
      "execution_count": null,
      "id": "1541107e",
      "metadata": {
        "id": "1541107e"
      },
      "outputs": [],
      "source": [
        "def pairwise_loss_fn(scores, labels, mask):\n",
        "    padding_mask = jnp.logical_and(mask[:,None], mask[None,:])\n",
        "    greater_mask = jnp.greater(labels[None,:], labels[:,None])\n",
        "    combined_mask = jnp.logical_and(padding_mask, greater_mask)\n",
        "    sum_values = jnp.sum(jnp.log(1 + jnp.exp(scores[:,None]-scores[None,:])),\n",
        "                       where=combined_mask)\n",
        "    return sum_values/jnp.maximum(1., jnp.sum(combined_mask))"
      ]
    },
    {
      "cell_type": "markdown",
      "id": "1abc73f0",
      "metadata": {
        "id": "1abc73f0"
      },
      "source": [
        "Here are some test scenarios:"
      ]
    },
    {
      "cell_type": "code",
      "execution_count": null,
      "id": "d21341d9",
      "metadata": {
        "id": "d21341d9"
      },
      "outputs": [],
      "source": [
        "# checks without masking\n",
        "assert jnp.isclose(pairwise_loss_fn(jnp.array([1]), jnp.array([0]), jnp.array([True])), 0)\n",
        "assert jnp.isclose(pairwise_loss_fn(jnp.array([0,0]), jnp.array([0,0]), jnp.array([True, True])), 0)\n",
        "assert jnp.isclose(pairwise_loss_fn(jnp.array([1,0]), jnp.array([0,1]), jnp.array([True,True])), 1.3132616)\n",
        "assert jnp.isclose(pairwise_loss_fn(jnp.array([2,-2]), jnp.array([0,1]), jnp.array([True,True])), 4.01815)\n",
        "assert jnp.isclose(pairwise_loss_fn(jnp.array([2.5,-0.2]), jnp.array([0,1]), jnp.array([True,True])), 2.7650435)\n",
        "assert jnp.isclose(pairwise_loss_fn(jnp.array([2.5,-0.2]), jnp.array([1,0]), jnp.array([True,True])), 0.06504359)\n",
        "assert jnp.isclose(pairwise_loss_fn(jnp.array([1,2,3,4,5]), jnp.array([5,1,3,2,4]), jnp.array([True,True,True,True,True])), 1.2749155)\n",
        "# checks with masking\n",
        "assert jnp.isclose(pairwise_loss_fn(jnp.array([1,1]), jnp.array([0,1]), jnp.array([True,False])), 0)\n",
        "assert jnp.isclose(pairwise_loss_fn(jnp.array([0,0,1]), jnp.array([0,0,1]), jnp.array([True, True,False])), 0)\n",
        "assert jnp.isclose(pairwise_loss_fn(jnp.array([1,0,1]), jnp.array([0,1,1]), jnp.array([True,True,False])), 1.3132616)\n",
        "assert jnp.isclose(pairwise_loss_fn(jnp.array([2,-2,1]), jnp.array([0,1,1]), jnp.array([True,True,False])), 4.01815)\n",
        "assert jnp.isclose(pairwise_loss_fn(jnp.array([2.5,-0.2,1]), jnp.array([0,1,1]), jnp.array([True,True,False])), 2.7650435)\n",
        "assert jnp.isclose(pairwise_loss_fn(jnp.array([2.5,-0.2,1]), jnp.array([1,0,1]), jnp.array([True,True,False])), 0.06504359)\n",
        "assert jnp.isclose(pairwise_loss_fn(jnp.array([1,2,3,4,5,1]), jnp.array([5,1,3,2,4,1]), jnp.array([True,True,True,True,True,False])), 1.2749155)"
      ]
    },
    {
      "cell_type": "markdown",
      "id": "6f229918",
      "metadata": {
        "id": "6f229918"
      },
      "source": [
        "Your code should not only be correct, but also fast enough to enable feasible optimization. The following two tests will test how quick your implementation is."
      ]
    },
    {
      "cell_type": "code",
      "execution_count": null,
      "id": "66beeda4",
      "metadata": {
        "id": "66beeda4",
        "colab": {
          "base_uri": "https://localhost:8080/"
        },
        "outputId": "1fa2aeb2-0ada-4b56-b2b9-4327098d187b"
      },
      "outputs": [
        {
          "output_type": "stream",
          "name": "stdout",
          "text": [
            "Epoch completed in 13.341245412826538 seconds, that is 1.3 seconds more than expected.\n",
            "Your implementation is fast enough.\n"
          ]
        }
      ],
      "source": [
        "start_time = time.time()\n",
        "optimize_loss(pairwise_loss_fn, optimize_rng, max_epochs=1, evaluate_every=1,verbose=False)\n",
        "seconds_lapsed = time.time() - start_time\n",
        "print(f'Epoch completed in {seconds_lapsed} seconds, that is {seconds_lapsed - 12:.1f} seconds more than expected.')\n",
        "assert seconds_lapsed < 20\n",
        "print(f'Your implementation is fast enough.')"
      ]
    },
    {
      "cell_type": "code",
      "source": [
        "rng, optimize_rng = jax.random.split(rng)\n",
        "visualize_output(optimize_loss(pairwise_loss_fn, optimize_rng, max_epochs=4, evaluate_every=1),\n",
        "                 title=\"Pairwise Loss\")"
      ],
      "metadata": {
        "id": "cpYvIfDVz230",
        "colab": {
          "base_uri": "https://localhost:8080/",
          "height": 738
        },
        "outputId": "97a3345f-927f-4686-a019-588a04fcc2ed"
      },
      "id": "cpYvIfDVz230",
      "execution_count": null,
      "outputs": [
        {
          "output_type": "stream",
          "name": "stdout",
          "text": [
            "Epoch: 0, Loss: 0.678, NDCG: 0.133\n",
            "Epoch: 1, Loss: 0.611, NDCG: 0.2971\n",
            "Epoch: 2, Loss: 0.594, NDCG: 0.3028\n",
            "Epoch: 3, Loss: 0.590, NDCG: 0.3048\n",
            "Epoch: 4, Loss: 0.586, NDCG: 0.3157\n"
          ]
        },
        {
          "output_type": "display_data",
          "data": {
            "text/plain": [
              "<Figure size 800x300 with 1 Axes>"
            ],
            "image/png": "[encoded data removed]"
          },
          "metadata": {}
        },
        {
          "output_type": "display_data",
          "data": {
            "text/plain": [
              "<Figure size 800x300 with 1 Axes>"
            ],
            "image/png": "[encoded data removed]"
          },
          "metadata": {}
        }
      ]
    },
    {
      "cell_type": "markdown",
      "source": [
        "## Some Tips on Broadcasting"
      ],
      "metadata": {
        "id": "DElmwYEbRmBX"
      },
      "id": "DElmwYEbRmBX"
    },
    {
      "cell_type": "markdown",
      "source": [
        "Broadcasting allows one to broadcast a smaller array to a larger shape, this can simulate looping or repetition of data.\n",
        "For a pairwise loss, this can be useful to create a matrix that contains comparisons of all elements in a vector.\n",
        "\n",
        "To show you what this can look like consider the following matrix, created by broadcasting two vector and summing them:"
      ],
      "metadata": {
        "id": "m3QySRxDWNA5"
      },
      "id": "m3QySRxDWNA5"
    },
    {
      "cell_type": "code",
      "source": [
        "v1 = jnp.arange(5)\n",
        "v2 = jnp.zeros(5)"
      ],
      "metadata": {
        "id": "YG2uMYGRSZnk"
      },
      "id": "YG2uMYGRSZnk",
      "execution_count": null,
      "outputs": []
    },
    {
      "cell_type": "code",
      "source": [
        "v1[:,None] + v2[None,:]"
      ],
      "metadata": {
        "id": "xeADDeWAS3r-",
        "colab": {
          "base_uri": "https://localhost:8080/"
        },
        "outputId": "af62e1de-798f-41ef-8e70-a142ad57dbae"
      },
      "id": "xeADDeWAS3r-",
      "execution_count": null,
      "outputs": [
        {
          "output_type": "execute_result",
          "data": {
            "text/plain": [
              "Array([[0., 0., 0., 0., 0.],\n",
              "       [1., 1., 1., 1., 1.],\n",
              "       [2., 2., 2., 2., 2.],\n",
              "       [3., 3., 3., 3., 3.],\n",
              "       [4., 4., 4., 4., 4.]], dtype=float32)"
            ]
          },
          "metadata": {},
          "execution_count": 181
        }
      ]
    },
    {
      "cell_type": "markdown",
      "source": [
        "We can change the direction of broadcasting by adding dimensions in a different place:"
      ],
      "metadata": {
        "id": "vCS_cJSAT4QW"
      },
      "id": "vCS_cJSAT4QW"
    },
    {
      "cell_type": "code",
      "source": [
        "v1[None,:] + v2[:,None]"
      ],
      "metadata": {
        "id": "kNv_0RYES5_m",
        "colab": {
          "base_uri": "https://localhost:8080/"
        },
        "outputId": "dd9db70f-002a-400c-eb69-b7f045dacc17"
      },
      "id": "kNv_0RYES5_m",
      "execution_count": null,
      "outputs": [
        {
          "output_type": "execute_result",
          "data": {
            "text/plain": [
              "Array([[0., 1., 2., 3., 4.],\n",
              "       [0., 1., 2., 3., 4.],\n",
              "       [0., 1., 2., 3., 4.],\n",
              "       [0., 1., 2., 3., 4.],\n",
              "       [0., 1., 2., 3., 4.]], dtype=float32)"
            ]
          },
          "metadata": {},
          "execution_count": 182
        }
      ]
    },
    {
      "cell_type": "markdown",
      "source": [
        "The *None* in the indexing indicates that we wish to add a dimension, the resulting matrix will simply repeat the values in the direction of the new dimension.\n",
        "The size of the dimension does not matter, it is adjusted contextually.\n",
        "\n",
        "Broadcasting can be used to avoid looping, for example, we can find all pairs of numbers $x$ and $y$ from zero to five where $x > y$, without a for loop:\n"
      ],
      "metadata": {
        "id": "dJH9QSA5SjGf"
      },
      "id": "dJH9QSA5SjGf"
    },
    {
      "cell_type": "code",
      "source": [
        "v = jnp.arange(6)\n",
        "mask = jnp.greater(v[:,None], v[None,:])\n",
        "mask"
      ],
      "metadata": {
        "id": "_cqjMpjVToMX",
        "colab": {
          "base_uri": "https://localhost:8080/"
        },
        "outputId": "12816bc4-be56-4554-9c31-838e93cfe02f"
      },
      "id": "_cqjMpjVToMX",
      "execution_count": null,
      "outputs": [
        {
          "output_type": "execute_result",
          "data": {
            "text/plain": [
              "Array([[False, False, False, False, False, False],\n",
              "       [ True, False, False, False, False, False],\n",
              "       [ True,  True, False, False, False, False],\n",
              "       [ True,  True,  True, False, False, False],\n",
              "       [ True,  True,  True,  True, False, False],\n",
              "       [ True,  True,  True,  True,  True, False]], dtype=bool)"
            ]
          },
          "metadata": {},
          "execution_count": 184
        }
      ]
    },
    {
      "cell_type": "code",
      "source": [
        "# the jnp.where function does not work well with jit compilation\n",
        "# but it allows us to print the example easily\n",
        "x,y = jnp.where(mask)\n",
        "for i in range(x.shape[0]):\n",
        "  print(f'{x[i]} > {y[i]}')"
      ],
      "metadata": {
        "id": "j6ZivovJUI8n",
        "colab": {
          "base_uri": "https://localhost:8080/"
        },
        "outputId": "74a82d99-3b09-4de6-c4ba-bb42ebec07b6"
      },
      "id": "j6ZivovJUI8n",
      "execution_count": null,
      "outputs": [
        {
          "output_type": "stream",
          "name": "stdout",
          "text": [
            "1 > 0\n",
            "2 > 0\n",
            "2 > 1\n",
            "3 > 0\n",
            "3 > 1\n",
            "3 > 2\n",
            "4 > 0\n",
            "4 > 1\n",
            "4 > 2\n",
            "4 > 3\n",
            "5 > 0\n",
            "5 > 1\n",
            "5 > 2\n",
            "5 > 3\n",
            "5 > 4\n"
          ]
        }
      ]
    },
    {
      "cell_type": "markdown",
      "source": [
        "This is a very simple example, but in general, avoiding for loops can greatly increase the execution speed of your code."
      ],
      "metadata": {
        "id": "cTEBhJZfV63L"
      },
      "id": "cTEBhJZfV63L"
    },
    {
      "cell_type": "markdown",
      "id": "loved-enough",
      "metadata": {
        "id": "loved-enough"
      },
      "source": [
        "# 3 Listwise Learning to Rank\n",
        "\n",
        "Implement the listwise loss from the [original listwise LTR paper](http://icml2008.cs.helsinki.fi/papers/167.pdf), this paper models the probability of a ranking as a Plackett-Luce model (similar to a soft-max function). As the loss function we will use the negative log-likelihood of the optimal ranking.\n",
        "Let $R$ denote the optimal ranking for query $q$, ${R[i]}$ as the $i$th document in the optimal ranking and $\\hat{y}_{R[i]}$ as its predicted score, the loss is then:\n",
        "$$L = - \\sum_{i = 1}^{|R|} \\log\\left( \\frac{ \\exp\\left(\\hat{y}_{R[i]} \\right)}{\\sum_{j=i}^{|R|} \\exp\\left(\\hat{y}_{R[j]}\\right)} \\right).$$\n",
        "\n",
        "Please note that the denominator sum starts at $i$ and **not** at $1$.\n",
        "\n",
        "Use broadcasting to make your implementation fast, you probably want to use the *argsort* and *cumsum* functions.\n",
        "Another trick that makes things easier is using the fact that $\\exp(-\\infty) = 0$.\n",
        "\n",
        "Complete the function below:"
      ]
    },
    {
      "cell_type": "code",
      "execution_count": null,
      "id": "40a70b44",
      "metadata": {
        "id": "40a70b44"
      },
      "outputs": [],
      "source": [
        "def listwise_loss_fn(scores, labels, mask):\n",
        "#   return 0.\n",
        "    mask_penalty = jnp.logical_not(mask)*jnp.inf\n",
        "    best_ranking = jnp.argsort(labels-mask_penalty)[::-1]\n",
        "    ranked_scores = jnp.exp(scores[best_ranking]-mask_penalty)\n",
        "    denominator = jnp.cumsum(ranked_scores[::-1])[::-1]\n",
        "    log_prob = jnp.log(ranked_scores+0.0000001) - jnp.log(denominator+0.0000001)\n",
        "    return -jnp.sum(log_prob, where=mask)"
      ]
    },
    {
      "cell_type": "markdown",
      "id": "75f20400",
      "metadata": {
        "id": "75f20400"
      },
      "source": [
        "The following assertions will test the correctness of your implementation in some scenarios."
      ]
    },
    {
      "cell_type": "code",
      "execution_count": null,
      "id": "b25a7a94",
      "metadata": {
        "id": "b25a7a94"
      },
      "outputs": [],
      "source": [
        "# checks without masking\n",
        "assert jnp.isclose(listwise_loss_fn(jnp.array([1]), jnp.array([0]), jnp.array([True])), 0)\n",
        "assert jnp.isclose(listwise_loss_fn(jnp.array([1,0]), jnp.array([0,1]), jnp.array([True,True])), 1.3132616)\n",
        "assert jnp.isclose(listwise_loss_fn(jnp.array([2,-2]), jnp.array([0,1]), jnp.array([True,True])), 4.01815)\n",
        "assert jnp.isclose(listwise_loss_fn(jnp.array([2.5,-0.2]), jnp.array([0,1]), jnp.array([True,True])), 2.7650435)\n",
        "assert jnp.isclose(listwise_loss_fn(jnp.array([2.5,-0.2]), jnp.array([1,0]), jnp.array([True,True])), 0.06504359)\n",
        "assert jnp.isclose(listwise_loss_fn(jnp.array([1,2,3,4,5]), jnp.array([5,1,3,2,4]), jnp.array([True,True,True,True,True])), 6.4266376)\n",
        "# checks with masking\n",
        "assert jnp.isclose(listwise_loss_fn(jnp.array([1,1]), jnp.array([0,1]), jnp.array([True,False])), 0)\n",
        "assert jnp.isclose(listwise_loss_fn(jnp.array([1,0,1]), jnp.array([0,1,1]), jnp.array([True,True,False])), 1.3132616)\n",
        "assert jnp.isclose(listwise_loss_fn(jnp.array([2,-2,1]), jnp.array([0,1,1]), jnp.array([True,True,False])), 4.01815)\n",
        "assert jnp.isclose(listwise_loss_fn(jnp.array([2.5,-0.2,1]), jnp.array([0,1,1]), jnp.array([True,True,False])), 2.7650435)\n",
        "assert jnp.isclose(listwise_loss_fn(jnp.array([2.5,-0.2,1]), jnp.array([1,0,1]), jnp.array([True,True,False])), 0.06504359)\n",
        "assert jnp.isclose(listwise_loss_fn(jnp.array([1,2,3,4,5,1]), jnp.array([5,1,3,2,4,1]), jnp.array([True,True,True,True,True,False])), 6.4266376)"
      ]
    },
    {
      "cell_type": "markdown",
      "source": [
        "Your code should not only be correct, but also fast enough to enable feasible optimization. The following two tests will test how quick your implementation is."
      ],
      "metadata": {
        "id": "9qFyMSgmjtVB"
      },
      "id": "9qFyMSgmjtVB"
    },
    {
      "cell_type": "code",
      "source": [
        "start_time = time.time()\n",
        "optimize_loss(listwise_loss_fn, optimize_rng, max_epochs=1, evaluate_every=1,verbose=False)\n",
        "seconds_lapsed = time.time() - start_time\n",
        "print(f'Epoch completed in {seconds_lapsed} seconds, that is {seconds_lapsed - 12:.1f} seconds more than expected.')\n",
        "assert seconds_lapsed < 20\n",
        "print(f'Your implementation is fast enough.')"
      ],
      "metadata": {
        "id": "Yxcloa0Xfb-E",
        "colab": {
          "base_uri": "https://localhost:8080/"
        },
        "outputId": "20e2033a-8009-4433-ca45-6c87ea00400c"
      },
      "id": "Yxcloa0Xfb-E",
      "execution_count": null,
      "outputs": [
        {
          "output_type": "stream",
          "name": "stdout",
          "text": [
            "Epoch completed in 12.76579475402832 seconds, that is 0.8 seconds more than expected.\n",
            "Your implementation is fast enough.\n"
          ]
        }
      ]
    },
    {
      "cell_type": "code",
      "source": [
        "rng, optimize_rng = jax.random.split(rng)\n",
        "visualize_output(optimize_loss(listwise_loss_fn, optimize_rng,\n",
        "                learning_rate=0.01, max_epochs=4, evaluate_every=1),\n",
        "                 title=\"Listwise Loss\")"
      ],
      "metadata": {
        "id": "Cy8mOwhFffO-",
        "colab": {
          "base_uri": "https://localhost:8080/",
          "height": 738
        },
        "outputId": "e7afe15b-3cdc-41ca-b282-00e76f50b240"
      },
      "id": "Cy8mOwhFffO-",
      "execution_count": null,
      "outputs": [
        {
          "output_type": "stream",
          "name": "stdout",
          "text": [
            "Epoch: 0, Loss: 456.188, NDCG: 0.092\n",
            "Epoch: 1, Loss: 437.496, NDCG: 0.2839\n",
            "Epoch: 2, Loss: 436.213, NDCG: 0.2911\n",
            "Epoch: 3, Loss: 435.835, NDCG: 0.2991\n",
            "Epoch: 4, Loss: 435.517, NDCG: 0.2981\n"
          ]
        },
        {
          "output_type": "display_data",
          "data": {
            "text/plain": [
              "<Figure size 800x300 with 1 Axes>"
            ],
            "image/png": "[encoded data removed]"
          },
          "metadata": {}
        },
        {
          "output_type": "display_data",
          "data": {
            "text/plain": [
              "<Figure size 800x300 with 1 Axes>"
            ],
            "image/png": "[encoded data removed]"
          },
          "metadata": {}
        }
      ]
    },
    {
      "cell_type": "markdown",
      "source": [
        "If you run into a *NaN* loss, this could be because of underflow causing the computation of $log(0)$ which is undefined. A simple solution for this issue is to add a very small positive number to the log input, i.e. $10^{-6}$."
      ],
      "metadata": {
        "id": "p_iGcty0natL"
      },
      "id": "p_iGcty0natL"
    },
    {
      "cell_type": "markdown",
      "source": [
        "#4 Approximate DCG Loss\n",
        "\n",
        "Finally, implement the ApproxDCG loss based on the approximation described by the [Rax paper](https://research.google/pubs/rax-composable-learning-to-rank-using-jax/).\n",
        "The idea is that the rank of a document can be approximated by a pairwise summing:\n",
        "$$\n",
        "\\text{rank}(d_i)= 1 + \\sum_{j: j\\not=i} \\mathbb{1}[s_i > s_j] \\approx  1 + \\sum_{j:i\\not=j} \\frac{1}{1 + \\exp(s_j - s_i)} = \\overline{\\text{rank}}(d_i).\n",
        "$$\n",
        "In turn, this approximate rank can be used to approximate a metric like DCG, resulting in the loss:\n",
        "$$\n",
        "L = -\\sum_{d} \\frac{\\text{label}(d)}{log_2(1 + \\overline{\\text{rank}}(d))}.\n",
        "$$\n",
        "Implement this approximage DCG loss."
      ],
      "metadata": {
        "id": "4gUxyuF0j0to"
      },
      "id": "4gUxyuF0j0to"
    },
    {
      "cell_type": "code",
      "source": [
        "def approx_dcg_loss_fn(scores, labels, mask):\n",
        "#   return 0.\n",
        "    mask_penalty = jnp.logical_not(mask)*jnp.inf\n",
        "    # mask_penalty\n",
        "    rank = 1/(1+jnp.exp(scores[:, None] - scores[None, :]-mask_penalty))\n",
        "    rankd = jnp.sum(rank, axis=1, where=mask)\n",
        "    loss = -jnp.sum(labels / jnp.log2(1.5 + rankd), where=mask)\n",
        "    return loss"
      ],
      "metadata": {
        "id": "hL6F-dnolvoe"
      },
      "id": "hL6F-dnolvoe",
      "execution_count": null,
      "outputs": []
    },
    {
      "cell_type": "markdown",
      "source": [
        "The following checks will verify if your code is correct in test scenarios:"
      ],
      "metadata": {
        "id": "eDCihH3jxiti"
      },
      "id": "eDCihH3jxiti"
    },
    {
      "cell_type": "code",
      "source": [
        "# checks without masking\n",
        "assert jnp.isclose(approx_dcg_loss_fn(jnp.array([1]), jnp.array([0]), jnp.array([True])), 0)\n",
        "assert jnp.isclose(approx_dcg_loss_fn(jnp.array([10,0]), jnp.array([0,1]), jnp.array([True,True])), -0.6309385)\n",
        "assert jnp.isclose(approx_dcg_loss_fn(jnp.array([20,-20]), jnp.array([0,1]), jnp.array([True,True])), -0.63092977)\n",
        "assert jnp.isclose(approx_dcg_loss_fn(jnp.array([2.5,2]), jnp.array([0,1]), jnp.array([True,True])), -0.7189484)\n",
        "assert jnp.isclose(approx_dcg_loss_fn(jnp.array([2.5,2]), jnp.array([1,0]), jnp.array([True,True])), -0.80033934)\n",
        "assert jnp.isclose(approx_dcg_loss_fn(jnp.array([10,20,30,40,50]), jnp.array([5,1,3,2,4]), jnp.array([True,True,True,True,True])), -9.1266775)\n",
        "# checks with masking\n",
        "assert jnp.isclose(approx_dcg_loss_fn(jnp.array([1,1]), jnp.array([0,1]), jnp.array([True,False])), 0)\n",
        "assert jnp.isclose(approx_dcg_loss_fn(jnp.array([10,0,1]), jnp.array([0,1,1]), jnp.array([True,True,False])), -0.6309385)\n",
        "assert jnp.isclose(approx_dcg_loss_fn(jnp.array([20,-20,1]), jnp.array([0,1,1]), jnp.array([True,True,False])), -0.63092977)\n",
        "assert jnp.isclose(approx_dcg_loss_fn(jnp.array([2.5,2,1]), jnp.array([0,1,1]), jnp.array([True,True,False])), -0.7189484)\n",
        "assert jnp.isclose(approx_dcg_loss_fn(jnp.array([2.5,2,1]), jnp.array([1,0,1]), jnp.array([True,True,False])), -0.80033934)\n",
        "assert jnp.isclose(approx_dcg_loss_fn(jnp.array([10,20,30,40,50,1]), jnp.array([5,1,3,2,4,1]), jnp.array([True,True,True,True,True,False])), -9.1266775)"
      ],
      "metadata": {
        "id": "fxGrhIi5mQvM"
      },
      "id": "fxGrhIi5mQvM",
      "execution_count": null,
      "outputs": []
    },
    {
      "cell_type": "markdown",
      "source": [
        "The following code checks if your implementation is computationally efficient enough and works with jit compilation."
      ],
      "metadata": {
        "id": "2iTnOlbrxnm7"
      },
      "id": "2iTnOlbrxnm7"
    },
    {
      "cell_type": "code",
      "source": [
        "start_time = time.time()\n",
        "optimize_loss(approx_dcg_loss_fn, optimize_rng, max_epochs=1, evaluate_every=1,verbose=False)\n",
        "seconds_lapsed = time.time() - start_time\n",
        "print(f'Epoch completed in {seconds_lapsed} seconds, that is {seconds_lapsed - 12:.1f} seconds more than expected.')\n",
        "assert seconds_lapsed < 20\n",
        "print(f'Your implementation is fast enough.')"
      ],
      "metadata": {
        "id": "nytyypLinMN3",
        "colab": {
          "base_uri": "https://localhost:8080/"
        },
        "outputId": "cceeee6c-3948-4822-d67d-c121a11909e7"
      },
      "id": "nytyypLinMN3",
      "execution_count": null,
      "outputs": [
        {
          "output_type": "stream",
          "name": "stdout",
          "text": [
            "Epoch completed in 13.949991464614868 seconds, that is 1.9 seconds more than expected.\n",
            "Your implementation is fast enough.\n"
          ]
        }
      ]
    },
    {
      "cell_type": "code",
      "source": [
        "rng, optimize_rng = jax.random.split(rng)\n",
        "visualize_output(optimize_loss(approx_dcg_loss_fn, optimize_rng,\n",
        "                learning_rate=0.01, max_epochs=4, evaluate_every=1),\n",
        "                 title=\"ApproxDCG Loss\")"
      ],
      "metadata": {
        "id": "mUlxJph7nPdU",
        "colab": {
          "base_uri": "https://localhost:8080/",
          "height": 738
        },
        "outputId": "851a2257-8be0-4389-938a-d6de08a9aea1"
      },
      "id": "mUlxJph7nPdU",
      "execution_count": null,
      "outputs": [
        {
          "output_type": "stream",
          "name": "stdout",
          "text": [
            "Epoch: 0, Loss: -17.407, NDCG: 0.116\n",
            "Epoch: 1, Loss: -21.098, NDCG: 0.2826\n",
            "Epoch: 2, Loss: -23.977, NDCG: 0.3214\n",
            "Epoch: 3, Loss: -24.722, NDCG: 0.3316\n",
            "Epoch: 4, Loss: -25.049, NDCG: 0.3360\n"
          ]
        },
        {
          "output_type": "display_data",
          "data": {
            "text/plain": [
              "<Figure size 800x300 with 1 Axes>"
            ],
            "image/png": "[encoded data removed]"
          },
          "metadata": {}
        },
        {
          "output_type": "display_data",
          "data": {
            "text/plain": [
              "<Figure size 800x300 with 1 Axes>"
            ],
            "image/png": "[encoded data removed]"
          },
          "metadata": {}
        }
      ]
    },
    {
      "cell_type": "markdown",
      "source": [
        "# 5 Full Training Comparison\n",
        "\n",
        "Now that you have finished your implementations, we can do a longer run to compare the learning curves of the different loss functions.\n",
        "The following should take about 15 minutes to run, feel free to have a break while it runs."
      ],
      "metadata": {
        "id": "O7iU21GtwKR3"
      },
      "id": "O7iU21GtwKR3"
    },
    {
      "cell_type": "code",
      "source": [
        "losses = {\n",
        "    \"Mean-Squared-Error (MSE)\": MSE_loss_fn,\n",
        "    \"Pairwise Loss\": pairwise_loss_fn,\n",
        "    \"Listwise Loss\": listwise_loss_fn,\n",
        "    \"ApproxDCG Loss\": approx_dcg_loss_fn,\n",
        "          }\n",
        "result = {}\n",
        "for name, loss in losses.items():\n",
        "  rng, optimize_rng = jax.random.split(rng)\n",
        "  print(f'Optimizing {name}.')\n",
        "  result[name] = optimize_loss(loss, optimize_rng, max_epochs=15, evaluate_every=1, verbose=False)"
      ],
      "metadata": {
        "collapsed": true,
        "id": "cYGg0qOnpWUx",
        "colab": {
          "base_uri": "https://localhost:8080/"
        },
        "outputId": "05e57c65-ae1e-4167-ebd4-10c6afd7d75a"
      },
      "id": "cYGg0qOnpWUx",
      "execution_count": null,
      "outputs": [
        {
          "output_type": "stream",
          "name": "stdout",
          "text": [
            "Optimizing Mean-Squared-Error (MSE).\n",
            "Optimizing Pairwise Loss.\n",
            "Optimizing Listwise Loss.\n",
            "Optimizing ApproxDCG Loss.\n"
          ]
        }
      ]
    },
    {
      "cell_type": "code",
      "source": [
        "plt.title('Loss Progression Comparison')\n",
        "for name, output_list in result.items():\n",
        "  plt.plot([x[0] for x in output_list if len(x) > 1],\n",
        "           [x[1] for x in output_list if len(x) > 1],\n",
        "           label=name)\n",
        "plt.xlabel('Number of Epochs')\n",
        "plt.ylabel('Loss Value')\n",
        "plt.legend()\n",
        "plt.show()\n",
        "plt.close()\n",
        "\n",
        "plt.title('Performance Progression Comparison')\n",
        "for name, output_list in result.items():\n",
        "  plt.plot([x[0] for x in output_list if len(x) > 2],\n",
        "          [x[2] for x in output_list if len(x) > 2],\n",
        "          label=name)\n",
        "plt.xlabel('Number of Epochs')\n",
        "plt.ylabel('NDCG@10')\n",
        "plt.legend()\n",
        "plt.show()\n",
        "plt.close()"
      ],
      "metadata": {
        "id": "jsTLzjQnzp-I",
        "colab": {
          "base_uri": "https://localhost:8080/",
          "height": 649
        },
        "outputId": "c8b79849-6b90-4b70-9971-17d81c3adc85"
      },
      "id": "jsTLzjQnzp-I",
      "execution_count": null,
      "outputs": [
        {
          "output_type": "display_data",
          "data": {
            "text/plain": [
              "<Figure size 800x300 with 1 Axes>"
            ],
            "image/png": "[encoded data removed]"
          },
          "metadata": {}
        },
        {
          "output_type": "display_data",
          "data": {
            "text/plain": [
              "<Figure size 800x300 with 1 Axes>"
            ],
            "image/png": "[encoded data removed]"
          },
          "metadata": {}
        }
      ]
    },
    {
      "cell_type": "markdown",
      "id": "lasting-order",
      "metadata": {
        "id": "lasting-order"
      },
      "source": [
        "# 6 Reflection\n",
        "\n",
        "Look and compare the loss and DCG plots for the different LTR methods.\n",
        "Discuss the differences you see and how this relates to the LTR theory.\n",
        "\n",
        "\\[Keep you answer limited to 500 words.\\]"
      ]
    },
    {
      "cell_type": "code",
      "source": [],
      "metadata": {
        "id": "IYcVPIXLpUEj"
      },
      "id": "IYcVPIXLpUEj",
      "execution_count": null,
      "outputs": []
    }
  ],
  "metadata": {
    "colab": {
      "collapsed_sections": [
        "FZZGMPxZd7jM"
      ],
      "provenance": []
    },
    "kernelspec": {
      "display_name": "Python 3",
      "name": "python3"
    },
    "language_info": {
      "codemirror_mode": {
        "name": "ipython",
        "version": 3
      },
      "file_extension": ".py",
      "mimetype": "text/x-python",
      "name": "python",
      "nbconvert_exporter": "python",
      "pygments_lexer": "ipython3",
      "version": "3.8.2"
    },
    "widgets": {
      "application/vnd.jupyter.widget-state+json": {
        "5147fb16ce434d859a717953a7db5e03": {
          "model_module": "@jupyter-widgets/controls",
          "model_name": "HBoxModel",
          "model_module_version": "1.5.0",
          "state": {
            "_dom_classes": [],
            "_model_module": "@jupyter-widgets/controls",
            "_model_module_version": "1.5.0",
            "_model_name": "HBoxModel",
            "_view_count": null,
            "_view_module": "@jupyter-widgets/controls",
            "_view_module_version": "1.5.0",
            "_view_name": "HBoxView",
            "box_style": "",
            "children": [
              "IPY_MODEL_f5b27ca0fbd240d4a3c1e40ee4779f61",
              "IPY_MODEL_97bad4b0e63042008d48b93fe9a62dbd",
              "IPY_MODEL_d7345936c52f4c31a82a167b6d4a6083"
            ],
            "layout": "IPY_MODEL_d71e6379660a422cbe00053a26929fa6"
          }
        },
        "f5b27ca0fbd240d4a3c1e40ee4779f61": {
          "model_module": "@jupyter-widgets/controls",
          "model_name": "HTMLModel",
          "model_module_version": "1.5.0",
          "state": {
            "_dom_classes": [],
            "_model_module": "@jupyter-widgets/controls",
            "_model_module_version": "1.5.0",
            "_model_name": "HTMLModel",
            "_view_count": null,
            "_view_module": "@jupyter-widgets/controls",
            "_view_module_version": "1.5.0",
            "_view_name": "HTMLView",
            "description": "",
            "description_tooltip": null,
            "layout": "IPY_MODEL_e77cf425b1b74b389f06ed9e862d9053",
            "placeholder": "​",
            "style": "IPY_MODEL_f34921063cee4cd29ae68555b607ada9",
            "value": "Dl Completed...: 100%"
          }
        },
        "97bad4b0e63042008d48b93fe9a62dbd": {
          "model_module": "@jupyter-widgets/controls",
          "model_name": "FloatProgressModel",
          "model_module_version": "1.5.0",
          "state": {
            "_dom_classes": [],
            "_model_module": "@jupyter-widgets/controls",
            "_model_module_version": "1.5.0",
            "_model_name": "FloatProgressModel",
            "_view_count": null,
            "_view_module": "@jupyter-widgets/controls",
            "_view_module_version": "1.5.0",
            "_view_name": "ProgressView",
            "bar_style": "success",
            "description": "",
            "description_tooltip": null,
            "layout": "IPY_MODEL_3ec83c02043b44b18b57d97e49cc55c3",
            "max": 1,
            "min": 0,
            "orientation": "horizontal",
            "style": "IPY_MODEL_cfe77ee58d424996a9bf98cd056cc325",
            "value": 1
          }
        },
        "d7345936c52f4c31a82a167b6d4a6083": {
          "model_module": "@jupyter-widgets/controls",
          "model_name": "HTMLModel",
          "model_module_version": "1.5.0",
          "state": {
            "_dom_classes": [],
            "_model_module": "@jupyter-widgets/controls",
            "_model_module_version": "1.5.0",
            "_model_name": "HTMLModel",
            "_view_count": null,
            "_view_module": "@jupyter-widgets/controls",
            "_view_module_version": "1.5.0",
            "_view_name": "HTMLView",
            "description": "",
            "description_tooltip": null,
            "layout": "IPY_MODEL_660d87c366734717a2e90bf8f6295c95",
            "placeholder": "​",
            "style": "IPY_MODEL_e138efce97f34a90b452d13ffe4fac6e",
            "value": " 1/1 [02:16&lt;00:00, 53.30s/ url]"
          }
        },
        "d71e6379660a422cbe00053a26929fa6": {
          "model_module": "@jupyter-widgets/base",
          "model_name": "LayoutModel",
          "model_module_version": "1.2.0",
          "state": {
            "_model_module": "@jupyter-widgets/base",
            "_model_module_version": "1.2.0",
            "_model_name": "LayoutModel",
            "_view_count": null,
            "_view_module": "@jupyter-widgets/base",
            "_view_module_version": "1.2.0",
            "_view_name": "LayoutView",
            "align_content": null,
            "align_items": null,
            "align_self": null,
            "border": null,
            "bottom": null,
            "display": null,
            "flex": null,
            "flex_flow": null,
            "grid_area": null,
            "grid_auto_columns": null,
            "grid_auto_flow": null,
            "grid_auto_rows": null,
            "grid_column": null,
            "grid_gap": null,
            "grid_row": null,
            "grid_template_areas": null,
            "grid_template_columns": null,
            "grid_template_rows": null,
            "height": null,
            "justify_content": null,
            "justify_items": null,
            "left": null,
            "margin": null,
            "max_height": null,
            "max_width": null,
            "min_height": null,
            "min_width": null,
            "object_fit": null,
            "object_position": null,
            "order": null,
            "overflow": null,
            "overflow_x": null,
            "overflow_y": null,
            "padding": null,
            "right": null,
            "top": null,
            "visibility": null,
            "width": null
          }
        },
        "e77cf425b1b74b389f06ed9e862d9053": {
          "model_module": "@jupyter-widgets/base",
          "model_name": "LayoutModel",
          "model_module_version": "1.2.0",
          "state": {
            "_model_module": "@jupyter-widgets/base",
            "_model_module_version": "1.2.0",
            "_model_name": "LayoutModel",
            "_view_count": null,
            "_view_module": "@jupyter-widgets/base",
            "_view_module_version": "1.2.0",
            "_view_name": "LayoutView",
            "align_content": null,
            "align_items": null,
            "align_self": null,
            "border": null,
            "bottom": null,
            "display": null,
            "flex": null,
            "flex_flow": null,
            "grid_area": null,
            "grid_auto_columns": null,
            "grid_auto_flow": null,
            "grid_auto_rows": null,
            "grid_column": null,
            "grid_gap": null,
            "grid_row": null,
            "grid_template_areas": null,
            "grid_template_columns": null,
            "grid_template_rows": null,
            "height": null,
            "justify_content": null,
            "justify_items": null,
            "left": null,
            "margin": null,
            "max_height": null,
            "max_width": null,
            "min_height": null,
            "min_width": null,
            "object_fit": null,
            "object_position": null,
            "order": null,
            "overflow": null,
            "overflow_x": null,
            "overflow_y": null,
            "padding": null,
            "right": null,
            "top": null,
            "visibility": null,
            "width": null
          }
        },
        "f34921063cee4cd29ae68555b607ada9": {
          "model_module": "@jupyter-widgets/controls",
          "model_name": "DescriptionStyleModel",
          "model_module_version": "1.5.0",
          "state": {
            "_model_module": "@jupyter-widgets/controls",
            "_model_module_version": "1.5.0",
            "_model_name": "DescriptionStyleModel",
            "_view_count": null,
            "_view_module": "@jupyter-widgets/base",
            "_view_module_version": "1.2.0",
            "_view_name": "StyleView",
            "description_width": ""
          }
        },
        "3ec83c02043b44b18b57d97e49cc55c3": {
          "model_module": "@jupyter-widgets/base",
          "model_name": "LayoutModel",
          "model_module_version": "1.2.0",
          "state": {
            "_model_module": "@jupyter-widgets/base",
            "_model_module_version": "1.2.0",
            "_model_name": "LayoutModel",
            "_view_count": null,
            "_view_module": "@jupyter-widgets/base",
            "_view_module_version": "1.2.0",
            "_view_name": "LayoutView",
            "align_content": null,
            "align_items": null,
            "align_self": null,
            "border": null,
            "bottom": null,
            "display": null,
            "flex": null,
            "flex_flow": null,
            "grid_area": null,
            "grid_auto_columns": null,
            "grid_auto_flow": null,
            "grid_auto_rows": null,
            "grid_column": null,
            "grid_gap": null,
            "grid_row": null,
            "grid_template_areas": null,
            "grid_template_columns": null,
            "grid_template_rows": null,
            "height": null,
            "justify_content": null,
            "justify_items": null,
            "left": null,
            "margin": null,
            "max_height": null,
            "max_width": null,
            "min_height": null,
            "min_width": null,
            "object_fit": null,
            "object_position": null,
            "order": null,
            "overflow": null,
            "overflow_x": null,
            "overflow_y": null,
            "padding": null,
            "right": null,
            "top": null,
            "visibility": null,
            "width": "20px"
          }
        },
        "cfe77ee58d424996a9bf98cd056cc325": {
          "model_module": "@jupyter-widgets/controls",
          "model_name": "ProgressStyleModel",
          "model_module_version": "1.5.0",
          "state": {
            "_model_module": "@jupyter-widgets/controls",
            "_model_module_version": "1.5.0",
            "_model_name": "ProgressStyleModel",
            "_view_count": null,
            "_view_module": "@jupyter-widgets/base",
            "_view_module_version": "1.2.0",
            "_view_name": "StyleView",
            "bar_color": null,
            "description_width": ""
          }
        },
        "660d87c366734717a2e90bf8f6295c95": {
          "model_module": "@jupyter-widgets/base",
          "model_name": "LayoutModel",
          "model_module_version": "1.2.0",
          "state": {
            "_model_module": "@jupyter-widgets/base",
            "_model_module_version": "1.2.0",
            "_model_name": "LayoutModel",
            "_view_count": null,
            "_view_module": "@jupyter-widgets/base",
            "_view_module_version": "1.2.0",
            "_view_name": "LayoutView",
            "align_content": null,
            "align_items": null,
            "align_self": null,
            "border": null,
            "bottom": null,
            "display": null,
            "flex": null,
            "flex_flow": null,
            "grid_area": null,
            "grid_auto_columns": null,
            "grid_auto_flow": null,
            "grid_auto_rows": null,
            "grid_column": null,
            "grid_gap": null,
            "grid_row": null,
            "grid_template_areas": null,
            "grid_template_columns": null,
            "grid_template_rows": null,
            "height": null,
            "justify_content": null,
            "justify_items": null,
            "left": null,
            "margin": null,
            "max_height": null,
            "max_width": null,
            "min_height": null,
            "min_width": null,
            "object_fit": null,
            "object_position": null,
            "order": null,
            "overflow": null,
            "overflow_x": null,
            "overflow_y": null,
            "padding": null,
            "right": null,
            "top": null,
            "visibility": null,
            "width": null
          }
        },
        "e138efce97f34a90b452d13ffe4fac6e": {
          "model_module": "@jupyter-widgets/controls",
          "model_name": "DescriptionStyleModel",
          "model_module_version": "1.5.0",
          "state": {
            "_model_module": "@jupyter-widgets/controls",
            "_model_module_version": "1.5.0",
            "_model_name": "DescriptionStyleModel",
            "_view_count": null,
            "_view_module": "@jupyter-widgets/base",
            "_view_module_version": "1.2.0",
            "_view_name": "StyleView",
            "description_width": ""
          }
        },
        "6f9e1d8165ef495f92ce988b1f72e48a": {
          "model_module": "@jupyter-widgets/controls",
          "model_name": "HBoxModel",
          "model_module_version": "1.5.0",
          "state": {
            "_dom_classes": [],
            "_model_module": "@jupyter-widgets/controls",
            "_model_module_version": "1.5.0",
            "_model_name": "HBoxModel",
            "_view_count": null,
            "_view_module": "@jupyter-widgets/controls",
            "_view_module_version": "1.5.0",
            "_view_name": "HBoxView",
            "box_style": "",
            "children": [
              "IPY_MODEL_c974e986efbf4930a63960bf31932975",
              "IPY_MODEL_118c995a076549b8bc049eb3dd333fc2",
              "IPY_MODEL_a6e22bb84ee244cda2e46316df0221b0"
            ],
            "layout": "IPY_MODEL_0a15c31c1d584d2c916ebe1d91b4b6ea"
          }
        },
        "c974e986efbf4930a63960bf31932975": {
          "model_module": "@jupyter-widgets/controls",
          "model_name": "HTMLModel",
          "model_module_version": "1.5.0",
          "state": {
            "_dom_classes": [],
            "_model_module": "@jupyter-widgets/controls",
            "_model_module_version": "1.5.0",
            "_model_name": "HTMLModel",
            "_view_count": null,
            "_view_module": "@jupyter-widgets/controls",
            "_view_module_version": "1.5.0",
            "_view_name": "HTMLView",
            "description": "",
            "description_tooltip": null,
            "layout": "IPY_MODEL_491b3990b05645cb8786d8201b876e3b",
            "placeholder": "​",
            "style": "IPY_MODEL_b128d72cb8634e7d91399a6cf42ddca6",
            "value": "Dl Size...: 100%"
          }
        },
        "118c995a076549b8bc049eb3dd333fc2": {
          "model_module": "@jupyter-widgets/controls",
          "model_name": "FloatProgressModel",
          "model_module_version": "1.5.0",
          "state": {
            "_dom_classes": [],
            "_model_module": "@jupyter-widgets/controls",
            "_model_module_version": "1.5.0",
            "_model_name": "FloatProgressModel",
            "_view_count": null,
            "_view_module": "@jupyter-widgets/controls",
            "_view_module_version": "1.5.0",
            "_view_name": "ProgressView",
            "bar_style": "success",
            "description": "",
            "description_tooltip": null,
            "layout": "IPY_MODEL_9294b046315049dc99ac11a3e6d4f514",
            "max": 1,
            "min": 0,
            "orientation": "horizontal",
            "style": "IPY_MODEL_829f58f1ecf34aef8845c85e39d2b64b",
            "value": 1
          }
        },
        "a6e22bb84ee244cda2e46316df0221b0": {
          "model_module": "@jupyter-widgets/controls",
          "model_name": "HTMLModel",
          "model_module_version": "1.5.0",
          "state": {
            "_dom_classes": [],
            "_model_module": "@jupyter-widgets/controls",
            "_model_module_version": "1.5.0",
            "_model_name": "HTMLModel",
            "_view_count": null,
            "_view_module": "@jupyter-widgets/controls",
            "_view_module_version": "1.5.0",
            "_view_name": "HTMLView",
            "description": "",
            "description_tooltip": null,
            "layout": "IPY_MODEL_d4245e0e645e4935961498ee7fdcb1e1",
            "placeholder": "​",
            "style": "IPY_MODEL_95188b0ba4f74b6f8c2a164d345782fd",
            "value": " 1176/1176 [02:16&lt;00:00, 29.46 MiB/s]"
          }
        },
        "0a15c31c1d584d2c916ebe1d91b4b6ea": {
          "model_module": "@jupyter-widgets/base",
          "model_name": "LayoutModel",
          "model_module_version": "1.2.0",
          "state": {
            "_model_module": "@jupyter-widgets/base",
            "_model_module_version": "1.2.0",
            "_model_name": "LayoutModel",
            "_view_count": null,
            "_view_module": "@jupyter-widgets/base",
            "_view_module_version": "1.2.0",
            "_view_name": "LayoutView",
            "align_content": null,
            "align_items": null,
            "align_self": null,
            "border": null,
            "bottom": null,
            "display": null,
            "flex": null,
            "flex_flow": null,
            "grid_area": null,
            "grid_auto_columns": null,
            "grid_auto_flow": null,
            "grid_auto_rows": null,
            "grid_column": null,
            "grid_gap": null,
            "grid_row": null,
            "grid_template_areas": null,
            "grid_template_columns": null,
            "grid_template_rows": null,
            "height": null,
            "justify_content": null,
            "justify_items": null,
            "left": null,
            "margin": null,
            "max_height": null,
            "max_width": null,
            "min_height": null,
            "min_width": null,
            "object_fit": null,
            "object_position": null,
            "order": null,
            "overflow": null,
            "overflow_x": null,
            "overflow_y": null,
            "padding": null,
            "right": null,
            "top": null,
            "visibility": null,
            "width": null
          }
        },
        "491b3990b05645cb8786d8201b876e3b": {
          "model_module": "@jupyter-widgets/base",
          "model_name": "LayoutModel",
          "model_module_version": "1.2.0",
          "state": {
            "_model_module": "@jupyter-widgets/base",
            "_model_module_version": "1.2.0",
            "_model_name": "LayoutModel",
            "_view_count": null,
            "_view_module": "@jupyter-widgets/base",
            "_view_module_version": "1.2.0",
            "_view_name": "LayoutView",
            "align_content": null,
            "align_items": null,
            "align_self": null,
            "border": null,
            "bottom": null,
            "display": null,
            "flex": null,
            "flex_flow": null,
            "grid_area": null,
            "grid_auto_columns": null,
            "grid_auto_flow": null,
            "grid_auto_rows": null,
            "grid_column": null,
            "grid_gap": null,
            "grid_row": null,
            "grid_template_areas": null,
            "grid_template_columns": null,
            "grid_template_rows": null,
            "height": null,
            "justify_content": null,
            "justify_items": null,
            "left": null,
            "margin": null,
            "max_height": null,
            "max_width": null,
            "min_height": null,
            "min_width": null,
            "object_fit": null,
            "object_position": null,
            "order": null,
            "overflow": null,
            "overflow_x": null,
            "overflow_y": null,
            "padding": null,
            "right": null,
            "top": null,
            "visibility": null,
            "width": null
          }
        },
        "b128d72cb8634e7d91399a6cf42ddca6": {
          "model_module": "@jupyter-widgets/controls",
          "model_name": "DescriptionStyleModel",
          "model_module_version": "1.5.0",
          "state": {
            "_model_module": "@jupyter-widgets/controls",
            "_model_module_version": "1.5.0",
            "_model_name": "DescriptionStyleModel",
            "_view_count": null,
            "_view_module": "@jupyter-widgets/base",
            "_view_module_version": "1.2.0",
            "_view_name": "StyleView",
            "description_width": ""
          }
        },
        "9294b046315049dc99ac11a3e6d4f514": {
          "model_module": "@jupyter-widgets/base",
          "model_name": "LayoutModel",
          "model_module_version": "1.2.0",
          "state": {
            "_model_module": "@jupyter-widgets/base",
            "_model_module_version": "1.2.0",
            "_model_name": "LayoutModel",
            "_view_count": null,
            "_view_module": "@jupyter-widgets/base",
            "_view_module_version": "1.2.0",
            "_view_name": "LayoutView",
            "align_content": null,
            "align_items": null,
            "align_self": null,
            "border": null,
            "bottom": null,
            "display": null,
            "flex": null,
            "flex_flow": null,
            "grid_area": null,
            "grid_auto_columns": null,
            "grid_auto_flow": null,
            "grid_auto_rows": null,
            "grid_column": null,
            "grid_gap": null,
            "grid_row": null,
            "grid_template_areas": null,
            "grid_template_columns": null,
            "grid_template_rows": null,
            "height": null,
            "justify_content": null,
            "justify_items": null,
            "left": null,
            "margin": null,
            "max_height": null,
            "max_width": null,
            "min_height": null,
            "min_width": null,
            "object_fit": null,
            "object_position": null,
            "order": null,
            "overflow": null,
            "overflow_x": null,
            "overflow_y": null,
            "padding": null,
            "right": null,
            "top": null,
            "visibility": null,
            "width": "20px"
          }
        },
        "829f58f1ecf34aef8845c85e39d2b64b": {
          "model_module": "@jupyter-widgets/controls",
          "model_name": "ProgressStyleModel",
          "model_module_version": "1.5.0",
          "state": {
            "_model_module": "@jupyter-widgets/controls",
            "_model_module_version": "1.5.0",
            "_model_name": "ProgressStyleModel",
            "_view_count": null,
            "_view_module": "@jupyter-widgets/base",
            "_view_module_version": "1.2.0",
            "_view_name": "StyleView",
            "bar_color": null,
            "description_width": ""
          }
        },
        "d4245e0e645e4935961498ee7fdcb1e1": {
          "model_module": "@jupyter-widgets/base",
          "model_name": "LayoutModel",
          "model_module_version": "1.2.0",
          "state": {
            "_model_module": "@jupyter-widgets/base",
            "_model_module_version": "1.2.0",
            "_model_name": "LayoutModel",
            "_view_count": null,
            "_view_module": "@jupyter-widgets/base",
            "_view_module_version": "1.2.0",
            "_view_name": "LayoutView",
            "align_content": null,
            "align_items": null,
            "align_self": null,
            "border": null,
            "bottom": null,
            "display": null,
            "flex": null,
            "flex_flow": null,
            "grid_area": null,
            "grid_auto_columns": null,
            "grid_auto_flow": null,
            "grid_auto_rows": null,
            "grid_column": null,
            "grid_gap": null,
            "grid_row": null,
            "grid_template_areas": null,
            "grid_template_columns": null,
            "grid_template_rows": null,
            "height": null,
            "justify_content": null,
            "justify_items": null,
            "left": null,
            "margin": null,
            "max_height": null,
            "max_width": null,
            "min_height": null,
            "min_width": null,
            "object_fit": null,
            "object_position": null,
            "order": null,
            "overflow": null,
            "overflow_x": null,
            "overflow_y": null,
            "padding": null,
            "right": null,
            "top": null,
            "visibility": null,
            "width": null
          }
        },
        "95188b0ba4f74b6f8c2a164d345782fd": {
          "model_module": "@jupyter-widgets/controls",
          "model_name": "DescriptionStyleModel",
          "model_module_version": "1.5.0",
          "state": {
            "_model_module": "@jupyter-widgets/controls",
            "_model_module_version": "1.5.0",
            "_model_name": "DescriptionStyleModel",
            "_view_count": null,
            "_view_module": "@jupyter-widgets/base",
            "_view_module_version": "1.2.0",
            "_view_name": "StyleView",
            "description_width": ""
          }
        },
        "fd50af4234e24c87ad60d01d55d25ae6": {
          "model_module": "@jupyter-widgets/controls",
          "model_name": "HBoxModel",
          "model_module_version": "1.5.0",
          "state": {
            "_dom_classes": [],
            "_model_module": "@jupyter-widgets/controls",
            "_model_module_version": "1.5.0",
            "_model_name": "HBoxModel",
            "_view_count": null,
            "_view_module": "@jupyter-widgets/controls",
            "_view_module_version": "1.5.0",
            "_view_name": "HBoxView",
            "box_style": "",
            "children": [
              "IPY_MODEL_90867eb0f88946efb08bfb51851fec49",
              "IPY_MODEL_acacca80647b44909235cd3603ea9130",
              "IPY_MODEL_7f34afbf65164a94aa85162e06c2936e"
            ],
            "layout": "IPY_MODEL_902e270c23784ebeb20710c4dd2632a1"
          }
        },
        "90867eb0f88946efb08bfb51851fec49": {
          "model_module": "@jupyter-widgets/controls",
          "model_name": "HTMLModel",
          "model_module_version": "1.5.0",
          "state": {
            "_dom_classes": [],
            "_model_module": "@jupyter-widgets/controls",
            "_model_module_version": "1.5.0",
            "_model_name": "HTMLModel",
            "_view_count": null,
            "_view_module": "@jupyter-widgets/controls",
            "_view_module_version": "1.5.0",
            "_view_name": "HTMLView",
            "description": "",
            "description_tooltip": null,
            "layout": "IPY_MODEL_5bdc96cc864747c59ef033beea12e37a",
            "placeholder": "​",
            "style": "IPY_MODEL_77efb551d5684837bb64803461397bb1",
            "value": "Extraction completed...: 100%"
          }
        },
        "acacca80647b44909235cd3603ea9130": {
          "model_module": "@jupyter-widgets/controls",
          "model_name": "FloatProgressModel",
          "model_module_version": "1.5.0",
          "state": {
            "_dom_classes": [],
            "_model_module": "@jupyter-widgets/controls",
            "_model_module_version": "1.5.0",
            "_model_name": "FloatProgressModel",
            "_view_count": null,
            "_view_module": "@jupyter-widgets/controls",
            "_view_module_version": "1.5.0",
            "_view_name": "ProgressView",
            "bar_style": "success",
            "description": "",
            "description_tooltip": null,
            "layout": "IPY_MODEL_f4f195531893423fafdf7f9017e81f81",
            "max": 1,
            "min": 0,
            "orientation": "horizontal",
            "style": "IPY_MODEL_080a597600af466abb101d58d4bba69a",
            "value": 1
          }
        },
        "7f34afbf65164a94aa85162e06c2936e": {
          "model_module": "@jupyter-widgets/controls",
          "model_name": "HTMLModel",
          "model_module_version": "1.5.0",
          "state": {
            "_dom_classes": [],
            "_model_module": "@jupyter-widgets/controls",
            "_model_module_version": "1.5.0",
            "_model_name": "HTMLModel",
            "_view_count": null,
            "_view_module": "@jupyter-widgets/controls",
            "_view_module_version": "1.5.0",
            "_view_name": "HTMLView",
            "description": "",
            "description_tooltip": null,
            "layout": "IPY_MODEL_73bc8a7a701845f9aa9d0067bd0ab474",
            "placeholder": "​",
            "style": "IPY_MODEL_d6f0f18a1f524e1885f22b7b430c78fa",
            "value": " 15/15 [02:16&lt;00:00,  6.57s/ file]"
          }
        },
        "902e270c23784ebeb20710c4dd2632a1": {
          "model_module": "@jupyter-widgets/base",
          "model_name": "LayoutModel",
          "model_module_version": "1.2.0",
          "state": {
            "_model_module": "@jupyter-widgets/base",
            "_model_module_version": "1.2.0",
            "_model_name": "LayoutModel",
            "_view_count": null,
            "_view_module": "@jupyter-widgets/base",
            "_view_module_version": "1.2.0",
            "_view_name": "LayoutView",
            "align_content": null,
            "align_items": null,
            "align_self": null,
            "border": null,
            "bottom": null,
            "display": null,
            "flex": null,
            "flex_flow": null,
            "grid_area": null,
            "grid_auto_columns": null,
            "grid_auto_flow": null,
            "grid_auto_rows": null,
            "grid_column": null,
            "grid_gap": null,
            "grid_row": null,
            "grid_template_areas": null,
            "grid_template_columns": null,
            "grid_template_rows": null,
            "height": null,
            "justify_content": null,
            "justify_items": null,
            "left": null,
            "margin": null,
            "max_height": null,
            "max_width": null,
            "min_height": null,
            "min_width": null,
            "object_fit": null,
            "object_position": null,
            "order": null,
            "overflow": null,
            "overflow_x": null,
            "overflow_y": null,
            "padding": null,
            "right": null,
            "top": null,
            "visibility": null,
            "width": null
          }
        },
        "5bdc96cc864747c59ef033beea12e37a": {
          "model_module": "@jupyter-widgets/base",
          "model_name": "LayoutModel",
          "model_module_version": "1.2.0",
          "state": {
            "_model_module": "@jupyter-widgets/base",
            "_model_module_version": "1.2.0",
            "_model_name": "LayoutModel",
            "_view_count": null,
            "_view_module": "@jupyter-widgets/base",
            "_view_module_version": "1.2.0",
            "_view_name": "LayoutView",
            "align_content": null,
            "align_items": null,
            "align_self": null,
            "border": null,
            "bottom": null,
            "display": null,
            "flex": null,
            "flex_flow": null,
            "grid_area": null,
            "grid_auto_columns": null,
            "grid_auto_flow": null,
            "grid_auto_rows": null,
            "grid_column": null,
            "grid_gap": null,
            "grid_row": null,
            "grid_template_areas": null,
            "grid_template_columns": null,
            "grid_template_rows": null,
            "height": null,
            "justify_content": null,
            "justify_items": null,
            "left": null,
            "margin": null,
            "max_height": null,
            "max_width": null,
            "min_height": null,
            "min_width": null,
            "object_fit": null,
            "object_position": null,
            "order": null,
            "overflow": null,
            "overflow_x": null,
            "overflow_y": null,
            "padding": null,
            "right": null,
            "top": null,
            "visibility": null,
            "width": null
          }
        },
        "77efb551d5684837bb64803461397bb1": {
          "model_module": "@jupyter-widgets/controls",
          "model_name": "DescriptionStyleModel",
          "model_module_version": "1.5.0",
          "state": {
            "_model_module": "@jupyter-widgets/controls",
            "_model_module_version": "1.5.0",
            "_model_name": "DescriptionStyleModel",
            "_view_count": null,
            "_view_module": "@jupyter-widgets/base",
            "_view_module_version": "1.2.0",
            "_view_name": "StyleView",
            "description_width": ""
          }
        },
        "f4f195531893423fafdf7f9017e81f81": {
          "model_module": "@jupyter-widgets/base",
          "model_name": "LayoutModel",
          "model_module_version": "1.2.0",
          "state": {
            "_model_module": "@jupyter-widgets/base",
            "_model_module_version": "1.2.0",
            "_model_name": "LayoutModel",
            "_view_count": null,
            "_view_module": "@jupyter-widgets/base",
            "_view_module_version": "1.2.0",
            "_view_name": "LayoutView",
            "align_content": null,
            "align_items": null,
            "align_self": null,
            "border": null,
            "bottom": null,
            "display": null,
            "flex": null,
            "flex_flow": null,
            "grid_area": null,
            "grid_auto_columns": null,
            "grid_auto_flow": null,
            "grid_auto_rows": null,
            "grid_column": null,
            "grid_gap": null,
            "grid_row": null,
            "grid_template_areas": null,
            "grid_template_columns": null,
            "grid_template_rows": null,
            "height": null,
            "justify_content": null,
            "justify_items": null,
            "left": null,
            "margin": null,
            "max_height": null,
            "max_width": null,
            "min_height": null,
            "min_width": null,
            "object_fit": null,
            "object_position": null,
            "order": null,
            "overflow": null,
            "overflow_x": null,
            "overflow_y": null,
            "padding": null,
            "right": null,
            "top": null,
            "visibility": null,
            "width": "20px"
          }
        },
        "080a597600af466abb101d58d4bba69a": {
          "model_module": "@jupyter-widgets/controls",
          "model_name": "ProgressStyleModel",
          "model_module_version": "1.5.0",
          "state": {
            "_model_module": "@jupyter-widgets/controls",
            "_model_module_version": "1.5.0",
            "_model_name": "ProgressStyleModel",
            "_view_count": null,
            "_view_module": "@jupyter-widgets/base",
            "_view_module_version": "1.2.0",
            "_view_name": "StyleView",
            "bar_color": null,
            "description_width": ""
          }
        },
        "73bc8a7a701845f9aa9d0067bd0ab474": {
          "model_module": "@jupyter-widgets/base",
          "model_name": "LayoutModel",
          "model_module_version": "1.2.0",
          "state": {
            "_model_module": "@jupyter-widgets/base",
            "_model_module_version": "1.2.0",
            "_model_name": "LayoutModel",
            "_view_count": null,
            "_view_module": "@jupyter-widgets/base",
            "_view_module_version": "1.2.0",
            "_view_name": "LayoutView",
            "align_content": null,
            "align_items": null,
            "align_self": null,
            "border": null,
            "bottom": null,
            "display": null,
            "flex": null,
            "flex_flow": null,
            "grid_area": null,
            "grid_auto_columns": null,
            "grid_auto_flow": null,
            "grid_auto_rows": null,
            "grid_column": null,
            "grid_gap": null,
            "grid_row": null,
            "grid_template_areas": null,
            "grid_template_columns": null,
            "grid_template_rows": null,
            "height": null,
            "justify_content": null,
            "justify_items": null,
            "left": null,
            "margin": null,
            "max_height": null,
            "max_width": null,
            "min_height": null,
            "min_width": null,
            "object_fit": null,
            "object_position": null,
            "order": null,
            "overflow": null,
            "overflow_x": null,
            "overflow_y": null,
            "padding": null,
            "right": null,
            "top": null,
            "visibility": null,
            "width": null
          }
        },
        "d6f0f18a1f524e1885f22b7b430c78fa": {
          "model_module": "@jupyter-widgets/controls",
          "model_name": "DescriptionStyleModel",
          "model_module_version": "1.5.0",
          "state": {
            "_model_module": "@jupyter-widgets/controls",
            "_model_module_version": "1.5.0",
            "_model_name": "DescriptionStyleModel",
            "_view_count": null,
            "_view_module": "@jupyter-widgets/base",
            "_view_module_version": "1.2.0",
            "_view_name": "StyleView",
            "description_width": ""
          }
        },
        "74a39bc65e92419583453a719dbbc1aa": {
          "model_module": "@jupyter-widgets/controls",
          "model_name": "HBoxModel",
          "model_module_version": "1.5.0",
          "state": {
            "_dom_classes": [],
            "_model_module": "@jupyter-widgets/controls",
            "_model_module_version": "1.5.0",
            "_model_name": "HBoxModel",
            "_view_count": null,
            "_view_module": "@jupyter-widgets/controls",
            "_view_module_version": "1.5.0",
            "_view_name": "HBoxView",
            "box_style": "",
            "children": [
              "IPY_MODEL_944d9a3c653e4772ab59d2450b8cf077",
              "IPY_MODEL_272ed188e1fb41798da2df38059f77e7",
              "IPY_MODEL_552ae343728a4e2fabd8e8457a268611"
            ],
            "layout": "IPY_MODEL_19d510b057dd45199afb9dbd0d365016"
          }
        },
        "944d9a3c653e4772ab59d2450b8cf077": {
          "model_module": "@jupyter-widgets/controls",
          "model_name": "HTMLModel",
          "model_module_version": "1.5.0",
          "state": {
            "_dom_classes": [],
            "_model_module": "@jupyter-widgets/controls",
            "_model_module_version": "1.5.0",
            "_model_name": "HTMLModel",
            "_view_count": null,
            "_view_module": "@jupyter-widgets/controls",
            "_view_module_version": "1.5.0",
            "_view_name": "HTMLView",
            "description": "",
            "description_tooltip": null,
            "layout": "IPY_MODEL_fe11e368862c404e9b81c24f045b2ec8",
            "placeholder": "​",
            "style": "IPY_MODEL_4ff00f7e74bb4f7f83fe16705d26b7a5",
            "value": "Generating splits...: 100%"
          }
        },
        "272ed188e1fb41798da2df38059f77e7": {
          "model_module": "@jupyter-widgets/controls",
          "model_name": "FloatProgressModel",
          "model_module_version": "1.5.0",
          "state": {
            "_dom_classes": [],
            "_model_module": "@jupyter-widgets/controls",
            "_model_module_version": "1.5.0",
            "_model_name": "FloatProgressModel",
            "_view_count": null,
            "_view_module": "@jupyter-widgets/controls",
            "_view_module_version": "1.5.0",
            "_view_name": "ProgressView",
            "bar_style": "",
            "description": "",
            "description_tooltip": null,
            "layout": "IPY_MODEL_04187240875e4cbfae6eabb484fc3a6f",
            "max": 3,
            "min": 0,
            "orientation": "horizontal",
            "style": "IPY_MODEL_6ef92fe79093457c8004d0ebe2bf672a",
            "value": 3
          }
        },
        "552ae343728a4e2fabd8e8457a268611": {
          "model_module": "@jupyter-widgets/controls",
          "model_name": "HTMLModel",
          "model_module_version": "1.5.0",
          "state": {
            "_dom_classes": [],
            "_model_module": "@jupyter-widgets/controls",
            "_model_module_version": "1.5.0",
            "_model_name": "HTMLModel",
            "_view_count": null,
            "_view_module": "@jupyter-widgets/controls",
            "_view_module_version": "1.5.0",
            "_view_name": "HTMLView",
            "description": "",
            "description_tooltip": null,
            "layout": "IPY_MODEL_6115ae91eb02483db76a335b40e28441",
            "placeholder": "​",
            "style": "IPY_MODEL_a30abaf00d7c4229b30f867e1d213253",
            "value": " 3/3 [05:47&lt;00:00, 100.52s/ splits]"
          }
        },
        "19d510b057dd45199afb9dbd0d365016": {
          "model_module": "@jupyter-widgets/base",
          "model_name": "LayoutModel",
          "model_module_version": "1.2.0",
          "state": {
            "_model_module": "@jupyter-widgets/base",
            "_model_module_version": "1.2.0",
            "_model_name": "LayoutModel",
            "_view_count": null,
            "_view_module": "@jupyter-widgets/base",
            "_view_module_version": "1.2.0",
            "_view_name": "LayoutView",
            "align_content": null,
            "align_items": null,
            "align_self": null,
            "border": null,
            "bottom": null,
            "display": null,
            "flex": null,
            "flex_flow": null,
            "grid_area": null,
            "grid_auto_columns": null,
            "grid_auto_flow": null,
            "grid_auto_rows": null,
            "grid_column": null,
            "grid_gap": null,
            "grid_row": null,
            "grid_template_areas": null,
            "grid_template_columns": null,
            "grid_template_rows": null,
            "height": null,
            "justify_content": null,
            "justify_items": null,
            "left": null,
            "margin": null,
            "max_height": null,
            "max_width": null,
            "min_height": null,
            "min_width": null,
            "object_fit": null,
            "object_position": null,
            "order": null,
            "overflow": null,
            "overflow_x": null,
            "overflow_y": null,
            "padding": null,
            "right": null,
            "top": null,
            "visibility": "hidden",
            "width": null
          }
        },
        "fe11e368862c404e9b81c24f045b2ec8": {
          "model_module": "@jupyter-widgets/base",
          "model_name": "LayoutModel",
          "model_module_version": "1.2.0",
          "state": {
            "_model_module": "@jupyter-widgets/base",
            "_model_module_version": "1.2.0",
            "_model_name": "LayoutModel",
            "_view_count": null,
            "_view_module": "@jupyter-widgets/base",
            "_view_module_version": "1.2.0",
            "_view_name": "LayoutView",
            "align_content": null,
            "align_items": null,
            "align_self": null,
            "border": null,
            "bottom": null,
            "display": null,
            "flex": null,
            "flex_flow": null,
            "grid_area": null,
            "grid_auto_columns": null,
            "grid_auto_flow": null,
            "grid_auto_rows": null,
            "grid_column": null,
            "grid_gap": null,
            "grid_row": null,
            "grid_template_areas": null,
            "grid_template_columns": null,
            "grid_template_rows": null,
            "height": null,
            "justify_content": null,
            "justify_items": null,
            "left": null,
            "margin": null,
            "max_height": null,
            "max_width": null,
            "min_height": null,
            "min_width": null,
            "object_fit": null,
            "object_position": null,
            "order": null,
            "overflow": null,
            "overflow_x": null,
            "overflow_y": null,
            "padding": null,
            "right": null,
            "top": null,
            "visibility": null,
            "width": null
          }
        },
        "4ff00f7e74bb4f7f83fe16705d26b7a5": {
          "model_module": "@jupyter-widgets/controls",
          "model_name": "DescriptionStyleModel",
          "model_module_version": "1.5.0",
          "state": {
            "_model_module": "@jupyter-widgets/controls",
            "_model_module_version": "1.5.0",
            "_model_name": "DescriptionStyleModel",
            "_view_count": null,
            "_view_module": "@jupyter-widgets/base",
            "_view_module_version": "1.2.0",
            "_view_name": "StyleView",
            "description_width": ""
          }
        },
        "04187240875e4cbfae6eabb484fc3a6f": {
          "model_module": "@jupyter-widgets/base",
          "model_name": "LayoutModel",
          "model_module_version": "1.2.0",
          "state": {
            "_model_module": "@jupyter-widgets/base",
            "_model_module_version": "1.2.0",
            "_model_name": "LayoutModel",
            "_view_count": null,
            "_view_module": "@jupyter-widgets/base",
            "_view_module_version": "1.2.0",
            "_view_name": "LayoutView",
            "align_content": null,
            "align_items": null,
            "align_self": null,
            "border": null,
            "bottom": null,
            "display": null,
            "flex": null,
            "flex_flow": null,
            "grid_area": null,
            "grid_auto_columns": null,
            "grid_auto_flow": null,
            "grid_auto_rows": null,
            "grid_column": null,
            "grid_gap": null,
            "grid_row": null,
            "grid_template_areas": null,
            "grid_template_columns": null,
            "grid_template_rows": null,
            "height": null,
            "justify_content": null,
            "justify_items": null,
            "left": null,
            "margin": null,
            "max_height": null,
            "max_width": null,
            "min_height": null,
            "min_width": null,
            "object_fit": null,
            "object_position": null,
            "order": null,
            "overflow": null,
            "overflow_x": null,
            "overflow_y": null,
            "padding": null,
            "right": null,
            "top": null,
            "visibility": null,
            "width": null
          }
        },
        "6ef92fe79093457c8004d0ebe2bf672a": {
          "model_module": "@jupyter-widgets/controls",
          "model_name": "ProgressStyleModel",
          "model_module_version": "1.5.0",
          "state": {
            "_model_module": "@jupyter-widgets/controls",
            "_model_module_version": "1.5.0",
            "_model_name": "ProgressStyleModel",
            "_view_count": null,
            "_view_module": "@jupyter-widgets/base",
            "_view_module_version": "1.2.0",
            "_view_name": "StyleView",
            "bar_color": null,
            "description_width": ""
          }
        },
        "6115ae91eb02483db76a335b40e28441": {
          "model_module": "@jupyter-widgets/base",
          "model_name": "LayoutModel",
          "model_module_version": "1.2.0",
          "state": {
            "_model_module": "@jupyter-widgets/base",
            "_model_module_version": "1.2.0",
            "_model_name": "LayoutModel",
            "_view_count": null,
            "_view_module": "@jupyter-widgets/base",
            "_view_module_version": "1.2.0",
            "_view_name": "LayoutView",
            "align_content": null,
            "align_items": null,
            "align_self": null,
            "border": null,
            "bottom": null,
            "display": null,
            "flex": null,
            "flex_flow": null,
            "grid_area": null,
            "grid_auto_columns": null,
            "grid_auto_flow": null,
            "grid_auto_rows": null,
            "grid_column": null,
            "grid_gap": null,
            "grid_row": null,
            "grid_template_areas": null,
            "grid_template_columns": null,
            "grid_template_rows": null,
            "height": null,
            "justify_content": null,
            "justify_items": null,
            "left": null,
            "margin": null,
            "max_height": null,
            "max_width": null,
            "min_height": null,
            "min_width": null,
            "object_fit": null,
            "object_position": null,
            "order": null,
            "overflow": null,
            "overflow_x": null,
            "overflow_y": null,
            "padding": null,
            "right": null,
            "top": null,
            "visibility": null,
            "width": null
          }
        },
        "a30abaf00d7c4229b30f867e1d213253": {
          "model_module": "@jupyter-widgets/controls",
          "model_name": "DescriptionStyleModel",
          "model_module_version": "1.5.0",
          "state": {
            "_model_module": "@jupyter-widgets/controls",
            "_model_module_version": "1.5.0",
            "_model_name": "DescriptionStyleModel",
            "_view_count": null,
            "_view_module": "@jupyter-widgets/base",
            "_view_module_version": "1.2.0",
            "_view_name": "StyleView",
            "description_width": ""
          }
        },
        "f3ee4ff2d60e4814b3459a6ac11de5cc": {
          "model_module": "@jupyter-widgets/controls",
          "model_name": "HBoxModel",
          "model_module_version": "1.5.0",
          "state": {
            "_dom_classes": [],
            "_model_module": "@jupyter-widgets/controls",
            "_model_module_version": "1.5.0",
            "_model_name": "HBoxModel",
            "_view_count": null,
            "_view_module": "@jupyter-widgets/controls",
            "_view_module_version": "1.5.0",
            "_view_name": "HBoxView",
            "box_style": "",
            "children": [
              "IPY_MODEL_a5da132eb5ee49bdb39291b6aa766068",
              "IPY_MODEL_4c37fbba73354d4a93884a7fded2fbfc",
              "IPY_MODEL_a4f44c5273d04042b8c1400b6ecf4a46"
            ],
            "layout": "IPY_MODEL_31ab3ad3b8b640999d0532aff9df8069"
          }
        },
        "a5da132eb5ee49bdb39291b6aa766068": {
          "model_module": "@jupyter-widgets/controls",
          "model_name": "HTMLModel",
          "model_module_version": "1.5.0",
          "state": {
            "_dom_classes": [],
            "_model_module": "@jupyter-widgets/controls",
            "_model_module_version": "1.5.0",
            "_model_name": "HTMLModel",
            "_view_count": null,
            "_view_module": "@jupyter-widgets/controls",
            "_view_module_version": "1.5.0",
            "_view_name": "HTMLView",
            "description": "",
            "description_tooltip": null,
            "layout": "IPY_MODEL_8602b07c2f9f408b8b1a4e2bef7a1c11",
            "placeholder": "​",
            "style": "IPY_MODEL_e5ef18be11f14dcdb0630c16c8b1f1fa",
            "value": "Generating train examples...:  99%"
          }
        },
        "4c37fbba73354d4a93884a7fded2fbfc": {
          "model_module": "@jupyter-widgets/controls",
          "model_name": "FloatProgressModel",
          "model_module_version": "1.5.0",
          "state": {
            "_dom_classes": [],
            "_model_module": "@jupyter-widgets/controls",
            "_model_module_version": "1.5.0",
            "_model_name": "FloatProgressModel",
            "_view_count": null,
            "_view_module": "@jupyter-widgets/controls",
            "_view_module_version": "1.5.0",
            "_view_name": "ProgressView",
            "bar_style": "",
            "description": "",
            "description_tooltip": null,
            "layout": "IPY_MODEL_deb8b1cb6850458dbec734a12f207bc7",
            "max": 6000,
            "min": 0,
            "orientation": "horizontal",
            "style": "IPY_MODEL_06ae1c18221241d4954cf5b9b54440f0",
            "value": 6000
          }
        },
        "a4f44c5273d04042b8c1400b6ecf4a46": {
          "model_module": "@jupyter-widgets/controls",
          "model_name": "HTMLModel",
          "model_module_version": "1.5.0",
          "state": {
            "_dom_classes": [],
            "_model_module": "@jupyter-widgets/controls",
            "_model_module_version": "1.5.0",
            "_model_name": "HTMLModel",
            "_view_count": null,
            "_view_module": "@jupyter-widgets/controls",
            "_view_module_version": "1.5.0",
            "_view_name": "HTMLView",
            "description": "",
            "description_tooltip": null,
            "layout": "IPY_MODEL_1b76ef835abb4ab290b550925a2a5c25",
            "placeholder": "​",
            "style": "IPY_MODEL_3ea027e76b0849a68dfa19b683d48057",
            "value": " 5968/6000 [03:28&lt;00:00, 36.38 examples/s]"
          }
        },
        "31ab3ad3b8b640999d0532aff9df8069": {
          "model_module": "@jupyter-widgets/base",
          "model_name": "LayoutModel",
          "model_module_version": "1.2.0",
          "state": {
            "_model_module": "@jupyter-widgets/base",
            "_model_module_version": "1.2.0",
            "_model_name": "LayoutModel",
            "_view_count": null,
            "_view_module": "@jupyter-widgets/base",
            "_view_module_version": "1.2.0",
            "_view_name": "LayoutView",
            "align_content": null,
            "align_items": null,
            "align_self": null,
            "border": null,
            "bottom": null,
            "display": null,
            "flex": null,
            "flex_flow": null,
            "grid_area": null,
            "grid_auto_columns": null,
            "grid_auto_flow": null,
            "grid_auto_rows": null,
            "grid_column": null,
            "grid_gap": null,
            "grid_row": null,
            "grid_template_areas": null,
            "grid_template_columns": null,
            "grid_template_rows": null,
            "height": null,
            "justify_content": null,
            "justify_items": null,
            "left": null,
            "margin": null,
            "max_height": null,
            "max_width": null,
            "min_height": null,
            "min_width": null,
            "object_fit": null,
            "object_position": null,
            "order": null,
            "overflow": null,
            "overflow_x": null,
            "overflow_y": null,
            "padding": null,
            "right": null,
            "top": null,
            "visibility": "hidden",
            "width": null
          }
        },
        "8602b07c2f9f408b8b1a4e2bef7a1c11": {
          "model_module": "@jupyter-widgets/base",
          "model_name": "LayoutModel",
          "model_module_version": "1.2.0",
          "state": {
            "_model_module": "@jupyter-widgets/base",
            "_model_module_version": "1.2.0",
            "_model_name": "LayoutModel",
            "_view_count": null,
            "_view_module": "@jupyter-widgets/base",
            "_view_module_version": "1.2.0",
            "_view_name": "LayoutView",
            "align_content": null,
            "align_items": null,
            "align_self": null,
            "border": null,
            "bottom": null,
            "display": null,
            "flex": null,
            "flex_flow": null,
            "grid_area": null,
            "grid_auto_columns": null,
            "grid_auto_flow": null,
            "grid_auto_rows": null,
            "grid_column": null,
            "grid_gap": null,
            "grid_row": null,
            "grid_template_areas": null,
            "grid_template_columns": null,
            "grid_template_rows": null,
            "height": null,
            "justify_content": null,
            "justify_items": null,
            "left": null,
            "margin": null,
            "max_height": null,
            "max_width": null,
            "min_height": null,
            "min_width": null,
            "object_fit": null,
            "object_position": null,
            "order": null,
            "overflow": null,
            "overflow_x": null,
            "overflow_y": null,
            "padding": null,
            "right": null,
            "top": null,
            "visibility": null,
            "width": null
          }
        },
        "e5ef18be11f14dcdb0630c16c8b1f1fa": {
          "model_module": "@jupyter-widgets/controls",
          "model_name": "DescriptionStyleModel",
          "model_module_version": "1.5.0",
          "state": {
            "_model_module": "@jupyter-widgets/controls",
            "_model_module_version": "1.5.0",
            "_model_name": "DescriptionStyleModel",
            "_view_count": null,
            "_view_module": "@jupyter-widgets/base",
            "_view_module_version": "1.2.0",
            "_view_name": "StyleView",
            "description_width": ""
          }
        },
        "deb8b1cb6850458dbec734a12f207bc7": {
          "model_module": "@jupyter-widgets/base",
          "model_name": "LayoutModel",
          "model_module_version": "1.2.0",
          "state": {
            "_model_module": "@jupyter-widgets/base",
            "_model_module_version": "1.2.0",
            "_model_name": "LayoutModel",
            "_view_count": null,
            "_view_module": "@jupyter-widgets/base",
            "_view_module_version": "1.2.0",
            "_view_name": "LayoutView",
            "align_content": null,
            "align_items": null,
            "align_self": null,
            "border": null,
            "bottom": null,
            "display": null,
            "flex": null,
            "flex_flow": null,
            "grid_area": null,
            "grid_auto_columns": null,
            "grid_auto_flow": null,
            "grid_auto_rows": null,
            "grid_column": null,
            "grid_gap": null,
            "grid_row": null,
            "grid_template_areas": null,
            "grid_template_columns": null,
            "grid_template_rows": null,
            "height": null,
            "justify_content": null,
            "justify_items": null,
            "left": null,
            "margin": null,
            "max_height": null,
            "max_width": null,
            "min_height": null,
            "min_width": null,
            "object_fit": null,
            "object_position": null,
            "order": null,
            "overflow": null,
            "overflow_x": null,
            "overflow_y": null,
            "padding": null,
            "right": null,
            "top": null,
            "visibility": null,
            "width": null
          }
        },
        "06ae1c18221241d4954cf5b9b54440f0": {
          "model_module": "@jupyter-widgets/controls",
          "model_name": "ProgressStyleModel",
          "model_module_version": "1.5.0",
          "state": {
            "_model_module": "@jupyter-widgets/controls",
            "_model_module_version": "1.5.0",
            "_model_name": "ProgressStyleModel",
            "_view_count": null,
            "_view_module": "@jupyter-widgets/base",
            "_view_module_version": "1.2.0",
            "_view_name": "StyleView",
            "bar_color": null,
            "description_width": ""
          }
        },
        "1b76ef835abb4ab290b550925a2a5c25": {
          "model_module": "@jupyter-widgets/base",
          "model_name": "LayoutModel",
          "model_module_version": "1.2.0",
          "state": {
            "_model_module": "@jupyter-widgets/base",
            "_model_module_version": "1.2.0",
            "_model_name": "LayoutModel",
            "_view_count": null,
            "_view_module": "@jupyter-widgets/base",
            "_view_module_version": "1.2.0",
            "_view_name": "LayoutView",
            "align_content": null,
            "align_items": null,
            "align_self": null,
            "border": null,
            "bottom": null,
            "display": null,
            "flex": null,
            "flex_flow": null,
            "grid_area": null,
            "grid_auto_columns": null,
            "grid_auto_flow": null,
            "grid_auto_rows": null,
            "grid_column": null,
            "grid_gap": null,
            "grid_row": null,
            "grid_template_areas": null,
            "grid_template_columns": null,
            "grid_template_rows": null,
            "height": null,
            "justify_content": null,
            "justify_items": null,
            "left": null,
            "margin": null,
            "max_height": null,
            "max_width": null,
            "min_height": null,
            "min_width": null,
            "object_fit": null,
            "object_position": null,
            "order": null,
            "overflow": null,
            "overflow_x": null,
            "overflow_y": null,
            "padding": null,
            "right": null,
            "top": null,
            "visibility": null,
            "width": null
          }
        },
        "3ea027e76b0849a68dfa19b683d48057": {
          "model_module": "@jupyter-widgets/controls",
          "model_name": "DescriptionStyleModel",
          "model_module_version": "1.5.0",
          "state": {
            "_model_module": "@jupyter-widgets/controls",
            "_model_module_version": "1.5.0",
            "_model_name": "DescriptionStyleModel",
            "_view_count": null,
            "_view_module": "@jupyter-widgets/base",
            "_view_module_version": "1.2.0",
            "_view_name": "StyleView",
            "description_width": ""
          }
        },
        "2370f38344d94675a5d7d6f644e01785": {
          "model_module": "@jupyter-widgets/controls",
          "model_name": "HBoxModel",
          "model_module_version": "1.5.0",
          "state": {
            "_dom_classes": [],
            "_model_module": "@jupyter-widgets/controls",
            "_model_module_version": "1.5.0",
            "_model_name": "HBoxModel",
            "_view_count": null,
            "_view_module": "@jupyter-widgets/controls",
            "_view_module_version": "1.5.0",
            "_view_name": "HBoxView",
            "box_style": "",
            "children": [
              "IPY_MODEL_be5043b2f8364c56a554f47eeafd76c2",
              "IPY_MODEL_aa244b79ae8e4714bf24c1a4a446dae1",
              "IPY_MODEL_cafa70b046544c6a9b3669ebaf2d2126"
            ],
            "layout": "IPY_MODEL_76e11341494e46f6af9d0768a3f31da5"
          }
        },
        "be5043b2f8364c56a554f47eeafd76c2": {
          "model_module": "@jupyter-widgets/controls",
          "model_name": "HTMLModel",
          "model_module_version": "1.5.0",
          "state": {
            "_dom_classes": [],
            "_model_module": "@jupyter-widgets/controls",
            "_model_module_version": "1.5.0",
            "_model_name": "HTMLModel",
            "_view_count": null,
            "_view_module": "@jupyter-widgets/controls",
            "_view_module_version": "1.5.0",
            "_view_name": "HTMLView",
            "description": "",
            "description_tooltip": null,
            "layout": "IPY_MODEL_6405d5f4f1c24763b0f85528c914d559",
            "placeholder": "​",
            "style": "IPY_MODEL_6ef72117345f4eebbfe8cfff1a580c37",
            "value": "Shuffling /root/tensorflow_datasets/mslr_web/10k_fold1/incomplete.89F9CE_1.2.0/mslr_web-train.tfrecord*...:   0%"
          }
        },
        "aa244b79ae8e4714bf24c1a4a446dae1": {
          "model_module": "@jupyter-widgets/controls",
          "model_name": "FloatProgressModel",
          "model_module_version": "1.5.0",
          "state": {
            "_dom_classes": [],
            "_model_module": "@jupyter-widgets/controls",
            "_model_module_version": "1.5.0",
            "_model_name": "FloatProgressModel",
            "_view_count": null,
            "_view_module": "@jupyter-widgets/controls",
            "_view_module_version": "1.5.0",
            "_view_name": "ProgressView",
            "bar_style": "",
            "description": "",
            "description_tooltip": null,
            "layout": "IPY_MODEL_b135546f6388407dabb5ff076c30bd6f",
            "max": 6000,
            "min": 0,
            "orientation": "horizontal",
            "style": "IPY_MODEL_0e9eb1627a3c4726aa855ecaae061015",
            "value": 6000
          }
        },
        "cafa70b046544c6a9b3669ebaf2d2126": {
          "model_module": "@jupyter-widgets/controls",
          "model_name": "HTMLModel",
          "model_module_version": "1.5.0",
          "state": {
            "_dom_classes": [],
            "_model_module": "@jupyter-widgets/controls",
            "_model_module_version": "1.5.0",
            "_model_name": "HTMLModel",
            "_view_count": null,
            "_view_module": "@jupyter-widgets/controls",
            "_view_module_version": "1.5.0",
            "_view_name": "HTMLView",
            "description": "",
            "description_tooltip": null,
            "layout": "IPY_MODEL_f2f3d1f2f6494ac0a1f4ffdbc39c6575",
            "placeholder": "​",
            "style": "IPY_MODEL_ec11f93f903e41e5b3799490943f378e",
            "value": " 0/6000 [00:00&lt;?, ? examples/s]"
          }
        },
        "76e11341494e46f6af9d0768a3f31da5": {
          "model_module": "@jupyter-widgets/base",
          "model_name": "LayoutModel",
          "model_module_version": "1.2.0",
          "state": {
            "_model_module": "@jupyter-widgets/base",
            "_model_module_version": "1.2.0",
            "_model_name": "LayoutModel",
            "_view_count": null,
            "_view_module": "@jupyter-widgets/base",
            "_view_module_version": "1.2.0",
            "_view_name": "LayoutView",
            "align_content": null,
            "align_items": null,
            "align_self": null,
            "border": null,
            "bottom": null,
            "display": null,
            "flex": null,
            "flex_flow": null,
            "grid_area": null,
            "grid_auto_columns": null,
            "grid_auto_flow": null,
            "grid_auto_rows": null,
            "grid_column": null,
            "grid_gap": null,
            "grid_row": null,
            "grid_template_areas": null,
            "grid_template_columns": null,
            "grid_template_rows": null,
            "height": null,
            "justify_content": null,
            "justify_items": null,
            "left": null,
            "margin": null,
            "max_height": null,
            "max_width": null,
            "min_height": null,
            "min_width": null,
            "object_fit": null,
            "object_position": null,
            "order": null,
            "overflow": null,
            "overflow_x": null,
            "overflow_y": null,
            "padding": null,
            "right": null,
            "top": null,
            "visibility": "hidden",
            "width": null
          }
        },
        "6405d5f4f1c24763b0f85528c914d559": {
          "model_module": "@jupyter-widgets/base",
          "model_name": "LayoutModel",
          "model_module_version": "1.2.0",
          "state": {
            "_model_module": "@jupyter-widgets/base",
            "_model_module_version": "1.2.0",
            "_model_name": "LayoutModel",
            "_view_count": null,
            "_view_module": "@jupyter-widgets/base",
            "_view_module_version": "1.2.0",
            "_view_name": "LayoutView",
            "align_content": null,
            "align_items": null,
            "align_self": null,
            "border": null,
            "bottom": null,
            "display": null,
            "flex": null,
            "flex_flow": null,
            "grid_area": null,
            "grid_auto_columns": null,
            "grid_auto_flow": null,
            "grid_auto_rows": null,
            "grid_column": null,
            "grid_gap": null,
            "grid_row": null,
            "grid_template_areas": null,
            "grid_template_columns": null,
            "grid_template_rows": null,
            "height": null,
            "justify_content": null,
            "justify_items": null,
            "left": null,
            "margin": null,
            "max_height": null,
            "max_width": null,
            "min_height": null,
            "min_width": null,
            "object_fit": null,
            "object_position": null,
            "order": null,
            "overflow": null,
            "overflow_x": null,
            "overflow_y": null,
            "padding": null,
            "right": null,
            "top": null,
            "visibility": null,
            "width": null
          }
        },
        "6ef72117345f4eebbfe8cfff1a580c37": {
          "model_module": "@jupyter-widgets/controls",
          "model_name": "DescriptionStyleModel",
          "model_module_version": "1.5.0",
          "state": {
            "_model_module": "@jupyter-widgets/controls",
            "_model_module_version": "1.5.0",
            "_model_name": "DescriptionStyleModel",
            "_view_count": null,
            "_view_module": "@jupyter-widgets/base",
            "_view_module_version": "1.2.0",
            "_view_name": "StyleView",
            "description_width": ""
          }
        },
        "b135546f6388407dabb5ff076c30bd6f": {
          "model_module": "@jupyter-widgets/base",
          "model_name": "LayoutModel",
          "model_module_version": "1.2.0",
          "state": {
            "_model_module": "@jupyter-widgets/base",
            "_model_module_version": "1.2.0",
            "_model_name": "LayoutModel",
            "_view_count": null,
            "_view_module": "@jupyter-widgets/base",
            "_view_module_version": "1.2.0",
            "_view_name": "LayoutView",
            "align_content": null,
            "align_items": null,
            "align_self": null,
            "border": null,
            "bottom": null,
            "display": null,
            "flex": null,
            "flex_flow": null,
            "grid_area": null,
            "grid_auto_columns": null,
            "grid_auto_flow": null,
            "grid_auto_rows": null,
            "grid_column": null,
            "grid_gap": null,
            "grid_row": null,
            "grid_template_areas": null,
            "grid_template_columns": null,
            "grid_template_rows": null,
            "height": null,
            "justify_content": null,
            "justify_items": null,
            "left": null,
            "margin": null,
            "max_height": null,
            "max_width": null,
            "min_height": null,
            "min_width": null,
            "object_fit": null,
            "object_position": null,
            "order": null,
            "overflow": null,
            "overflow_x": null,
            "overflow_y": null,
            "padding": null,
            "right": null,
            "top": null,
            "visibility": null,
            "width": null
          }
        },
        "0e9eb1627a3c4726aa855ecaae061015": {
          "model_module": "@jupyter-widgets/controls",
          "model_name": "ProgressStyleModel",
          "model_module_version": "1.5.0",
          "state": {
            "_model_module": "@jupyter-widgets/controls",
            "_model_module_version": "1.5.0",
            "_model_name": "ProgressStyleModel",
            "_view_count": null,
            "_view_module": "@jupyter-widgets/base",
            "_view_module_version": "1.2.0",
            "_view_name": "StyleView",
            "bar_color": null,
            "description_width": ""
          }
        },
        "f2f3d1f2f6494ac0a1f4ffdbc39c6575": {
          "model_module": "@jupyter-widgets/base",
          "model_name": "LayoutModel",
          "model_module_version": "1.2.0",
          "state": {
            "_model_module": "@jupyter-widgets/base",
            "_model_module_version": "1.2.0",
            "_model_name": "LayoutModel",
            "_view_count": null,
            "_view_module": "@jupyter-widgets/base",
            "_view_module_version": "1.2.0",
            "_view_name": "LayoutView",
            "align_content": null,
            "align_items": null,
            "align_self": null,
            "border": null,
            "bottom": null,
            "display": null,
            "flex": null,
            "flex_flow": null,
            "grid_area": null,
            "grid_auto_columns": null,
            "grid_auto_flow": null,
            "grid_auto_rows": null,
            "grid_column": null,
            "grid_gap": null,
            "grid_row": null,
            "grid_template_areas": null,
            "grid_template_columns": null,
            "grid_template_rows": null,
            "height": null,
            "justify_content": null,
            "justify_items": null,
            "left": null,
            "margin": null,
            "max_height": null,
            "max_width": null,
            "min_height": null,
            "min_width": null,
            "object_fit": null,
            "object_position": null,
            "order": null,
            "overflow": null,
            "overflow_x": null,
            "overflow_y": null,
            "padding": null,
            "right": null,
            "top": null,
            "visibility": null,
            "width": null
          }
        },
        "ec11f93f903e41e5b3799490943f378e": {
          "model_module": "@jupyter-widgets/controls",
          "model_name": "DescriptionStyleModel",
          "model_module_version": "1.5.0",
          "state": {
            "_model_module": "@jupyter-widgets/controls",
            "_model_module_version": "1.5.0",
            "_model_name": "DescriptionStyleModel",
            "_view_count": null,
            "_view_module": "@jupyter-widgets/base",
            "_view_module_version": "1.2.0",
            "_view_name": "StyleView",
            "description_width": ""
          }
        },
        "c495ab42cd224d6db18b2829aeccdfbd": {
          "model_module": "@jupyter-widgets/controls",
          "model_name": "HBoxModel",
          "model_module_version": "1.5.0",
          "state": {
            "_dom_classes": [],
            "_model_module": "@jupyter-widgets/controls",
            "_model_module_version": "1.5.0",
            "_model_name": "HBoxModel",
            "_view_count": null,
            "_view_module": "@jupyter-widgets/controls",
            "_view_module_version": "1.5.0",
            "_view_name": "HBoxView",
            "box_style": "",
            "children": [
              "IPY_MODEL_2b81e67968f548adb0a551668e3b1a02",
              "IPY_MODEL_b8472dc9894c48028d2bcfca8f141501",
              "IPY_MODEL_f24aeb60cb764a78bf27b04d07f6ecfe"
            ],
            "layout": "IPY_MODEL_54481e9a0e284be6b5df9db6f6e3fcec"
          }
        },
        "2b81e67968f548adb0a551668e3b1a02": {
          "model_module": "@jupyter-widgets/controls",
          "model_name": "HTMLModel",
          "model_module_version": "1.5.0",
          "state": {
            "_dom_classes": [],
            "_model_module": "@jupyter-widgets/controls",
            "_model_module_version": "1.5.0",
            "_model_name": "HTMLModel",
            "_view_count": null,
            "_view_module": "@jupyter-widgets/controls",
            "_view_module_version": "1.5.0",
            "_view_name": "HTMLView",
            "description": "",
            "description_tooltip": null,
            "layout": "IPY_MODEL_50621b80653f4d90a09d2b12da3a12b3",
            "placeholder": "​",
            "style": "IPY_MODEL_73325a7de92e40d9a64a67bc7a1a3837",
            "value": "Generating vali examples...:  98%"
          }
        },
        "b8472dc9894c48028d2bcfca8f141501": {
          "model_module": "@jupyter-widgets/controls",
          "model_name": "FloatProgressModel",
          "model_module_version": "1.5.0",
          "state": {
            "_dom_classes": [],
            "_model_module": "@jupyter-widgets/controls",
            "_model_module_version": "1.5.0",
            "_model_name": "FloatProgressModel",
            "_view_count": null,
            "_view_module": "@jupyter-widgets/controls",
            "_view_module_version": "1.5.0",
            "_view_name": "ProgressView",
            "bar_style": "",
            "description": "",
            "description_tooltip": null,
            "layout": "IPY_MODEL_100ce4872d344cfe8354f28d56161683",
            "max": 2000,
            "min": 0,
            "orientation": "horizontal",
            "style": "IPY_MODEL_20162f88de1b427785d2bb922d9de29d",
            "value": 2000
          }
        },
        "f24aeb60cb764a78bf27b04d07f6ecfe": {
          "model_module": "@jupyter-widgets/controls",
          "model_name": "HTMLModel",
          "model_module_version": "1.5.0",
          "state": {
            "_dom_classes": [],
            "_model_module": "@jupyter-widgets/controls",
            "_model_module_version": "1.5.0",
            "_model_name": "HTMLModel",
            "_view_count": null,
            "_view_module": "@jupyter-widgets/controls",
            "_view_module_version": "1.5.0",
            "_view_name": "HTMLView",
            "description": "",
            "description_tooltip": null,
            "layout": "IPY_MODEL_b80d24bdf32546cfa880b821a817854a",
            "placeholder": "​",
            "style": "IPY_MODEL_773b37a21c0f4e76b252d02d64e93059",
            "value": " 1961/2000 [01:06&lt;00:00, 39.72 examples/s]"
          }
        },
        "54481e9a0e284be6b5df9db6f6e3fcec": {
          "model_module": "@jupyter-widgets/base",
          "model_name": "LayoutModel",
          "model_module_version": "1.2.0",
          "state": {
            "_model_module": "@jupyter-widgets/base",
            "_model_module_version": "1.2.0",
            "_model_name": "LayoutModel",
            "_view_count": null,
            "_view_module": "@jupyter-widgets/base",
            "_view_module_version": "1.2.0",
            "_view_name": "LayoutView",
            "align_content": null,
            "align_items": null,
            "align_self": null,
            "border": null,
            "bottom": null,
            "display": null,
            "flex": null,
            "flex_flow": null,
            "grid_area": null,
            "grid_auto_columns": null,
            "grid_auto_flow": null,
            "grid_auto_rows": null,
            "grid_column": null,
            "grid_gap": null,
            "grid_row": null,
            "grid_template_areas": null,
            "grid_template_columns": null,
            "grid_template_rows": null,
            "height": null,
            "justify_content": null,
            "justify_items": null,
            "left": null,
            "margin": null,
            "max_height": null,
            "max_width": null,
            "min_height": null,
            "min_width": null,
            "object_fit": null,
            "object_position": null,
            "order": null,
            "overflow": null,
            "overflow_x": null,
            "overflow_y": null,
            "padding": null,
            "right": null,
            "top": null,
            "visibility": "hidden",
            "width": null
          }
        },
        "50621b80653f4d90a09d2b12da3a12b3": {
          "model_module": "@jupyter-widgets/base",
          "model_name": "LayoutModel",
          "model_module_version": "1.2.0",
          "state": {
            "_model_module": "@jupyter-widgets/base",
            "_model_module_version": "1.2.0",
            "_model_name": "LayoutModel",
            "_view_count": null,
            "_view_module": "@jupyter-widgets/base",
            "_view_module_version": "1.2.0",
            "_view_name": "LayoutView",
            "align_content": null,
            "align_items": null,
            "align_self": null,
            "border": null,
            "bottom": null,
            "display": null,
            "flex": null,
            "flex_flow": null,
            "grid_area": null,
            "grid_auto_columns": null,
            "grid_auto_flow": null,
            "grid_auto_rows": null,
            "grid_column": null,
            "grid_gap": null,
            "grid_row": null,
            "grid_template_areas": null,
            "grid_template_columns": null,
            "grid_template_rows": null,
            "height": null,
            "justify_content": null,
            "justify_items": null,
            "left": null,
            "margin": null,
            "max_height": null,
            "max_width": null,
            "min_height": null,
            "min_width": null,
            "object_fit": null,
            "object_position": null,
            "order": null,
            "overflow": null,
            "overflow_x": null,
            "overflow_y": null,
            "padding": null,
            "right": null,
            "top": null,
            "visibility": null,
            "width": null
          }
        },
        "73325a7de92e40d9a64a67bc7a1a3837": {
          "model_module": "@jupyter-widgets/controls",
          "model_name": "DescriptionStyleModel",
          "model_module_version": "1.5.0",
          "state": {
            "_model_module": "@jupyter-widgets/controls",
            "_model_module_version": "1.5.0",
            "_model_name": "DescriptionStyleModel",
            "_view_count": null,
            "_view_module": "@jupyter-widgets/base",
            "_view_module_version": "1.2.0",
            "_view_name": "StyleView",
            "description_width": ""
          }
        },
        "100ce4872d344cfe8354f28d56161683": {
          "model_module": "@jupyter-widgets/base",
          "model_name": "LayoutModel",
          "model_module_version": "1.2.0",
          "state": {
            "_model_module": "@jupyter-widgets/base",
            "_model_module_version": "1.2.0",
            "_model_name": "LayoutModel",
            "_view_count": null,
            "_view_module": "@jupyter-widgets/base",
            "_view_module_version": "1.2.0",
            "_view_name": "LayoutView",
            "align_content": null,
            "align_items": null,
            "align_self": null,
            "border": null,
            "bottom": null,
            "display": null,
            "flex": null,
            "flex_flow": null,
            "grid_area": null,
            "grid_auto_columns": null,
            "grid_auto_flow": null,
            "grid_auto_rows": null,
            "grid_column": null,
            "grid_gap": null,
            "grid_row": null,
            "grid_template_areas": null,
            "grid_template_columns": null,
            "grid_template_rows": null,
            "height": null,
            "justify_content": null,
            "justify_items": null,
            "left": null,
            "margin": null,
            "max_height": null,
            "max_width": null,
            "min_height": null,
            "min_width": null,
            "object_fit": null,
            "object_position": null,
            "order": null,
            "overflow": null,
            "overflow_x": null,
            "overflow_y": null,
            "padding": null,
            "right": null,
            "top": null,
            "visibility": null,
            "width": null
          }
        },
        "20162f88de1b427785d2bb922d9de29d": {
          "model_module": "@jupyter-widgets/controls",
          "model_name": "ProgressStyleModel",
          "model_module_version": "1.5.0",
          "state": {
            "_model_module": "@jupyter-widgets/controls",
            "_model_module_version": "1.5.0",
            "_model_name": "ProgressStyleModel",
            "_view_count": null,
            "_view_module": "@jupyter-widgets/base",
            "_view_module_version": "1.2.0",
            "_view_name": "StyleView",
            "bar_color": null,
            "description_width": ""
          }
        },
        "b80d24bdf32546cfa880b821a817854a": {
          "model_module": "@jupyter-widgets/base",
          "model_name": "LayoutModel",
          "model_module_version": "1.2.0",
          "state": {
            "_model_module": "@jupyter-widgets/base",
            "_model_module_version": "1.2.0",
            "_model_name": "LayoutModel",
            "_view_count": null,
            "_view_module": "@jupyter-widgets/base",
            "_view_module_version": "1.2.0",
            "_view_name": "LayoutView",
            "align_content": null,
            "align_items": null,
            "align_self": null,
            "border": null,
            "bottom": null,
            "display": null,
            "flex": null,
            "flex_flow": null,
            "grid_area": null,
            "grid_auto_columns": null,
            "grid_auto_flow": null,
            "grid_auto_rows": null,
            "grid_column": null,
            "grid_gap": null,
            "grid_row": null,
            "grid_template_areas": null,
            "grid_template_columns": null,
            "grid_template_rows": null,
            "height": null,
            "justify_content": null,
            "justify_items": null,
            "left": null,
            "margin": null,
            "max_height": null,
            "max_width": null,
            "min_height": null,
            "min_width": null,
            "object_fit": null,
            "object_position": null,
            "order": null,
            "overflow": null,
            "overflow_x": null,
            "overflow_y": null,
            "padding": null,
            "right": null,
            "top": null,
            "visibility": null,
            "width": null
          }
        },
        "773b37a21c0f4e76b252d02d64e93059": {
          "model_module": "@jupyter-widgets/controls",
          "model_name": "DescriptionStyleModel",
          "model_module_version": "1.5.0",
          "state": {
            "_model_module": "@jupyter-widgets/controls",
            "_model_module_version": "1.5.0",
            "_model_name": "DescriptionStyleModel",
            "_view_count": null,
            "_view_module": "@jupyter-widgets/base",
            "_view_module_version": "1.2.0",
            "_view_name": "StyleView",
            "description_width": ""
          }
        },
        "6ab41bfb3ca242698a65fab48f4488d7": {
          "model_module": "@jupyter-widgets/controls",
          "model_name": "HBoxModel",
          "model_module_version": "1.5.0",
          "state": {
            "_dom_classes": [],
            "_model_module": "@jupyter-widgets/controls",
            "_model_module_version": "1.5.0",
            "_model_name": "HBoxModel",
            "_view_count": null,
            "_view_module": "@jupyter-widgets/controls",
            "_view_module_version": "1.5.0",
            "_view_name": "HBoxView",
            "box_style": "",
            "children": [
              "IPY_MODEL_3ea9ea38d81b4ec783cff6d8b905a92d",
              "IPY_MODEL_21f66588af0842c89cddc7ca642358eb",
              "IPY_MODEL_19a4803a079c4b778a2698d42b0f9e9e"
            ],
            "layout": "IPY_MODEL_210ba4c0c8cf412cb47bc98ff8c9928b"
          }
        },
        "3ea9ea38d81b4ec783cff6d8b905a92d": {
          "model_module": "@jupyter-widgets/controls",
          "model_name": "HTMLModel",
          "model_module_version": "1.5.0",
          "state": {
            "_dom_classes": [],
            "_model_module": "@jupyter-widgets/controls",
            "_model_module_version": "1.5.0",
            "_model_name": "HTMLModel",
            "_view_count": null,
            "_view_module": "@jupyter-widgets/controls",
            "_view_module_version": "1.5.0",
            "_view_name": "HTMLView",
            "description": "",
            "description_tooltip": null,
            "layout": "IPY_MODEL_2acd3b55858844c2a95d10e0d8397622",
            "placeholder": "​",
            "style": "IPY_MODEL_1c59295f3d6446af9dce22f892dcfe31",
            "value": "Shuffling /root/tensorflow_datasets/mslr_web/10k_fold1/incomplete.89F9CE_1.2.0/mslr_web-vali.tfrecord*...:   0%"
          }
        },
        "21f66588af0842c89cddc7ca642358eb": {
          "model_module": "@jupyter-widgets/controls",
          "model_name": "FloatProgressModel",
          "model_module_version": "1.5.0",
          "state": {
            "_dom_classes": [],
            "_model_module": "@jupyter-widgets/controls",
            "_model_module_version": "1.5.0",
            "_model_name": "FloatProgressModel",
            "_view_count": null,
            "_view_module": "@jupyter-widgets/controls",
            "_view_module_version": "1.5.0",
            "_view_name": "ProgressView",
            "bar_style": "",
            "description": "",
            "description_tooltip": null,
            "layout": "IPY_MODEL_b9343ca69d0d43389a47a6912ae21808",
            "max": 2000,
            "min": 0,
            "orientation": "horizontal",
            "style": "IPY_MODEL_3683bdce2ae44d2aadb71841dc67e3b6",
            "value": 2000
          }
        },
        "19a4803a079c4b778a2698d42b0f9e9e": {
          "model_module": "@jupyter-widgets/controls",
          "model_name": "HTMLModel",
          "model_module_version": "1.5.0",
          "state": {
            "_dom_classes": [],
            "_model_module": "@jupyter-widgets/controls",
            "_model_module_version": "1.5.0",
            "_model_name": "HTMLModel",
            "_view_count": null,
            "_view_module": "@jupyter-widgets/controls",
            "_view_module_version": "1.5.0",
            "_view_name": "HTMLView",
            "description": "",
            "description_tooltip": null,
            "layout": "IPY_MODEL_70c573d001984796a6294ad346cf1eae",
            "placeholder": "​",
            "style": "IPY_MODEL_ccdcd2e4d0fe4aceb6993cdf35ee3648",
            "value": " 0/2000 [00:00&lt;?, ? examples/s]"
          }
        },
        "210ba4c0c8cf412cb47bc98ff8c9928b": {
          "model_module": "@jupyter-widgets/base",
          "model_name": "LayoutModel",
          "model_module_version": "1.2.0",
          "state": {
            "_model_module": "@jupyter-widgets/base",
            "_model_module_version": "1.2.0",
            "_model_name": "LayoutModel",
            "_view_count": null,
            "_view_module": "@jupyter-widgets/base",
            "_view_module_version": "1.2.0",
            "_view_name": "LayoutView",
            "align_content": null,
            "align_items": null,
            "align_self": null,
            "border": null,
            "bottom": null,
            "display": null,
            "flex": null,
            "flex_flow": null,
            "grid_area": null,
            "grid_auto_columns": null,
            "grid_auto_flow": null,
            "grid_auto_rows": null,
            "grid_column": null,
            "grid_gap": null,
            "grid_row": null,
            "grid_template_areas": null,
            "grid_template_columns": null,
            "grid_template_rows": null,
            "height": null,
            "justify_content": null,
            "justify_items": null,
            "left": null,
            "margin": null,
            "max_height": null,
            "max_width": null,
            "min_height": null,
            "min_width": null,
            "object_fit": null,
            "object_position": null,
            "order": null,
            "overflow": null,
            "overflow_x": null,
            "overflow_y": null,
            "padding": null,
            "right": null,
            "top": null,
            "visibility": "hidden",
            "width": null
          }
        },
        "2acd3b55858844c2a95d10e0d8397622": {
          "model_module": "@jupyter-widgets/base",
          "model_name": "LayoutModel",
          "model_module_version": "1.2.0",
          "state": {
            "_model_module": "@jupyter-widgets/base",
            "_model_module_version": "1.2.0",
            "_model_name": "LayoutModel",
            "_view_count": null,
            "_view_module": "@jupyter-widgets/base",
            "_view_module_version": "1.2.0",
            "_view_name": "LayoutView",
            "align_content": null,
            "align_items": null,
            "align_self": null,
            "border": null,
            "bottom": null,
            "display": null,
            "flex": null,
            "flex_flow": null,
            "grid_area": null,
            "grid_auto_columns": null,
            "grid_auto_flow": null,
            "grid_auto_rows": null,
            "grid_column": null,
            "grid_gap": null,
            "grid_row": null,
            "grid_template_areas": null,
            "grid_template_columns": null,
            "grid_template_rows": null,
            "height": null,
            "justify_content": null,
            "justify_items": null,
            "left": null,
            "margin": null,
            "max_height": null,
            "max_width": null,
            "min_height": null,
            "min_width": null,
            "object_fit": null,
            "object_position": null,
            "order": null,
            "overflow": null,
            "overflow_x": null,
            "overflow_y": null,
            "padding": null,
            "right": null,
            "top": null,
            "visibility": null,
            "width": null
          }
        },
        "1c59295f3d6446af9dce22f892dcfe31": {
          "model_module": "@jupyter-widgets/controls",
          "model_name": "DescriptionStyleModel",
          "model_module_version": "1.5.0",
          "state": {
            "_model_module": "@jupyter-widgets/controls",
            "_model_module_version": "1.5.0",
            "_model_name": "DescriptionStyleModel",
            "_view_count": null,
            "_view_module": "@jupyter-widgets/base",
            "_view_module_version": "1.2.0",
            "_view_name": "StyleView",
            "description_width": ""
          }
        },
        "b9343ca69d0d43389a47a6912ae21808": {
          "model_module": "@jupyter-widgets/base",
          "model_name": "LayoutModel",
          "model_module_version": "1.2.0",
          "state": {
            "_model_module": "@jupyter-widgets/base",
            "_model_module_version": "1.2.0",
            "_model_name": "LayoutModel",
            "_view_count": null,
            "_view_module": "@jupyter-widgets/base",
            "_view_module_version": "1.2.0",
            "_view_name": "LayoutView",
            "align_content": null,
            "align_items": null,
            "align_self": null,
            "border": null,
            "bottom": null,
            "display": null,
            "flex": null,
            "flex_flow": null,
            "grid_area": null,
            "grid_auto_columns": null,
            "grid_auto_flow": null,
            "grid_auto_rows": null,
            "grid_column": null,
            "grid_gap": null,
            "grid_row": null,
            "grid_template_areas": null,
            "grid_template_columns": null,
            "grid_template_rows": null,
            "height": null,
            "justify_content": null,
            "justify_items": null,
            "left": null,
            "margin": null,
            "max_height": null,
            "max_width": null,
            "min_height": null,
            "min_width": null,
            "object_fit": null,
            "object_position": null,
            "order": null,
            "overflow": null,
            "overflow_x": null,
            "overflow_y": null,
            "padding": null,
            "right": null,
            "top": null,
            "visibility": null,
            "width": null
          }
        },
        "3683bdce2ae44d2aadb71841dc67e3b6": {
          "model_module": "@jupyter-widgets/controls",
          "model_name": "ProgressStyleModel",
          "model_module_version": "1.5.0",
          "state": {
            "_model_module": "@jupyter-widgets/controls",
            "_model_module_version": "1.5.0",
            "_model_name": "ProgressStyleModel",
            "_view_count": null,
            "_view_module": "@jupyter-widgets/base",
            "_view_module_version": "1.2.0",
            "_view_name": "StyleView",
            "bar_color": null,
            "description_width": ""
          }
        },
        "70c573d001984796a6294ad346cf1eae": {
          "model_module": "@jupyter-widgets/base",
          "model_name": "LayoutModel",
          "model_module_version": "1.2.0",
          "state": {
            "_model_module": "@jupyter-widgets/base",
            "_model_module_version": "1.2.0",
            "_model_name": "LayoutModel",
            "_view_count": null,
            "_view_module": "@jupyter-widgets/base",
            "_view_module_version": "1.2.0",
            "_view_name": "LayoutView",
            "align_content": null,
            "align_items": null,
            "align_self": null,
            "border": null,
            "bottom": null,
            "display": null,
            "flex": null,
            "flex_flow": null,
            "grid_area": null,
            "grid_auto_columns": null,
            "grid_auto_flow": null,
            "grid_auto_rows": null,
            "grid_column": null,
            "grid_gap": null,
            "grid_row": null,
            "grid_template_areas": null,
            "grid_template_columns": null,
            "grid_template_rows": null,
            "height": null,
            "justify_content": null,
            "justify_items": null,
            "left": null,
            "margin": null,
            "max_height": null,
            "max_width": null,
            "min_height": null,
            "min_width": null,
            "object_fit": null,
            "object_position": null,
            "order": null,
            "overflow": null,
            "overflow_x": null,
            "overflow_y": null,
            "padding": null,
            "right": null,
            "top": null,
            "visibility": null,
            "width": null
          }
        },
        "ccdcd2e4d0fe4aceb6993cdf35ee3648": {
          "model_module": "@jupyter-widgets/controls",
          "model_name": "DescriptionStyleModel",
          "model_module_version": "1.5.0",
          "state": {
            "_model_module": "@jupyter-widgets/controls",
            "_model_module_version": "1.5.0",
            "_model_name": "DescriptionStyleModel",
            "_view_count": null,
            "_view_module": "@jupyter-widgets/base",
            "_view_module_version": "1.2.0",
            "_view_name": "StyleView",
            "description_width": ""
          }
        },
        "eade98533ce54af0843c010a3fdeef3b": {
          "model_module": "@jupyter-widgets/controls",
          "model_name": "HBoxModel",
          "model_module_version": "1.5.0",
          "state": {
            "_dom_classes": [],
            "_model_module": "@jupyter-widgets/controls",
            "_model_module_version": "1.5.0",
            "_model_name": "HBoxModel",
            "_view_count": null,
            "_view_module": "@jupyter-widgets/controls",
            "_view_module_version": "1.5.0",
            "_view_name": "HBoxView",
            "box_style": "",
            "children": [
              "IPY_MODEL_a8e716b484164a20805fe82897c41f75",
              "IPY_MODEL_61e379e308aa4a5387936ffe65f3cd74",
              "IPY_MODEL_c30d2d9233294ae88dcb1c595c4bb7de"
            ],
            "layout": "IPY_MODEL_0354c5a561fe413599e083fe1fc07d77"
          }
        },
        "a8e716b484164a20805fe82897c41f75": {
          "model_module": "@jupyter-widgets/controls",
          "model_name": "HTMLModel",
          "model_module_version": "1.5.0",
          "state": {
            "_dom_classes": [],
            "_model_module": "@jupyter-widgets/controls",
            "_model_module_version": "1.5.0",
            "_model_name": "HTMLModel",
            "_view_count": null,
            "_view_module": "@jupyter-widgets/controls",
            "_view_module_version": "1.5.0",
            "_view_name": "HTMLView",
            "description": "",
            "description_tooltip": null,
            "layout": "IPY_MODEL_fd214e7835d04234ab63c18681e0af71",
            "placeholder": "​",
            "style": "IPY_MODEL_bb1f04adb9924fb18d4523bd3223155f",
            "value": "Generating test examples...:  98%"
          }
        },
        "61e379e308aa4a5387936ffe65f3cd74": {
          "model_module": "@jupyter-widgets/controls",
          "model_name": "FloatProgressModel",
          "model_module_version": "1.5.0",
          "state": {
            "_dom_classes": [],
            "_model_module": "@jupyter-widgets/controls",
            "_model_module_version": "1.5.0",
            "_model_name": "FloatProgressModel",
            "_view_count": null,
            "_view_module": "@jupyter-widgets/controls",
            "_view_module_version": "1.5.0",
            "_view_name": "ProgressView",
            "bar_style": "",
            "description": "",
            "description_tooltip": null,
            "layout": "IPY_MODEL_1cc8132b5165494f871135b1e822f6d8",
            "max": 2000,
            "min": 0,
            "orientation": "horizontal",
            "style": "IPY_MODEL_92d76ae272c2446abaf0908da19c7257",
            "value": 2000
          }
        },
        "c30d2d9233294ae88dcb1c595c4bb7de": {
          "model_module": "@jupyter-widgets/controls",
          "model_name": "HTMLModel",
          "model_module_version": "1.5.0",
          "state": {
            "_dom_classes": [],
            "_model_module": "@jupyter-widgets/controls",
            "_model_module_version": "1.5.0",
            "_model_name": "HTMLModel",
            "_view_count": null,
            "_view_module": "@jupyter-widgets/controls",
            "_view_module_version": "1.5.0",
            "_view_name": "HTMLView",
            "description": "",
            "description_tooltip": null,
            "layout": "IPY_MODEL_6166c96a96cb44098955e9193fa0a318",
            "placeholder": "​",
            "style": "IPY_MODEL_b175e595e23b4e2b8c753c2083dfe2ca",
            "value": " 1959/2000 [01:08&lt;00:01, 33.37 examples/s]"
          }
        },
        "0354c5a561fe413599e083fe1fc07d77": {
          "model_module": "@jupyter-widgets/base",
          "model_name": "LayoutModel",
          "model_module_version": "1.2.0",
          "state": {
            "_model_module": "@jupyter-widgets/base",
            "_model_module_version": "1.2.0",
            "_model_name": "LayoutModel",
            "_view_count": null,
            "_view_module": "@jupyter-widgets/base",
            "_view_module_version": "1.2.0",
            "_view_name": "LayoutView",
            "align_content": null,
            "align_items": null,
            "align_self": null,
            "border": null,
            "bottom": null,
            "display": null,
            "flex": null,
            "flex_flow": null,
            "grid_area": null,
            "grid_auto_columns": null,
            "grid_auto_flow": null,
            "grid_auto_rows": null,
            "grid_column": null,
            "grid_gap": null,
            "grid_row": null,
            "grid_template_areas": null,
            "grid_template_columns": null,
            "grid_template_rows": null,
            "height": null,
            "justify_content": null,
            "justify_items": null,
            "left": null,
            "margin": null,
            "max_height": null,
            "max_width": null,
            "min_height": null,
            "min_width": null,
            "object_fit": null,
            "object_position": null,
            "order": null,
            "overflow": null,
            "overflow_x": null,
            "overflow_y": null,
            "padding": null,
            "right": null,
            "top": null,
            "visibility": "hidden",
            "width": null
          }
        },
        "fd214e7835d04234ab63c18681e0af71": {
          "model_module": "@jupyter-widgets/base",
          "model_name": "LayoutModel",
          "model_module_version": "1.2.0",
          "state": {
            "_model_module": "@jupyter-widgets/base",
            "_model_module_version": "1.2.0",
            "_model_name": "LayoutModel",
            "_view_count": null,
            "_view_module": "@jupyter-widgets/base",
            "_view_module_version": "1.2.0",
            "_view_name": "LayoutView",
            "align_content": null,
            "align_items": null,
            "align_self": null,
            "border": null,
            "bottom": null,
            "display": null,
            "flex": null,
            "flex_flow": null,
            "grid_area": null,
            "grid_auto_columns": null,
            "grid_auto_flow": null,
            "grid_auto_rows": null,
            "grid_column": null,
            "grid_gap": null,
            "grid_row": null,
            "grid_template_areas": null,
            "grid_template_columns": null,
            "grid_template_rows": null,
            "height": null,
            "justify_content": null,
            "justify_items": null,
            "left": null,
            "margin": null,
            "max_height": null,
            "max_width": null,
            "min_height": null,
            "min_width": null,
            "object_fit": null,
            "object_position": null,
            "order": null,
            "overflow": null,
            "overflow_x": null,
            "overflow_y": null,
            "padding": null,
            "right": null,
            "top": null,
            "visibility": null,
            "width": null
          }
        },
        "bb1f04adb9924fb18d4523bd3223155f": {
          "model_module": "@jupyter-widgets/controls",
          "model_name": "DescriptionStyleModel",
          "model_module_version": "1.5.0",
          "state": {
            "_model_module": "@jupyter-widgets/controls",
            "_model_module_version": "1.5.0",
            "_model_name": "DescriptionStyleModel",
            "_view_count": null,
            "_view_module": "@jupyter-widgets/base",
            "_view_module_version": "1.2.0",
            "_view_name": "StyleView",
            "description_width": ""
          }
        },
        "1cc8132b5165494f871135b1e822f6d8": {
          "model_module": "@jupyter-widgets/base",
          "model_name": "LayoutModel",
          "model_module_version": "1.2.0",
          "state": {
            "_model_module": "@jupyter-widgets/base",
            "_model_module_version": "1.2.0",
            "_model_name": "LayoutModel",
            "_view_count": null,
            "_view_module": "@jupyter-widgets/base",
            "_view_module_version": "1.2.0",
            "_view_name": "LayoutView",
            "align_content": null,
            "align_items": null,
            "align_self": null,
            "border": null,
            "bottom": null,
            "display": null,
            "flex": null,
            "flex_flow": null,
            "grid_area": null,
            "grid_auto_columns": null,
            "grid_auto_flow": null,
            "grid_auto_rows": null,
            "grid_column": null,
            "grid_gap": null,
            "grid_row": null,
            "grid_template_areas": null,
            "grid_template_columns": null,
            "grid_template_rows": null,
            "height": null,
            "justify_content": null,
            "justify_items": null,
            "left": null,
            "margin": null,
            "max_height": null,
            "max_width": null,
            "min_height": null,
            "min_width": null,
            "object_fit": null,
            "object_position": null,
            "order": null,
            "overflow": null,
            "overflow_x": null,
            "overflow_y": null,
            "padding": null,
            "right": null,
            "top": null,
            "visibility": null,
            "width": null
          }
        },
        "92d76ae272c2446abaf0908da19c7257": {
          "model_module": "@jupyter-widgets/controls",
          "model_name": "ProgressStyleModel",
          "model_module_version": "1.5.0",
          "state": {
            "_model_module": "@jupyter-widgets/controls",
            "_model_module_version": "1.5.0",
            "_model_name": "ProgressStyleModel",
            "_view_count": null,
            "_view_module": "@jupyter-widgets/base",
            "_view_module_version": "1.2.0",
            "_view_name": "StyleView",
            "bar_color": null,
            "description_width": ""
          }
        },
        "6166c96a96cb44098955e9193fa0a318": {
          "model_module": "@jupyter-widgets/base",
          "model_name": "LayoutModel",
          "model_module_version": "1.2.0",
          "state": {
            "_model_module": "@jupyter-widgets/base",
            "_model_module_version": "1.2.0",
            "_model_name": "LayoutModel",
            "_view_count": null,
            "_view_module": "@jupyter-widgets/base",
            "_view_module_version": "1.2.0",
            "_view_name": "LayoutView",
            "align_content": null,
            "align_items": null,
            "align_self": null,
            "border": null,
            "bottom": null,
            "display": null,
            "flex": null,
            "flex_flow": null,
            "grid_area": null,
            "grid_auto_columns": null,
            "grid_auto_flow": null,
            "grid_auto_rows": null,
            "grid_column": null,
            "grid_gap": null,
            "grid_row": null,
            "grid_template_areas": null,
            "grid_template_columns": null,
            "grid_template_rows": null,
            "height": null,
            "justify_content": null,
            "justify_items": null,
            "left": null,
            "margin": null,
            "max_height": null,
            "max_width": null,
            "min_height": null,
            "min_width": null,
            "object_fit": null,
            "object_position": null,
            "order": null,
            "overflow": null,
            "overflow_x": null,
            "overflow_y": null,
            "padding": null,
            "right": null,
            "top": null,
            "visibility": null,
            "width": null
          }
        },
        "b175e595e23b4e2b8c753c2083dfe2ca": {
          "model_module": "@jupyter-widgets/controls",
          "model_name": "DescriptionStyleModel",
          "model_module_version": "1.5.0",
          "state": {
            "_model_module": "@jupyter-widgets/controls",
            "_model_module_version": "1.5.0",
            "_model_name": "DescriptionStyleModel",
            "_view_count": null,
            "_view_module": "@jupyter-widgets/base",
            "_view_module_version": "1.2.0",
            "_view_name": "StyleView",
            "description_width": ""
          }
        },
        "0ec42f024e954fbdabe14f13ed2e02f4": {
          "model_module": "@jupyter-widgets/controls",
          "model_name": "HBoxModel",
          "model_module_version": "1.5.0",
          "state": {
            "_dom_classes": [],
            "_model_module": "@jupyter-widgets/controls",
            "_model_module_version": "1.5.0",
            "_model_name": "HBoxModel",
            "_view_count": null,
            "_view_module": "@jupyter-widgets/controls",
            "_view_module_version": "1.5.0",
            "_view_name": "HBoxView",
            "box_style": "",
            "children": [
              "IPY_MODEL_58cca7a0fe964509abd3914f7266c2fb",
              "IPY_MODEL_08ba57a77ebe4a0aa03b75829b65bdee",
              "IPY_MODEL_df984bb387ea45628e719c4c2ca2df71"
            ],
            "layout": "IPY_MODEL_9c0e9f7672324aa9be611362c9592c84"
          }
        },
        "58cca7a0fe964509abd3914f7266c2fb": {
          "model_module": "@jupyter-widgets/controls",
          "model_name": "HTMLModel",
          "model_module_version": "1.5.0",
          "state": {
            "_dom_classes": [],
            "_model_module": "@jupyter-widgets/controls",
            "_model_module_version": "1.5.0",
            "_model_name": "HTMLModel",
            "_view_count": null,
            "_view_module": "@jupyter-widgets/controls",
            "_view_module_version": "1.5.0",
            "_view_name": "HTMLView",
            "description": "",
            "description_tooltip": null,
            "layout": "IPY_MODEL_5452b5b6517d4fceb2d4a7d6ac9256af",
            "placeholder": "​",
            "style": "IPY_MODEL_a3f9dfc1c961470b91cb7bd3fcaf859f",
            "value": "Shuffling /root/tensorflow_datasets/mslr_web/10k_fold1/incomplete.89F9CE_1.2.0/mslr_web-test.tfrecord*...:   0%"
          }
        },
        "08ba57a77ebe4a0aa03b75829b65bdee": {
          "model_module": "@jupyter-widgets/controls",
          "model_name": "FloatProgressModel",
          "model_module_version": "1.5.0",
          "state": {
            "_dom_classes": [],
            "_model_module": "@jupyter-widgets/controls",
            "_model_module_version": "1.5.0",
            "_model_name": "FloatProgressModel",
            "_view_count": null,
            "_view_module": "@jupyter-widgets/controls",
            "_view_module_version": "1.5.0",
            "_view_name": "ProgressView",
            "bar_style": "",
            "description": "",
            "description_tooltip": null,
            "layout": "IPY_MODEL_38e4b4fa03814c50b8f01eb7eedc552d",
            "max": 2000,
            "min": 0,
            "orientation": "horizontal",
            "style": "IPY_MODEL_cddb34b90b1a494c9d6fc094060ea004",
            "value": 2000
          }
        },
        "df984bb387ea45628e719c4c2ca2df71": {
          "model_module": "@jupyter-widgets/controls",
          "model_name": "HTMLModel",
          "model_module_version": "1.5.0",
          "state": {
            "_dom_classes": [],
            "_model_module": "@jupyter-widgets/controls",
            "_model_module_version": "1.5.0",
            "_model_name": "HTMLModel",
            "_view_count": null,
            "_view_module": "@jupyter-widgets/controls",
            "_view_module_version": "1.5.0",
            "_view_name": "HTMLView",
            "description": "",
            "description_tooltip": null,
            "layout": "IPY_MODEL_7e7c67dc66d544d8b8c41535dfb29f59",
            "placeholder": "​",
            "style": "IPY_MODEL_835d093e8d7a4bfd8ca0dcdd72ca5af2",
            "value": " 0/2000 [00:00&lt;?, ? examples/s]"
          }
        },
        "9c0e9f7672324aa9be611362c9592c84": {
          "model_module": "@jupyter-widgets/base",
          "model_name": "LayoutModel",
          "model_module_version": "1.2.0",
          "state": {
            "_model_module": "@jupyter-widgets/base",
            "_model_module_version": "1.2.0",
            "_model_name": "LayoutModel",
            "_view_count": null,
            "_view_module": "@jupyter-widgets/base",
            "_view_module_version": "1.2.0",
            "_view_name": "LayoutView",
            "align_content": null,
            "align_items": null,
            "align_self": null,
            "border": null,
            "bottom": null,
            "display": null,
            "flex": null,
            "flex_flow": null,
            "grid_area": null,
            "grid_auto_columns": null,
            "grid_auto_flow": null,
            "grid_auto_rows": null,
            "grid_column": null,
            "grid_gap": null,
            "grid_row": null,
            "grid_template_areas": null,
            "grid_template_columns": null,
            "grid_template_rows": null,
            "height": null,
            "justify_content": null,
            "justify_items": null,
            "left": null,
            "margin": null,
            "max_height": null,
            "max_width": null,
            "min_height": null,
            "min_width": null,
            "object_fit": null,
            "object_position": null,
            "order": null,
            "overflow": null,
            "overflow_x": null,
            "overflow_y": null,
            "padding": null,
            "right": null,
            "top": null,
            "visibility": "hidden",
            "width": null
          }
        },
        "5452b5b6517d4fceb2d4a7d6ac9256af": {
          "model_module": "@jupyter-widgets/base",
          "model_name": "LayoutModel",
          "model_module_version": "1.2.0",
          "state": {
            "_model_module": "@jupyter-widgets/base",
            "_model_module_version": "1.2.0",
            "_model_name": "LayoutModel",
            "_view_count": null,
            "_view_module": "@jupyter-widgets/base",
            "_view_module_version": "1.2.0",
            "_view_name": "LayoutView",
            "align_content": null,
            "align_items": null,
            "align_self": null,
            "border": null,
            "bottom": null,
            "display": null,
            "flex": null,
            "flex_flow": null,
            "grid_area": null,
            "grid_auto_columns": null,
            "grid_auto_flow": null,
            "grid_auto_rows": null,
            "grid_column": null,
            "grid_gap": null,
            "grid_row": null,
            "grid_template_areas": null,
            "grid_template_columns": null,
            "grid_template_rows": null,
            "height": null,
            "justify_content": null,
            "justify_items": null,
            "left": null,
            "margin": null,
            "max_height": null,
            "max_width": null,
            "min_height": null,
            "min_width": null,
            "object_fit": null,
            "object_position": null,
            "order": null,
            "overflow": null,
            "overflow_x": null,
            "overflow_y": null,
            "padding": null,
            "right": null,
            "top": null,
            "visibility": null,
            "width": null
          }
        },
        "a3f9dfc1c961470b91cb7bd3fcaf859f": {
          "model_module": "@jupyter-widgets/controls",
          "model_name": "DescriptionStyleModel",
          "model_module_version": "1.5.0",
          "state": {
            "_model_module": "@jupyter-widgets/controls",
            "_model_module_version": "1.5.0",
            "_model_name": "DescriptionStyleModel",
            "_view_count": null,
            "_view_module": "@jupyter-widgets/base",
            "_view_module_version": "1.2.0",
            "_view_name": "StyleView",
            "description_width": ""
          }
        },
        "38e4b4fa03814c50b8f01eb7eedc552d": {
          "model_module": "@jupyter-widgets/base",
          "model_name": "LayoutModel",
          "model_module_version": "1.2.0",
          "state": {
            "_model_module": "@jupyter-widgets/base",
            "_model_module_version": "1.2.0",
            "_model_name": "LayoutModel",
            "_view_count": null,
            "_view_module": "@jupyter-widgets/base",
            "_view_module_version": "1.2.0",
            "_view_name": "LayoutView",
            "align_content": null,
            "align_items": null,
            "align_self": null,
            "border": null,
            "bottom": null,
            "display": null,
            "flex": null,
            "flex_flow": null,
            "grid_area": null,
            "grid_auto_columns": null,
            "grid_auto_flow": null,
            "grid_auto_rows": null,
            "grid_column": null,
            "grid_gap": null,
            "grid_row": null,
            "grid_template_areas": null,
            "grid_template_columns": null,
            "grid_template_rows": null,
            "height": null,
            "justify_content": null,
            "justify_items": null,
            "left": null,
            "margin": null,
            "max_height": null,
            "max_width": null,
            "min_height": null,
            "min_width": null,
            "object_fit": null,
            "object_position": null,
            "order": null,
            "overflow": null,
            "overflow_x": null,
            "overflow_y": null,
            "padding": null,
            "right": null,
            "top": null,
            "visibility": null,
            "width": null
          }
        },
        "cddb34b90b1a494c9d6fc094060ea004": {
          "model_module": "@jupyter-widgets/controls",
          "model_name": "ProgressStyleModel",
          "model_module_version": "1.5.0",
          "state": {
            "_model_module": "@jupyter-widgets/controls",
            "_model_module_version": "1.5.0",
            "_model_name": "ProgressStyleModel",
            "_view_count": null,
            "_view_module": "@jupyter-widgets/base",
            "_view_module_version": "1.2.0",
            "_view_name": "StyleView",
            "bar_color": null,
            "description_width": ""
          }
        },
        "7e7c67dc66d544d8b8c41535dfb29f59": {
          "model_module": "@jupyter-widgets/base",
          "model_name": "LayoutModel",
          "model_module_version": "1.2.0",
          "state": {
            "_model_module": "@jupyter-widgets/base",
            "_model_module_version": "1.2.0",
            "_model_name": "LayoutModel",
            "_view_count": null,
            "_view_module": "@jupyter-widgets/base",
            "_view_module_version": "1.2.0",
            "_view_name": "LayoutView",
            "align_content": null,
            "align_items": null,
            "align_self": null,
            "border": null,
            "bottom": null,
            "display": null,
            "flex": null,
            "flex_flow": null,
            "grid_area": null,
            "grid_auto_columns": null,
            "grid_auto_flow": null,
            "grid_auto_rows": null,
            "grid_column": null,
            "grid_gap": null,
            "grid_row": null,
            "grid_template_areas": null,
            "grid_template_columns": null,
            "grid_template_rows": null,
            "height": null,
            "justify_content": null,
            "justify_items": null,
            "left": null,
            "margin": null,
            "max_height": null,
            "max_width": null,
            "min_height": null,
            "min_width": null,
            "object_fit": null,
            "object_position": null,
            "order": null,
            "overflow": null,
            "overflow_x": null,
            "overflow_y": null,
            "padding": null,
            "right": null,
            "top": null,
            "visibility": null,
            "width": null
          }
        },
        "835d093e8d7a4bfd8ca0dcdd72ca5af2": {
          "model_module": "@jupyter-widgets/controls",
          "model_name": "DescriptionStyleModel",
          "model_module_version": "1.5.0",
          "state": {
            "_model_module": "@jupyter-widgets/controls",
            "_model_module_version": "1.5.0",
            "_model_name": "DescriptionStyleModel",
            "_view_count": null,
            "_view_module": "@jupyter-widgets/base",
            "_view_module_version": "1.2.0",
            "_view_name": "StyleView",
            "description_width": ""
          }
        }
      }
    }
  },
  "nbformat": 4,
  "nbformat_minor": 5
}